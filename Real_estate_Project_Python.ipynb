{
 "cells": [
  {
   "cell_type": "markdown",
   "metadata": {},
   "source": [
    "\n",
    "\n",
    "# Project-5"
   ]
  },
  {
   "cell_type": "markdown",
   "metadata": {},
   "source": [
    "# Formal Problem Statement\n",
    "Variable names are self explanatory and there is no formal data dictionary provided by the client .\n",
    "Your task here is to build a predictive model for predicting whether a property should be marked\n",
    "as junk on the basis of listing details and preliminary assessment details. You need to build your\n",
    "model on the train dataset. Test dataset does not have a response column; you need to\n",
    "predict those values and submit it in a csv format."
   ]
  },
  {
   "cell_type": "markdown",
   "metadata": {},
   "source": [
    "# target = Junk"
   ]
  },
  {
   "cell_type": "code",
   "execution_count": 59,
   "metadata": {},
   "outputs": [],
   "source": [
    "import warnings\n",
    "warnings.filterwarnings('ignore')\n",
    "import pandas as pd\n",
    "import numpy as np\n",
    "import xgboost as xgb\n",
    "\n",
    "from sklearn.model_selection import RandomizedSearchCV,train_test_split\n",
    "\n",
    "from xgboost.sklearn import XGBClassifier "
   ]
  },
  {
   "cell_type": "code",
   "execution_count": 60,
   "metadata": {},
   "outputs": [],
   "source": [
    "datafile_train=r\"C:\\Users\\sindhuja\\Desktop\\python\\project\\project-5\\Property_train.csv\"\n",
    "datafile_test=r\"C:\\Users\\sindhuja\\Desktop\\python\\project\\project-5\\Property_test_share.csv\"\n",
    "bd_train=pd.read_csv(datafile_train)\n",
    "bd_test=pd.read_csv(datafile_test)"
   ]
  },
  {
   "cell_type": "code",
   "execution_count": 61,
   "metadata": {},
   "outputs": [
    {
     "data": {
      "text/html": [
       "<div>\n",
       "<style scoped>\n",
       "    .dataframe tbody tr th:only-of-type {\n",
       "        vertical-align: middle;\n",
       "    }\n",
       "\n",
       "    .dataframe tbody tr th {\n",
       "        vertical-align: top;\n",
       "    }\n",
       "\n",
       "    .dataframe thead th {\n",
       "        text-align: right;\n",
       "    }\n",
       "</style>\n",
       "<table border=\"1\" class=\"dataframe\">\n",
       "  <thead>\n",
       "    <tr style=\"text-align: right;\">\n",
       "      <th></th>\n",
       "      <th>Junk</th>\n",
       "      <th>InteriorsStyle</th>\n",
       "      <th>PriceIndex8</th>\n",
       "      <th>ListDate</th>\n",
       "      <th>Material</th>\n",
       "      <th>PriceIndex9</th>\n",
       "      <th>Agency</th>\n",
       "      <th>AreaIncomeType</th>\n",
       "      <th>EnvRating</th>\n",
       "      <th>PriceIndex7</th>\n",
       "      <th>...</th>\n",
       "      <th>Region</th>\n",
       "      <th>PriceIndex5</th>\n",
       "      <th>SubModel</th>\n",
       "      <th>Facade</th>\n",
       "      <th>State</th>\n",
       "      <th>NormalisedPopulation</th>\n",
       "      <th>BuildYear</th>\n",
       "      <th>RegionType</th>\n",
       "      <th>PropertyAge</th>\n",
       "      <th>PriceIndex2</th>\n",
       "    </tr>\n",
       "  </thead>\n",
       "  <tbody>\n",
       "    <tr>\n",
       "      <th>0</th>\n",
       "      <td>0</td>\n",
       "      <td>6LLJ</td>\n",
       "      <td>14674.0</td>\n",
       "      <td>9/7/2010</td>\n",
       "      <td>UT7W</td>\n",
       "      <td>8270</td>\n",
       "      <td>CAT3</td>\n",
       "      <td>B</td>\n",
       "      <td>missing</td>\n",
       "      <td>13143.0</td>\n",
       "      <td>...</td>\n",
       "      <td>A</td>\n",
       "      <td>9022.0</td>\n",
       "      <td>6E9G</td>\n",
       "      <td>GREEN</td>\n",
       "      <td>MD</td>\n",
       "      <td>42077</td>\n",
       "      <td>2008</td>\n",
       "      <td>A</td>\n",
       "      <td>2</td>\n",
       "      <td>10692.0</td>\n",
       "    </tr>\n",
       "    <tr>\n",
       "      <th>1</th>\n",
       "      <td>1</td>\n",
       "      <td>XZ9F</td>\n",
       "      <td>4172.0</td>\n",
       "      <td>1/7/2009</td>\n",
       "      <td>PRN0</td>\n",
       "      <td>3890</td>\n",
       "      <td>CAT2</td>\n",
       "      <td>B</td>\n",
       "      <td>missing</td>\n",
       "      <td>3461.0</td>\n",
       "      <td>...</td>\n",
       "      <td>A</td>\n",
       "      <td>2742.0</td>\n",
       "      <td>FIVQ</td>\n",
       "      <td>SILVER</td>\n",
       "      <td>OK</td>\n",
       "      <td>77258</td>\n",
       "      <td>2002</td>\n",
       "      <td>A</td>\n",
       "      <td>7</td>\n",
       "      <td>3615.0</td>\n",
       "    </tr>\n",
       "    <tr>\n",
       "      <th>2</th>\n",
       "      <td>0</td>\n",
       "      <td>QWEV</td>\n",
       "      <td>8210.0</td>\n",
       "      <td>6/23/2010</td>\n",
       "      <td>A9RA</td>\n",
       "      <td>5900</td>\n",
       "      <td>CAT1</td>\n",
       "      <td>B</td>\n",
       "      <td>missing</td>\n",
       "      <td>6922.0</td>\n",
       "      <td>...</td>\n",
       "      <td>A</td>\n",
       "      <td>3768.0</td>\n",
       "      <td>4K0H</td>\n",
       "      <td>SILVER</td>\n",
       "      <td>SC</td>\n",
       "      <td>94514</td>\n",
       "      <td>2004</td>\n",
       "      <td>A</td>\n",
       "      <td>6</td>\n",
       "      <td>5805.0</td>\n",
       "    </tr>\n",
       "    <tr>\n",
       "      <th>3</th>\n",
       "      <td>0</td>\n",
       "      <td>MK2K</td>\n",
       "      <td>7309.0</td>\n",
       "      <td>3/19/2009</td>\n",
       "      <td>RRJQ</td>\n",
       "      <td>7460</td>\n",
       "      <td>OTHER</td>\n",
       "      <td>A</td>\n",
       "      <td>missing</td>\n",
       "      <td>6300.0</td>\n",
       "      <td>...</td>\n",
       "      <td>A</td>\n",
       "      <td>5370.0</td>\n",
       "      <td>ZLXY</td>\n",
       "      <td>WHITE</td>\n",
       "      <td>NC</td>\n",
       "      <td>82302</td>\n",
       "      <td>2002</td>\n",
       "      <td>C</td>\n",
       "      <td>7</td>\n",
       "      <td>6444.0</td>\n",
       "    </tr>\n",
       "    <tr>\n",
       "      <th>4</th>\n",
       "      <td>0</td>\n",
       "      <td>GK4G</td>\n",
       "      <td>9182.0</td>\n",
       "      <td>3/3/2010</td>\n",
       "      <td>HE5A</td>\n",
       "      <td>6400</td>\n",
       "      <td>OTHER</td>\n",
       "      <td>B</td>\n",
       "      <td>missing</td>\n",
       "      <td>8330.0</td>\n",
       "      <td>...</td>\n",
       "      <td>A</td>\n",
       "      <td>4803.0</td>\n",
       "      <td>FIVQ</td>\n",
       "      <td>SILVER</td>\n",
       "      <td>SC</td>\n",
       "      <td>49176</td>\n",
       "      <td>2007</td>\n",
       "      <td>B</td>\n",
       "      <td>3</td>\n",
       "      <td>6286.0</td>\n",
       "    </tr>\n",
       "  </tbody>\n",
       "</table>\n",
       "<p>5 rows × 31 columns</p>\n",
       "</div>"
      ],
      "text/plain": [
       "   Junk InteriorsStyle PriceIndex8   ListDate Material  PriceIndex9 Agency  \\\n",
       "0     0           6LLJ     14674.0   9/7/2010     UT7W         8270   CAT3   \n",
       "1     1           XZ9F      4172.0   1/7/2009     PRN0         3890   CAT2   \n",
       "2     0           QWEV      8210.0  6/23/2010     A9RA         5900   CAT1   \n",
       "3     0           MK2K      7309.0  3/19/2009     RRJQ         7460  OTHER   \n",
       "4     0           GK4G      9182.0   3/3/2010     HE5A         6400  OTHER   \n",
       "\n",
       "  AreaIncomeType EnvRating PriceIndex7  ...  Region PriceIndex5 SubModel  \\\n",
       "0              B   missing     13143.0  ...       A      9022.0     6E9G   \n",
       "1              B   missing      3461.0  ...       A      2742.0     FIVQ   \n",
       "2              B   missing      6922.0  ...       A      3768.0     4K0H   \n",
       "3              A   missing      6300.0  ...       A      5370.0     ZLXY   \n",
       "4              B   missing      8330.0  ...       A      4803.0     FIVQ   \n",
       "\n",
       "   Facade State NormalisedPopulation  BuildYear  RegionType PropertyAge  \\\n",
       "0   GREEN    MD                42077       2008           A           2   \n",
       "1  SILVER    OK                77258       2002           A           7   \n",
       "2  SILVER    SC                94514       2004           A           6   \n",
       "3   WHITE    NC                82302       2002           C           7   \n",
       "4  SILVER    SC                49176       2007           B           3   \n",
       "\n",
       "  PriceIndex2  \n",
       "0     10692.0  \n",
       "1      3615.0  \n",
       "2      5805.0  \n",
       "3      6444.0  \n",
       "4      6286.0  \n",
       "\n",
       "[5 rows x 31 columns]"
      ]
     },
     "execution_count": 61,
     "metadata": {},
     "output_type": "execute_result"
    }
   ],
   "source": [
    "bd_train.head()"
   ]
  },
  {
   "cell_type": "code",
   "execution_count": 62,
   "metadata": {},
   "outputs": [
    {
     "data": {
      "text/plain": [
       "(62035, 31)"
      ]
     },
     "execution_count": 62,
     "metadata": {},
     "output_type": "execute_result"
    }
   ],
   "source": [
    "bd_train.shape"
   ]
  },
  {
   "cell_type": "code",
   "execution_count": 63,
   "metadata": {},
   "outputs": [
    {
     "data": {
      "text/plain": [
       "(10948, 30)"
      ]
     },
     "execution_count": 63,
     "metadata": {},
     "output_type": "execute_result"
    }
   ],
   "source": [
    "bd_test.shape"
   ]
  },
  {
   "cell_type": "code",
   "execution_count": 64,
   "metadata": {},
   "outputs": [],
   "source": [
    "bd_test['Junk']=np.nan"
   ]
  },
  {
   "cell_type": "code",
   "execution_count": 65,
   "metadata": {},
   "outputs": [
    {
     "data": {
      "text/html": [
       "<div>\n",
       "<style scoped>\n",
       "    .dataframe tbody tr th:only-of-type {\n",
       "        vertical-align: middle;\n",
       "    }\n",
       "\n",
       "    .dataframe tbody tr th {\n",
       "        vertical-align: top;\n",
       "    }\n",
       "\n",
       "    .dataframe thead th {\n",
       "        text-align: right;\n",
       "    }\n",
       "</style>\n",
       "<table border=\"1\" class=\"dataframe\">\n",
       "  <thead>\n",
       "    <tr style=\"text-align: right;\">\n",
       "      <th></th>\n",
       "      <th>InteriorsStyle</th>\n",
       "      <th>PriceIndex8</th>\n",
       "      <th>ListDate</th>\n",
       "      <th>Material</th>\n",
       "      <th>PriceIndex9</th>\n",
       "      <th>Agency</th>\n",
       "      <th>AreaIncomeType</th>\n",
       "      <th>EnvRating</th>\n",
       "      <th>PriceIndex7</th>\n",
       "      <th>ExpeditedListing</th>\n",
       "      <th>...</th>\n",
       "      <th>PriceIndex5</th>\n",
       "      <th>SubModel</th>\n",
       "      <th>Facade</th>\n",
       "      <th>State</th>\n",
       "      <th>NormalisedPopulation</th>\n",
       "      <th>BuildYear</th>\n",
       "      <th>RegionType</th>\n",
       "      <th>PropertyAge</th>\n",
       "      <th>PriceIndex2</th>\n",
       "      <th>Junk</th>\n",
       "    </tr>\n",
       "  </thead>\n",
       "  <tbody>\n",
       "    <tr>\n",
       "      <th>0</th>\n",
       "      <td>6LLJ</td>\n",
       "      <td>10645.0</td>\n",
       "      <td>9/22/2010</td>\n",
       "      <td>ZCI3</td>\n",
       "      <td>6015</td>\n",
       "      <td>CAT3</td>\n",
       "      <td>A</td>\n",
       "      <td>missing</td>\n",
       "      <td>9568.0</td>\n",
       "      <td>0</td>\n",
       "      <td>...</td>\n",
       "      <td>5911.0</td>\n",
       "      <td>UA42</td>\n",
       "      <td>BLUE</td>\n",
       "      <td>NC</td>\n",
       "      <td>67549</td>\n",
       "      <td>2006</td>\n",
       "      <td>A</td>\n",
       "      <td>4</td>\n",
       "      <td>8311.0</td>\n",
       "      <td>NaN</td>\n",
       "    </tr>\n",
       "    <tr>\n",
       "      <th>1</th>\n",
       "      <td>QD0H</td>\n",
       "      <td>9891.0</td>\n",
       "      <td>3/12/2010</td>\n",
       "      <td>RRJQ</td>\n",
       "      <td>7625</td>\n",
       "      <td>OTHER</td>\n",
       "      <td>A</td>\n",
       "      <td>missing</td>\n",
       "      <td>8888.0</td>\n",
       "      <td>0</td>\n",
       "      <td>...</td>\n",
       "      <td>5370.0</td>\n",
       "      <td>BUNS</td>\n",
       "      <td>BLUE</td>\n",
       "      <td>FL</td>\n",
       "      <td>56570</td>\n",
       "      <td>2004</td>\n",
       "      <td>B</td>\n",
       "      <td>6</td>\n",
       "      <td>7123.0</td>\n",
       "      <td>NaN</td>\n",
       "    </tr>\n",
       "    <tr>\n",
       "      <th>2</th>\n",
       "      <td>I7GR</td>\n",
       "      <td>8426.0</td>\n",
       "      <td>10/12/2009</td>\n",
       "      <td>ZCI3</td>\n",
       "      <td>6900</td>\n",
       "      <td>CAT2</td>\n",
       "      <td>B</td>\n",
       "      <td>missing</td>\n",
       "      <td>7911.0</td>\n",
       "      <td>0</td>\n",
       "      <td>...</td>\n",
       "      <td>6862.0</td>\n",
       "      <td>8YTZ</td>\n",
       "      <td>BLACK</td>\n",
       "      <td>OK</td>\n",
       "      <td>51840</td>\n",
       "      <td>2008</td>\n",
       "      <td>A</td>\n",
       "      <td>1</td>\n",
       "      <td>7994.0</td>\n",
       "      <td>NaN</td>\n",
       "    </tr>\n",
       "    <tr>\n",
       "      <th>3</th>\n",
       "      <td>5KS5</td>\n",
       "      <td>9269.0</td>\n",
       "      <td>5/20/2010</td>\n",
       "      <td>PRN0</td>\n",
       "      <td>6475</td>\n",
       "      <td>CAT1</td>\n",
       "      <td>B</td>\n",
       "      <td>missing</td>\n",
       "      <td>7773.0</td>\n",
       "      <td>0</td>\n",
       "      <td>...</td>\n",
       "      <td>4872.0</td>\n",
       "      <td>FIVQ</td>\n",
       "      <td>GREEN</td>\n",
       "      <td>CO</td>\n",
       "      <td>83300</td>\n",
       "      <td>2005</td>\n",
       "      <td>A</td>\n",
       "      <td>5</td>\n",
       "      <td>5259.0</td>\n",
       "      <td>NaN</td>\n",
       "    </tr>\n",
       "    <tr>\n",
       "      <th>4</th>\n",
       "      <td>918O</td>\n",
       "      <td>5366.0</td>\n",
       "      <td>1/13/2009</td>\n",
       "      <td>C8A4</td>\n",
       "      <td>3960</td>\n",
       "      <td>CAT1</td>\n",
       "      <td>A</td>\n",
       "      <td>missing</td>\n",
       "      <td>4134.0</td>\n",
       "      <td>0</td>\n",
       "      <td>...</td>\n",
       "      <td>3365.0</td>\n",
       "      <td>KT8F</td>\n",
       "      <td>BLACK</td>\n",
       "      <td>NC</td>\n",
       "      <td>95035</td>\n",
       "      <td>2003</td>\n",
       "      <td>A</td>\n",
       "      <td>6</td>\n",
       "      <td>4362.0</td>\n",
       "      <td>NaN</td>\n",
       "    </tr>\n",
       "  </tbody>\n",
       "</table>\n",
       "<p>5 rows × 31 columns</p>\n",
       "</div>"
      ],
      "text/plain": [
       "  InteriorsStyle PriceIndex8    ListDate Material  PriceIndex9 Agency  \\\n",
       "0           6LLJ     10645.0   9/22/2010     ZCI3         6015   CAT3   \n",
       "1           QD0H      9891.0   3/12/2010     RRJQ         7625  OTHER   \n",
       "2           I7GR      8426.0  10/12/2009     ZCI3         6900   CAT2   \n",
       "3           5KS5      9269.0   5/20/2010     PRN0         6475   CAT1   \n",
       "4           918O      5366.0   1/13/2009     C8A4         3960   CAT1   \n",
       "\n",
       "  AreaIncomeType EnvRating PriceIndex7  ExpeditedListing  ... PriceIndex5  \\\n",
       "0              A   missing      9568.0                 0  ...      5911.0   \n",
       "1              A   missing      8888.0                 0  ...      5370.0   \n",
       "2              B   missing      7911.0                 0  ...      6862.0   \n",
       "3              B   missing      7773.0                 0  ...      4872.0   \n",
       "4              A   missing      4134.0                 0  ...      3365.0   \n",
       "\n",
       "  SubModel Facade State NormalisedPopulation  BuildYear  RegionType  \\\n",
       "0     UA42   BLUE    NC                67549       2006           A   \n",
       "1     BUNS   BLUE    FL                56570       2004           B   \n",
       "2     8YTZ  BLACK    OK                51840       2008           A   \n",
       "3     FIVQ  GREEN    CO                83300       2005           A   \n",
       "4     KT8F  BLACK    NC                95035       2003           A   \n",
       "\n",
       "  PropertyAge PriceIndex2 Junk  \n",
       "0           4      8311.0  NaN  \n",
       "1           6      7123.0  NaN  \n",
       "2           1      7994.0  NaN  \n",
       "3           5      5259.0  NaN  \n",
       "4           6      4362.0  NaN  \n",
       "\n",
       "[5 rows x 31 columns]"
      ]
     },
     "execution_count": 65,
     "metadata": {},
     "output_type": "execute_result"
    }
   ],
   "source": [
    "bd_test.head()"
   ]
  },
  {
   "cell_type": "code",
   "execution_count": 66,
   "metadata": {},
   "outputs": [],
   "source": [
    "bd_train['data']='train'\n",
    "bd_test['data']='test'"
   ]
  },
  {
   "cell_type": "code",
   "execution_count": 67,
   "metadata": {},
   "outputs": [],
   "source": [
    "bd_test=bd_test[bd_train.columns]  # the columns in the two data frames should be in the same order to enable concatenation"
   ]
  },
  {
   "cell_type": "code",
   "execution_count": 68,
   "metadata": {},
   "outputs": [],
   "source": [
    "bd_all=pd.concat([bd_train,bd_test],axis=0)"
   ]
  },
  {
   "cell_type": "code",
   "execution_count": 69,
   "metadata": {},
   "outputs": [
    {
     "data": {
      "text/html": [
       "<div>\n",
       "<style scoped>\n",
       "    .dataframe tbody tr th:only-of-type {\n",
       "        vertical-align: middle;\n",
       "    }\n",
       "\n",
       "    .dataframe tbody tr th {\n",
       "        vertical-align: top;\n",
       "    }\n",
       "\n",
       "    .dataframe thead th {\n",
       "        text-align: right;\n",
       "    }\n",
       "</style>\n",
       "<table border=\"1\" class=\"dataframe\">\n",
       "  <thead>\n",
       "    <tr style=\"text-align: right;\">\n",
       "      <th></th>\n",
       "      <th>Junk</th>\n",
       "      <th>InteriorsStyle</th>\n",
       "      <th>PriceIndex8</th>\n",
       "      <th>ListDate</th>\n",
       "      <th>Material</th>\n",
       "      <th>PriceIndex9</th>\n",
       "      <th>Agency</th>\n",
       "      <th>AreaIncomeType</th>\n",
       "      <th>EnvRating</th>\n",
       "      <th>PriceIndex7</th>\n",
       "      <th>...</th>\n",
       "      <th>PriceIndex5</th>\n",
       "      <th>SubModel</th>\n",
       "      <th>Facade</th>\n",
       "      <th>State</th>\n",
       "      <th>NormalisedPopulation</th>\n",
       "      <th>BuildYear</th>\n",
       "      <th>RegionType</th>\n",
       "      <th>PropertyAge</th>\n",
       "      <th>PriceIndex2</th>\n",
       "      <th>data</th>\n",
       "    </tr>\n",
       "  </thead>\n",
       "  <tbody>\n",
       "    <tr>\n",
       "      <th>0</th>\n",
       "      <td>0.0</td>\n",
       "      <td>6LLJ</td>\n",
       "      <td>14674.0</td>\n",
       "      <td>9/7/2010</td>\n",
       "      <td>UT7W</td>\n",
       "      <td>8270</td>\n",
       "      <td>CAT3</td>\n",
       "      <td>B</td>\n",
       "      <td>missing</td>\n",
       "      <td>13143.0</td>\n",
       "      <td>...</td>\n",
       "      <td>9022.0</td>\n",
       "      <td>6E9G</td>\n",
       "      <td>GREEN</td>\n",
       "      <td>MD</td>\n",
       "      <td>42077</td>\n",
       "      <td>2008</td>\n",
       "      <td>A</td>\n",
       "      <td>2</td>\n",
       "      <td>10692.0</td>\n",
       "      <td>train</td>\n",
       "    </tr>\n",
       "    <tr>\n",
       "      <th>1</th>\n",
       "      <td>1.0</td>\n",
       "      <td>XZ9F</td>\n",
       "      <td>4172.0</td>\n",
       "      <td>1/7/2009</td>\n",
       "      <td>PRN0</td>\n",
       "      <td>3890</td>\n",
       "      <td>CAT2</td>\n",
       "      <td>B</td>\n",
       "      <td>missing</td>\n",
       "      <td>3461.0</td>\n",
       "      <td>...</td>\n",
       "      <td>2742.0</td>\n",
       "      <td>FIVQ</td>\n",
       "      <td>SILVER</td>\n",
       "      <td>OK</td>\n",
       "      <td>77258</td>\n",
       "      <td>2002</td>\n",
       "      <td>A</td>\n",
       "      <td>7</td>\n",
       "      <td>3615.0</td>\n",
       "      <td>train</td>\n",
       "    </tr>\n",
       "  </tbody>\n",
       "</table>\n",
       "<p>2 rows × 32 columns</p>\n",
       "</div>"
      ],
      "text/plain": [
       "   Junk InteriorsStyle PriceIndex8  ListDate Material  PriceIndex9 Agency  \\\n",
       "0   0.0           6LLJ     14674.0  9/7/2010     UT7W         8270   CAT3   \n",
       "1   1.0           XZ9F      4172.0  1/7/2009     PRN0         3890   CAT2   \n",
       "\n",
       "  AreaIncomeType EnvRating PriceIndex7  ...  PriceIndex5 SubModel  Facade  \\\n",
       "0              B   missing     13143.0  ...       9022.0     6E9G   GREEN   \n",
       "1              B   missing      3461.0  ...       2742.0     FIVQ  SILVER   \n",
       "\n",
       "  State NormalisedPopulation BuildYear  RegionType  PropertyAge PriceIndex2  \\\n",
       "0    MD                42077      2008           A            2     10692.0   \n",
       "1    OK                77258      2002           A            7      3615.0   \n",
       "\n",
       "    data  \n",
       "0  train  \n",
       "1  train  \n",
       "\n",
       "[2 rows x 32 columns]"
      ]
     },
     "execution_count": 69,
     "metadata": {},
     "output_type": "execute_result"
    }
   ],
   "source": [
    "bd_all.head(2)"
   ]
  },
  {
   "cell_type": "code",
   "execution_count": 70,
   "metadata": {},
   "outputs": [
    {
     "data": {
      "text/plain": [
       "(72983, 32)"
      ]
     },
     "execution_count": 70,
     "metadata": {},
     "output_type": "execute_result"
    }
   ],
   "source": [
    "bd_all.shape"
   ]
  },
  {
   "cell_type": "code",
   "execution_count": 71,
   "metadata": {},
   "outputs": [
    {
     "data": {
      "text/plain": [
       "Junk                     float64\n",
       "InteriorsStyle            object\n",
       "PriceIndex8               object\n",
       "ListDate                  object\n",
       "Material                  object\n",
       "PriceIndex9                int64\n",
       "Agency                    object\n",
       "AreaIncomeType            object\n",
       "EnvRating                 object\n",
       "PriceIndex7               object\n",
       "ExpeditedListing           int64\n",
       "PriceIndex4               object\n",
       "PriceIndex1               object\n",
       "PriceIndex6               object\n",
       "PRIMEUNIT                 object\n",
       "Channel                   object\n",
       "Zip                        int64\n",
       "InsurancePremiumIndex      int64\n",
       "PlotType                  object\n",
       "Architecture              object\n",
       "PriceIndex3               object\n",
       "Region                    object\n",
       "PriceIndex5               object\n",
       "SubModel                  object\n",
       "Facade                    object\n",
       "State                     object\n",
       "NormalisedPopulation       int64\n",
       "BuildYear                  int64\n",
       "RegionType                object\n",
       "PropertyAge                int64\n",
       "PriceIndex2               object\n",
       "data                      object\n",
       "dtype: object"
      ]
     },
     "execution_count": 71,
     "metadata": {},
     "output_type": "execute_result"
    }
   ],
   "source": [
    "bd_all.dtypes"
   ]
  },
  {
   "cell_type": "code",
   "execution_count": 72,
   "metadata": {},
   "outputs": [
    {
     "data": {
      "text/plain": [
       "[('Junk', dtype('float64'), 2),\n",
       " ('InteriorsStyle', dtype('O'), 1063),\n",
       " ('PriceIndex8', dtype('O'), 13193),\n",
       " ('ListDate', dtype('O'), 517),\n",
       " ('Material', dtype('O'), 135),\n",
       " ('PriceIndex9', dtype('int64'), 2061),\n",
       " ('Agency', dtype('O'), 5),\n",
       " ('AreaIncomeType', dtype('O'), 4),\n",
       " ('EnvRating', dtype('O'), 3),\n",
       " ('PriceIndex7', dtype('O'), 12494),\n",
       " ('ExpeditedListing', dtype('int64'), 2),\n",
       " ('PriceIndex4', dtype('O'), 13457),\n",
       " ('PriceIndex1', dtype('O'), 10343),\n",
       " ('PriceIndex6', dtype('O'), 11266),\n",
       " ('PRIMEUNIT', dtype('O'), 3),\n",
       " ('Channel', dtype('O'), 3),\n",
       " ('Zip', dtype('int64'), 153),\n",
       " ('InsurancePremiumIndex', dtype('int64'), 281),\n",
       " ('PlotType', dtype('O'), 13),\n",
       " ('Architecture', dtype('O'), 33),\n",
       " ('PriceIndex3', dtype('O'), 12726),\n",
       " ('Region', dtype('O'), 3),\n",
       " ('PriceIndex5', dtype('O'), 10316),\n",
       " ('SubModel', dtype('O'), 864),\n",
       " ('Facade', dtype('O'), 17),\n",
       " ('State', dtype('O'), 37),\n",
       " ('NormalisedPopulation', dtype('int64'), 39947),\n",
       " ('BuildYear', dtype('int64'), 10),\n",
       " ('RegionType', dtype('O'), 5),\n",
       " ('PropertyAge', dtype('int64'), 10),\n",
       " ('PriceIndex2', dtype('O'), 11380),\n",
       " ('data', dtype('O'), 2)]"
      ]
     },
     "execution_count": 72,
     "metadata": {},
     "output_type": "execute_result"
    }
   ],
   "source": [
    "list(zip(bd_all.columns,bd_all.dtypes,bd_all.nunique()))"
   ]
  },
  {
   "cell_type": "markdown",
   "metadata": {},
   "source": [
    "### create dummies with freq cut off"
   ]
  },
  {
   "cell_type": "markdown",
   "metadata": {},
   "source": [
    "\n",
    "cols = ['V1','V4','V5','V6','V44']\n",
    "\n",
    "    for col in cols:\n",
    "    k = cd_all[col].value_counts()\n",
    "    k = k[k>50]\n",
    "    indexes = k.index[:-1]\n",
    "     for i in indexes:\n",
    "            cd_all[col+'_'+str(i)] = (cd_all[col]==i).astype(int)"
   ]
  },
  {
   "cell_type": "markdown",
   "metadata": {},
   "source": [
    "### 1.Junk"
   ]
  },
  {
   "cell_type": "code",
   "execution_count": 73,
   "metadata": {},
   "outputs": [
    {
     "data": {
      "text/plain": [
       "0.0    54433\n",
       "1.0     7602\n",
       "Name: Junk, dtype: int64"
      ]
     },
     "execution_count": 73,
     "metadata": {},
     "output_type": "execute_result"
    }
   ],
   "source": [
    "bd_all.Junk.value_counts()"
   ]
  },
  {
   "cell_type": "code",
   "execution_count": 74,
   "metadata": {},
   "outputs": [],
   "source": [
    "# here it is the target"
   ]
  },
  {
   "cell_type": "markdown",
   "metadata": {},
   "source": [
    "### 2.InteriorsStyle"
   ]
  },
  {
   "cell_type": "code",
   "execution_count": 75,
   "metadata": {},
   "outputs": [
    {
     "data": {
      "text/plain": [
       "(72983, 32)"
      ]
     },
     "execution_count": 75,
     "metadata": {},
     "output_type": "execute_result"
    }
   ],
   "source": [
    "bd_all.shape"
   ]
  },
  {
   "cell_type": "code",
   "execution_count": 76,
   "metadata": {},
   "outputs": [
    {
     "data": {
      "text/plain": [
       "K3BB    2329\n",
       "RCQE    1990\n",
       "WEGU    1425\n",
       "2XWO    1375\n",
       "V3Y1    1289\n",
       "        ... \n",
       "57J5       1\n",
       "YOVG       1\n",
       "JIOH       1\n",
       "XY4G       1\n",
       "ALFW       1\n",
       "Name: InteriorsStyle, Length: 1063, dtype: int64"
      ]
     },
     "execution_count": 76,
     "metadata": {},
     "output_type": "execute_result"
    }
   ],
   "source": [
    "r=bd_all.InteriorsStyle.value_counts()\n",
    "r"
   ]
  },
  {
   "cell_type": "code",
   "execution_count": 77,
   "metadata": {},
   "outputs": [
    {
     "data": {
      "text/plain": [
       "12"
      ]
     },
     "execution_count": 77,
     "metadata": {},
     "output_type": "execute_result"
    }
   ],
   "source": [
    "(r>1000).astype(int).sum()"
   ]
  },
  {
   "cell_type": "code",
   "execution_count": 78,
   "metadata": {},
   "outputs": [],
   "source": [
    "# create dummies with freq cut off as 1000"
   ]
  },
  {
   "cell_type": "code",
   "execution_count": 79,
   "metadata": {},
   "outputs": [
    {
     "data": {
      "text/plain": [
       "Index(['K3BB', 'RCQE', 'WEGU', '2XWO', 'V3Y1', 'YBQJ', 'AZMX', 'DUFA', '7R8J',\n",
       "       'H1CI', 'ARWN', 'T67A'],\n",
       "      dtype='object')"
      ]
     },
     "execution_count": 79,
     "metadata": {},
     "output_type": "execute_result"
    }
   ],
   "source": [
    "r[r>1000].index"
   ]
  },
  {
   "cell_type": "code",
   "execution_count": 80,
   "metadata": {},
   "outputs": [
    {
     "name": "stdout",
     "output_type": "stream",
     "text": [
      "Index(['K3BB', 'RCQE', 'WEGU', '2XWO', 'V3Y1', 'YBQJ', 'AZMX', 'DUFA', '7R8J',\n",
      "       'H1CI', 'ARWN'],\n",
      "      dtype='object')\n",
      "K3BB\n",
      "RCQE\n",
      "WEGU\n",
      "2XWO\n",
      "V3Y1\n",
      "YBQJ\n",
      "AZMX\n",
      "DUFA\n",
      "7R8J\n",
      "H1CI\n",
      "ARWN\n"
     ]
    }
   ],
   "source": [
    "\n",
    "cols = ['InteriorsStyle']\n",
    "for col in cols:\n",
    "    k = bd_all[col].value_counts()\n",
    "    k = k[k>1000]\n",
    "    indexes = k.index[:-1]\n",
    "    print(indexes)\n",
    "    for i in indexes:\n",
    "        print(i)\n",
    "        bd_all[col+'_'+str(i)] = (bd_all[col]==i).astype(int)"
   ]
  },
  {
   "cell_type": "code",
   "execution_count": 81,
   "metadata": {},
   "outputs": [
    {
     "data": {
      "text/html": [
       "<div>\n",
       "<style scoped>\n",
       "    .dataframe tbody tr th:only-of-type {\n",
       "        vertical-align: middle;\n",
       "    }\n",
       "\n",
       "    .dataframe tbody tr th {\n",
       "        vertical-align: top;\n",
       "    }\n",
       "\n",
       "    .dataframe thead th {\n",
       "        text-align: right;\n",
       "    }\n",
       "</style>\n",
       "<table border=\"1\" class=\"dataframe\">\n",
       "  <thead>\n",
       "    <tr style=\"text-align: right;\">\n",
       "      <th></th>\n",
       "      <th>Junk</th>\n",
       "      <th>InteriorsStyle</th>\n",
       "      <th>PriceIndex8</th>\n",
       "      <th>ListDate</th>\n",
       "      <th>Material</th>\n",
       "      <th>PriceIndex9</th>\n",
       "      <th>Agency</th>\n",
       "      <th>AreaIncomeType</th>\n",
       "      <th>EnvRating</th>\n",
       "      <th>PriceIndex7</th>\n",
       "      <th>...</th>\n",
       "      <th>InteriorsStyle_RCQE</th>\n",
       "      <th>InteriorsStyle_WEGU</th>\n",
       "      <th>InteriorsStyle_2XWO</th>\n",
       "      <th>InteriorsStyle_V3Y1</th>\n",
       "      <th>InteriorsStyle_YBQJ</th>\n",
       "      <th>InteriorsStyle_AZMX</th>\n",
       "      <th>InteriorsStyle_DUFA</th>\n",
       "      <th>InteriorsStyle_7R8J</th>\n",
       "      <th>InteriorsStyle_H1CI</th>\n",
       "      <th>InteriorsStyle_ARWN</th>\n",
       "    </tr>\n",
       "  </thead>\n",
       "  <tbody>\n",
       "    <tr>\n",
       "      <th>0</th>\n",
       "      <td>0.0</td>\n",
       "      <td>6LLJ</td>\n",
       "      <td>14674.0</td>\n",
       "      <td>9/7/2010</td>\n",
       "      <td>UT7W</td>\n",
       "      <td>8270</td>\n",
       "      <td>CAT3</td>\n",
       "      <td>B</td>\n",
       "      <td>missing</td>\n",
       "      <td>13143.0</td>\n",
       "      <td>...</td>\n",
       "      <td>0</td>\n",
       "      <td>0</td>\n",
       "      <td>0</td>\n",
       "      <td>0</td>\n",
       "      <td>0</td>\n",
       "      <td>0</td>\n",
       "      <td>0</td>\n",
       "      <td>0</td>\n",
       "      <td>0</td>\n",
       "      <td>0</td>\n",
       "    </tr>\n",
       "    <tr>\n",
       "      <th>1</th>\n",
       "      <td>1.0</td>\n",
       "      <td>XZ9F</td>\n",
       "      <td>4172.0</td>\n",
       "      <td>1/7/2009</td>\n",
       "      <td>PRN0</td>\n",
       "      <td>3890</td>\n",
       "      <td>CAT2</td>\n",
       "      <td>B</td>\n",
       "      <td>missing</td>\n",
       "      <td>3461.0</td>\n",
       "      <td>...</td>\n",
       "      <td>0</td>\n",
       "      <td>0</td>\n",
       "      <td>0</td>\n",
       "      <td>0</td>\n",
       "      <td>0</td>\n",
       "      <td>0</td>\n",
       "      <td>0</td>\n",
       "      <td>0</td>\n",
       "      <td>0</td>\n",
       "      <td>0</td>\n",
       "    </tr>\n",
       "  </tbody>\n",
       "</table>\n",
       "<p>2 rows × 43 columns</p>\n",
       "</div>"
      ],
      "text/plain": [
       "   Junk InteriorsStyle PriceIndex8  ListDate Material  PriceIndex9 Agency  \\\n",
       "0   0.0           6LLJ     14674.0  9/7/2010     UT7W         8270   CAT3   \n",
       "1   1.0           XZ9F      4172.0  1/7/2009     PRN0         3890   CAT2   \n",
       "\n",
       "  AreaIncomeType EnvRating PriceIndex7  ...  InteriorsStyle_RCQE  \\\n",
       "0              B   missing     13143.0  ...                    0   \n",
       "1              B   missing      3461.0  ...                    0   \n",
       "\n",
       "  InteriorsStyle_WEGU InteriorsStyle_2XWO InteriorsStyle_V3Y1  \\\n",
       "0                   0                   0                   0   \n",
       "1                   0                   0                   0   \n",
       "\n",
       "  InteriorsStyle_YBQJ InteriorsStyle_AZMX  InteriorsStyle_DUFA  \\\n",
       "0                   0                   0                    0   \n",
       "1                   0                   0                    0   \n",
       "\n",
       "   InteriorsStyle_7R8J InteriorsStyle_H1CI InteriorsStyle_ARWN  \n",
       "0                    0                   0                   0  \n",
       "1                    0                   0                   0  \n",
       "\n",
       "[2 rows x 43 columns]"
      ]
     },
     "execution_count": 81,
     "metadata": {},
     "output_type": "execute_result"
    }
   ],
   "source": [
    "bd_all.head(2)"
   ]
  },
  {
   "cell_type": "markdown",
   "metadata": {},
   "source": [
    "### 3.PriceIndex8"
   ]
  },
  {
   "cell_type": "code",
   "execution_count": 82,
   "metadata": {},
   "outputs": [
    {
     "data": {
      "text/plain": [
       "7"
      ]
     },
     "execution_count": 82,
     "metadata": {},
     "output_type": "execute_result"
    }
   ],
   "source": [
    "(bd_all.PriceIndex8.value_counts()>100).sum()"
   ]
  },
  {
   "cell_type": "code",
   "execution_count": 83,
   "metadata": {},
   "outputs": [
    {
     "data": {
      "text/plain": [
       "0    14674.0\n",
       "1     4172.0\n",
       "2     8210.0\n",
       "3     7309.0\n",
       "4     9182.0\n",
       "Name: PriceIndex8, dtype: object"
      ]
     },
     "execution_count": 83,
     "metadata": {},
     "output_type": "execute_result"
    }
   ],
   "source": [
    "bd_all.PriceIndex8.head()"
   ]
  },
  {
   "cell_type": "code",
   "execution_count": 84,
   "metadata": {},
   "outputs": [],
   "source": [
    "# convert to numeric"
   ]
  },
  {
   "cell_type": "code",
   "execution_count": 85,
   "metadata": {},
   "outputs": [
    {
     "data": {
      "text/plain": [
       "Index(['Junk', 'InteriorsStyle', 'PriceIndex8', 'ListDate', 'Material',\n",
       "       'PriceIndex9', 'Agency', 'AreaIncomeType', 'EnvRating', 'PriceIndex7',\n",
       "       'ExpeditedListing', 'PriceIndex4', 'PriceIndex1', 'PriceIndex6',\n",
       "       'PRIMEUNIT', 'Channel', 'Zip', 'InsurancePremiumIndex', 'PlotType',\n",
       "       'Architecture', 'PriceIndex3', 'Region', 'PriceIndex5', 'SubModel',\n",
       "       'Facade', 'State', 'NormalisedPopulation', 'BuildYear', 'RegionType',\n",
       "       'PropertyAge', 'PriceIndex2', 'data', 'InteriorsStyle_K3BB',\n",
       "       'InteriorsStyle_RCQE', 'InteriorsStyle_WEGU', 'InteriorsStyle_2XWO',\n",
       "       'InteriorsStyle_V3Y1', 'InteriorsStyle_YBQJ', 'InteriorsStyle_AZMX',\n",
       "       'InteriorsStyle_DUFA', 'InteriorsStyle_7R8J', 'InteriorsStyle_H1CI',\n",
       "       'InteriorsStyle_ARWN'],\n",
       "      dtype='object')"
      ]
     },
     "execution_count": 85,
     "metadata": {},
     "output_type": "execute_result"
    }
   ],
   "source": [
    "bd_all.columns"
   ]
  },
  {
   "cell_type": "code",
   "execution_count": 86,
   "metadata": {},
   "outputs": [],
   "source": [
    "bd_all.PriceIndex8=pd.to_numeric(bd_all.PriceIndex8,errors='coerce')"
   ]
  },
  {
   "cell_type": "code",
   "execution_count": 87,
   "metadata": {},
   "outputs": [
    {
     "data": {
      "text/plain": [
       "dtype('float64')"
      ]
     },
     "execution_count": 87,
     "metadata": {},
     "output_type": "execute_result"
    }
   ],
   "source": [
    "bd_all.PriceIndex8.dtype"
   ]
  },
  {
   "cell_type": "markdown",
   "metadata": {},
   "source": [
    "### 4.ListDate"
   ]
  },
  {
   "cell_type": "code",
   "execution_count": 88,
   "metadata": {},
   "outputs": [
    {
     "data": {
      "text/plain": [
       "11/23/2010    384\n",
       "2/25/2009     379\n",
       "12/8/2010     372\n",
       "10/13/2010    359\n",
       "8/26/2009     359\n",
       "             ... \n",
       "2/20/2010       2\n",
       "5/25/2009       2\n",
       "1/10/2010       1\n",
       "12/24/2010      1\n",
       "12/4/2010       1\n",
       "Name: ListDate, Length: 517, dtype: int64"
      ]
     },
     "execution_count": 88,
     "metadata": {},
     "output_type": "execute_result"
    }
   ],
   "source": [
    "bd_all.ListDate.value_counts()"
   ]
  },
  {
   "cell_type": "code",
   "execution_count": 89,
   "metadata": {},
   "outputs": [
    {
     "data": {
      "text/plain": [
       "20"
      ]
     },
     "execution_count": 89,
     "metadata": {},
     "output_type": "execute_result"
    }
   ],
   "source": [
    "(bd_all.ListDate.value_counts()>300).sum()"
   ]
  },
  {
   "cell_type": "code",
   "execution_count": 90,
   "metadata": {},
   "outputs": [],
   "source": [
    "#convert this to month"
   ]
  },
  {
   "cell_type": "code",
   "execution_count": 91,
   "metadata": {},
   "outputs": [],
   "source": [
    "m=bd_all.ListDate\n",
    "\n",
    "\n",
    "m['date']=pd.to_datetime(m)\n",
    "\n",
    "\n",
    "m['month']=m['date'].dt.month\n",
    "\n"
   ]
  },
  {
   "cell_type": "code",
   "execution_count": 92,
   "metadata": {},
   "outputs": [],
   "source": [
    "bd_all['ListDate_converted']=m['month']"
   ]
  },
  {
   "cell_type": "code",
   "execution_count": 93,
   "metadata": {},
   "outputs": [
    {
     "data": {
      "text/html": [
       "<div>\n",
       "<style scoped>\n",
       "    .dataframe tbody tr th:only-of-type {\n",
       "        vertical-align: middle;\n",
       "    }\n",
       "\n",
       "    .dataframe tbody tr th {\n",
       "        vertical-align: top;\n",
       "    }\n",
       "\n",
       "    .dataframe thead th {\n",
       "        text-align: right;\n",
       "    }\n",
       "</style>\n",
       "<table border=\"1\" class=\"dataframe\">\n",
       "  <thead>\n",
       "    <tr style=\"text-align: right;\">\n",
       "      <th></th>\n",
       "      <th>Junk</th>\n",
       "      <th>InteriorsStyle</th>\n",
       "      <th>PriceIndex8</th>\n",
       "      <th>ListDate</th>\n",
       "      <th>Material</th>\n",
       "      <th>PriceIndex9</th>\n",
       "      <th>Agency</th>\n",
       "      <th>AreaIncomeType</th>\n",
       "      <th>EnvRating</th>\n",
       "      <th>PriceIndex7</th>\n",
       "      <th>...</th>\n",
       "      <th>InteriorsStyle_WEGU</th>\n",
       "      <th>InteriorsStyle_2XWO</th>\n",
       "      <th>InteriorsStyle_V3Y1</th>\n",
       "      <th>InteriorsStyle_YBQJ</th>\n",
       "      <th>InteriorsStyle_AZMX</th>\n",
       "      <th>InteriorsStyle_DUFA</th>\n",
       "      <th>InteriorsStyle_7R8J</th>\n",
       "      <th>InteriorsStyle_H1CI</th>\n",
       "      <th>InteriorsStyle_ARWN</th>\n",
       "      <th>ListDate_converted</th>\n",
       "    </tr>\n",
       "  </thead>\n",
       "  <tbody>\n",
       "    <tr>\n",
       "      <th>0</th>\n",
       "      <td>0.0</td>\n",
       "      <td>6LLJ</td>\n",
       "      <td>14674.0</td>\n",
       "      <td>9/7/2010</td>\n",
       "      <td>UT7W</td>\n",
       "      <td>8270</td>\n",
       "      <td>CAT3</td>\n",
       "      <td>B</td>\n",
       "      <td>missing</td>\n",
       "      <td>13143.0</td>\n",
       "      <td>...</td>\n",
       "      <td>0</td>\n",
       "      <td>0</td>\n",
       "      <td>0</td>\n",
       "      <td>0</td>\n",
       "      <td>0</td>\n",
       "      <td>0</td>\n",
       "      <td>0</td>\n",
       "      <td>0</td>\n",
       "      <td>0</td>\n",
       "      <td>9</td>\n",
       "    </tr>\n",
       "    <tr>\n",
       "      <th>1</th>\n",
       "      <td>1.0</td>\n",
       "      <td>XZ9F</td>\n",
       "      <td>4172.0</td>\n",
       "      <td>1/7/2009</td>\n",
       "      <td>PRN0</td>\n",
       "      <td>3890</td>\n",
       "      <td>CAT2</td>\n",
       "      <td>B</td>\n",
       "      <td>missing</td>\n",
       "      <td>3461.0</td>\n",
       "      <td>...</td>\n",
       "      <td>0</td>\n",
       "      <td>0</td>\n",
       "      <td>0</td>\n",
       "      <td>0</td>\n",
       "      <td>0</td>\n",
       "      <td>0</td>\n",
       "      <td>0</td>\n",
       "      <td>0</td>\n",
       "      <td>0</td>\n",
       "      <td>1</td>\n",
       "    </tr>\n",
       "  </tbody>\n",
       "</table>\n",
       "<p>2 rows × 44 columns</p>\n",
       "</div>"
      ],
      "text/plain": [
       "   Junk InteriorsStyle  PriceIndex8  ListDate Material  PriceIndex9 Agency  \\\n",
       "0   0.0           6LLJ      14674.0  9/7/2010     UT7W         8270   CAT3   \n",
       "1   1.0           XZ9F       4172.0  1/7/2009     PRN0         3890   CAT2   \n",
       "\n",
       "  AreaIncomeType EnvRating PriceIndex7  ...  InteriorsStyle_WEGU  \\\n",
       "0              B   missing     13143.0  ...                    0   \n",
       "1              B   missing      3461.0  ...                    0   \n",
       "\n",
       "  InteriorsStyle_2XWO InteriorsStyle_V3Y1 InteriorsStyle_YBQJ  \\\n",
       "0                   0                   0                   0   \n",
       "1                   0                   0                   0   \n",
       "\n",
       "  InteriorsStyle_AZMX InteriorsStyle_DUFA  InteriorsStyle_7R8J  \\\n",
       "0                   0                   0                    0   \n",
       "1                   0                   0                    0   \n",
       "\n",
       "   InteriorsStyle_H1CI InteriorsStyle_ARWN ListDate_converted  \n",
       "0                    0                   0                  9  \n",
       "1                    0                   0                  1  \n",
       "\n",
       "[2 rows x 44 columns]"
      ]
     },
     "execution_count": 93,
     "metadata": {},
     "output_type": "execute_result"
    }
   ],
   "source": [
    "bd_all.head(2)"
   ]
  },
  {
   "cell_type": "code",
   "execution_count": 94,
   "metadata": {},
   "outputs": [
    {
     "data": {
      "text/plain": [
       "10    7178\n",
       "2     6839\n",
       "11    6675\n",
       "9     6511\n",
       "3     6257\n",
       "8     6139\n",
       "4     5935\n",
       "7     5876\n",
       "5     5760\n",
       "6     5675\n",
       "12    5368\n",
       "1     4770\n",
       "Name: ListDate_converted, dtype: int64"
      ]
     },
     "execution_count": 94,
     "metadata": {},
     "output_type": "execute_result"
    }
   ],
   "source": [
    "bd_all['ListDate_converted'].value_counts()"
   ]
  },
  {
   "cell_type": "code",
   "execution_count": 95,
   "metadata": {},
   "outputs": [],
   "source": [
    "bd_all=pd.get_dummies(bd_all,columns=['ListDate_converted'],drop_first=True)"
   ]
  },
  {
   "cell_type": "code",
   "execution_count": 96,
   "metadata": {},
   "outputs": [
    {
     "data": {
      "text/plain": [
       "Index(['Junk', 'InteriorsStyle', 'PriceIndex8', 'ListDate', 'Material',\n",
       "       'PriceIndex9', 'Agency', 'AreaIncomeType', 'EnvRating', 'PriceIndex7',\n",
       "       'ExpeditedListing', 'PriceIndex4', 'PriceIndex1', 'PriceIndex6',\n",
       "       'PRIMEUNIT', 'Channel', 'Zip', 'InsurancePremiumIndex', 'PlotType',\n",
       "       'Architecture', 'PriceIndex3', 'Region', 'PriceIndex5', 'SubModel',\n",
       "       'Facade', 'State', 'NormalisedPopulation', 'BuildYear', 'RegionType',\n",
       "       'PropertyAge', 'PriceIndex2', 'data', 'InteriorsStyle_K3BB',\n",
       "       'InteriorsStyle_RCQE', 'InteriorsStyle_WEGU', 'InteriorsStyle_2XWO',\n",
       "       'InteriorsStyle_V3Y1', 'InteriorsStyle_YBQJ', 'InteriorsStyle_AZMX',\n",
       "       'InteriorsStyle_DUFA', 'InteriorsStyle_7R8J', 'InteriorsStyle_H1CI',\n",
       "       'InteriorsStyle_ARWN', 'ListDate_converted_2', 'ListDate_converted_3',\n",
       "       'ListDate_converted_4', 'ListDate_converted_5', 'ListDate_converted_6',\n",
       "       'ListDate_converted_7', 'ListDate_converted_8', 'ListDate_converted_9',\n",
       "       'ListDate_converted_10', 'ListDate_converted_11',\n",
       "       'ListDate_converted_12'],\n",
       "      dtype='object')"
      ]
     },
     "execution_count": 96,
     "metadata": {},
     "output_type": "execute_result"
    }
   ],
   "source": [
    "bd_all.columns"
   ]
  },
  {
   "cell_type": "markdown",
   "metadata": {},
   "source": [
    "### 5.Material"
   ]
  },
  {
   "cell_type": "code",
   "execution_count": 97,
   "metadata": {},
   "outputs": [
    {
     "data": {
      "text/plain": [
       "PRN0    13950\n",
       "C8A4    10174\n",
       "ZCI3     9348\n",
       "NYFD     3825\n",
       "X7IX     3540\n",
       "        ...  \n",
       "MS1W        1\n",
       "0EFS        1\n",
       "HTTM        1\n",
       "M81Y        1\n",
       "VBPN        1\n",
       "Name: Material, Length: 135, dtype: int64"
      ]
     },
     "execution_count": 97,
     "metadata": {},
     "output_type": "execute_result"
    }
   ],
   "source": [
    "bd_all['Material'].value_counts()"
   ]
  },
  {
   "cell_type": "code",
   "execution_count": 98,
   "metadata": {},
   "outputs": [
    {
     "data": {
      "text/plain": [
       "5"
      ]
     },
     "execution_count": 98,
     "metadata": {},
     "output_type": "execute_result"
    }
   ],
   "source": [
    "(bd_all['Material'].value_counts()>3000).sum()"
   ]
  },
  {
   "cell_type": "code",
   "execution_count": 99,
   "metadata": {},
   "outputs": [
    {
     "data": {
      "text/plain": [
       "(72983, 54)"
      ]
     },
     "execution_count": 99,
     "metadata": {},
     "output_type": "execute_result"
    }
   ],
   "source": [
    "bd_all.shape"
   ]
  },
  {
   "cell_type": "code",
   "execution_count": 100,
   "metadata": {},
   "outputs": [],
   "source": [
    "# create dummies with feq cutoff of 3000 which is almost 5% of population"
   ]
  },
  {
   "cell_type": "code",
   "execution_count": 101,
   "metadata": {},
   "outputs": [
    {
     "name": "stdout",
     "output_type": "stream",
     "text": [
      "Index(['PRN0', 'C8A4', 'ZCI3', 'NYFD'], dtype='object')\n",
      "PRN0\n",
      "C8A4\n",
      "ZCI3\n",
      "NYFD\n"
     ]
    }
   ],
   "source": [
    "cols = ['Material']\n",
    "for col in cols:\n",
    "    k = bd_all[col].value_counts()\n",
    "    k = k[k>3000]\n",
    "    indexes = k.index[:-1]\n",
    "    print(indexes)\n",
    "    for i in indexes:\n",
    "        print(i)\n",
    "        bd_all[col+'_'+str(i)] = (bd_all[col]==i).astype(int)"
   ]
  },
  {
   "cell_type": "code",
   "execution_count": 102,
   "metadata": {},
   "outputs": [
    {
     "data": {
      "text/plain": [
       "Index(['Junk', 'InteriorsStyle', 'PriceIndex8', 'ListDate', 'Material',\n",
       "       'PriceIndex9', 'Agency', 'AreaIncomeType', 'EnvRating', 'PriceIndex7',\n",
       "       'ExpeditedListing', 'PriceIndex4', 'PriceIndex1', 'PriceIndex6',\n",
       "       'PRIMEUNIT', 'Channel', 'Zip', 'InsurancePremiumIndex', 'PlotType',\n",
       "       'Architecture', 'PriceIndex3', 'Region', 'PriceIndex5', 'SubModel',\n",
       "       'Facade', 'State', 'NormalisedPopulation', 'BuildYear', 'RegionType',\n",
       "       'PropertyAge', 'PriceIndex2', 'data', 'InteriorsStyle_K3BB',\n",
       "       'InteriorsStyle_RCQE', 'InteriorsStyle_WEGU', 'InteriorsStyle_2XWO',\n",
       "       'InteriorsStyle_V3Y1', 'InteriorsStyle_YBQJ', 'InteriorsStyle_AZMX',\n",
       "       'InteriorsStyle_DUFA', 'InteriorsStyle_7R8J', 'InteriorsStyle_H1CI',\n",
       "       'InteriorsStyle_ARWN', 'ListDate_converted_2', 'ListDate_converted_3',\n",
       "       'ListDate_converted_4', 'ListDate_converted_5', 'ListDate_converted_6',\n",
       "       'ListDate_converted_7', 'ListDate_converted_8', 'ListDate_converted_9',\n",
       "       'ListDate_converted_10', 'ListDate_converted_11',\n",
       "       'ListDate_converted_12', 'Material_PRN0', 'Material_C8A4',\n",
       "       'Material_ZCI3', 'Material_NYFD'],\n",
       "      dtype='object')"
      ]
     },
     "execution_count": 102,
     "metadata": {},
     "output_type": "execute_result"
    }
   ],
   "source": [
    "bd_all.columns"
   ]
  },
  {
   "cell_type": "code",
   "execution_count": 103,
   "metadata": {},
   "outputs": [
    {
     "data": {
      "text/html": [
       "<div>\n",
       "<style scoped>\n",
       "    .dataframe tbody tr th:only-of-type {\n",
       "        vertical-align: middle;\n",
       "    }\n",
       "\n",
       "    .dataframe tbody tr th {\n",
       "        vertical-align: top;\n",
       "    }\n",
       "\n",
       "    .dataframe thead th {\n",
       "        text-align: right;\n",
       "    }\n",
       "</style>\n",
       "<table border=\"1\" class=\"dataframe\">\n",
       "  <thead>\n",
       "    <tr style=\"text-align: right;\">\n",
       "      <th></th>\n",
       "      <th>Junk</th>\n",
       "      <th>InteriorsStyle</th>\n",
       "      <th>PriceIndex8</th>\n",
       "      <th>ListDate</th>\n",
       "      <th>Material</th>\n",
       "      <th>PriceIndex9</th>\n",
       "      <th>Agency</th>\n",
       "      <th>AreaIncomeType</th>\n",
       "      <th>EnvRating</th>\n",
       "      <th>PriceIndex7</th>\n",
       "      <th>...</th>\n",
       "      <th>ListDate_converted_7</th>\n",
       "      <th>ListDate_converted_8</th>\n",
       "      <th>ListDate_converted_9</th>\n",
       "      <th>ListDate_converted_10</th>\n",
       "      <th>ListDate_converted_11</th>\n",
       "      <th>ListDate_converted_12</th>\n",
       "      <th>Material_PRN0</th>\n",
       "      <th>Material_C8A4</th>\n",
       "      <th>Material_ZCI3</th>\n",
       "      <th>Material_NYFD</th>\n",
       "    </tr>\n",
       "  </thead>\n",
       "  <tbody>\n",
       "    <tr>\n",
       "      <th>0</th>\n",
       "      <td>0.0</td>\n",
       "      <td>6LLJ</td>\n",
       "      <td>14674.0</td>\n",
       "      <td>9/7/2010</td>\n",
       "      <td>UT7W</td>\n",
       "      <td>8270</td>\n",
       "      <td>CAT3</td>\n",
       "      <td>B</td>\n",
       "      <td>missing</td>\n",
       "      <td>13143.0</td>\n",
       "      <td>...</td>\n",
       "      <td>0</td>\n",
       "      <td>0</td>\n",
       "      <td>1</td>\n",
       "      <td>0</td>\n",
       "      <td>0</td>\n",
       "      <td>0</td>\n",
       "      <td>0</td>\n",
       "      <td>0</td>\n",
       "      <td>0</td>\n",
       "      <td>0</td>\n",
       "    </tr>\n",
       "    <tr>\n",
       "      <th>1</th>\n",
       "      <td>1.0</td>\n",
       "      <td>XZ9F</td>\n",
       "      <td>4172.0</td>\n",
       "      <td>1/7/2009</td>\n",
       "      <td>PRN0</td>\n",
       "      <td>3890</td>\n",
       "      <td>CAT2</td>\n",
       "      <td>B</td>\n",
       "      <td>missing</td>\n",
       "      <td>3461.0</td>\n",
       "      <td>...</td>\n",
       "      <td>0</td>\n",
       "      <td>0</td>\n",
       "      <td>0</td>\n",
       "      <td>0</td>\n",
       "      <td>0</td>\n",
       "      <td>0</td>\n",
       "      <td>1</td>\n",
       "      <td>0</td>\n",
       "      <td>0</td>\n",
       "      <td>0</td>\n",
       "    </tr>\n",
       "    <tr>\n",
       "      <th>2</th>\n",
       "      <td>0.0</td>\n",
       "      <td>QWEV</td>\n",
       "      <td>8210.0</td>\n",
       "      <td>6/23/2010</td>\n",
       "      <td>A9RA</td>\n",
       "      <td>5900</td>\n",
       "      <td>CAT1</td>\n",
       "      <td>B</td>\n",
       "      <td>missing</td>\n",
       "      <td>6922.0</td>\n",
       "      <td>...</td>\n",
       "      <td>0</td>\n",
       "      <td>0</td>\n",
       "      <td>0</td>\n",
       "      <td>0</td>\n",
       "      <td>0</td>\n",
       "      <td>0</td>\n",
       "      <td>0</td>\n",
       "      <td>0</td>\n",
       "      <td>0</td>\n",
       "      <td>0</td>\n",
       "    </tr>\n",
       "  </tbody>\n",
       "</table>\n",
       "<p>3 rows × 58 columns</p>\n",
       "</div>"
      ],
      "text/plain": [
       "   Junk InteriorsStyle  PriceIndex8   ListDate Material  PriceIndex9 Agency  \\\n",
       "0   0.0           6LLJ      14674.0   9/7/2010     UT7W         8270   CAT3   \n",
       "1   1.0           XZ9F       4172.0   1/7/2009     PRN0         3890   CAT2   \n",
       "2   0.0           QWEV       8210.0  6/23/2010     A9RA         5900   CAT1   \n",
       "\n",
       "  AreaIncomeType EnvRating PriceIndex7  ...  ListDate_converted_7  \\\n",
       "0              B   missing     13143.0  ...                     0   \n",
       "1              B   missing      3461.0  ...                     0   \n",
       "2              B   missing      6922.0  ...                     0   \n",
       "\n",
       "  ListDate_converted_8 ListDate_converted_9 ListDate_converted_10  \\\n",
       "0                    0                    1                     0   \n",
       "1                    0                    0                     0   \n",
       "2                    0                    0                     0   \n",
       "\n",
       "  ListDate_converted_11 ListDate_converted_12  Material_PRN0  Material_C8A4  \\\n",
       "0                     0                     0              0              0   \n",
       "1                     0                     0              1              0   \n",
       "2                     0                     0              0              0   \n",
       "\n",
       "  Material_ZCI3 Material_NYFD  \n",
       "0             0             0  \n",
       "1             0             0  \n",
       "2             0             0  \n",
       "\n",
       "[3 rows x 58 columns]"
      ]
     },
     "execution_count": 103,
     "metadata": {},
     "output_type": "execute_result"
    }
   ],
   "source": [
    "bd_all.head(3)"
   ]
  },
  {
   "cell_type": "markdown",
   "metadata": {},
   "source": [
    "### 6.PriceIndex9"
   ]
  },
  {
   "cell_type": "code",
   "execution_count": 104,
   "metadata": {},
   "outputs": [
    {
     "data": {
      "text/plain": [
       "dtype('int64')"
      ]
     },
     "execution_count": 104,
     "metadata": {},
     "output_type": "execute_result"
    }
   ],
   "source": [
    "bd_all.PriceIndex9.dtype"
   ]
  },
  {
   "cell_type": "code",
   "execution_count": 105,
   "metadata": {},
   "outputs": [],
   "source": [
    "#no changes required"
   ]
  },
  {
   "cell_type": "markdown",
   "metadata": {},
   "source": [
    "### 7.Agency"
   ]
  },
  {
   "cell_type": "code",
   "execution_count": 106,
   "metadata": {},
   "outputs": [
    {
     "data": {
      "text/plain": [
       "CAT1       25314\n",
       "CAT2       23399\n",
       "CAT3       12315\n",
       "OTHER      11950\n",
       "missing        5\n",
       "Name: Agency, dtype: int64"
      ]
     },
     "execution_count": 106,
     "metadata": {},
     "output_type": "execute_result"
    }
   ],
   "source": [
    "bd_all.Agency.value_counts()"
   ]
  },
  {
   "cell_type": "code",
   "execution_count": 109,
   "metadata": {},
   "outputs": [],
   "source": [
    "#convert to dummies"
   ]
  },
  {
   "cell_type": "code",
   "execution_count": 107,
   "metadata": {},
   "outputs": [
    {
     "name": "stdout",
     "output_type": "stream",
     "text": [
      "Index(['CAT1', 'CAT2', 'CAT3'], dtype='object')\n",
      "CAT1\n",
      "CAT2\n",
      "CAT3\n"
     ]
    }
   ],
   "source": [
    "\n",
    "cols = ['Agency']\n",
    "for col in cols:\n",
    "    k = bd_all[col].value_counts()\n",
    "    k = k[k>100]\n",
    "    indexes = k.index[:-1]\n",
    "    print(indexes)\n",
    "    for i in indexes:\n",
    "        print(i)\n",
    "        bd_all[col+'_'+str(i)] = (bd_all[col]==i).astype(int)"
   ]
  },
  {
   "cell_type": "code",
   "execution_count": 108,
   "metadata": {},
   "outputs": [
    {
     "data": {
      "text/plain": [
       "Index(['Junk', 'InteriorsStyle', 'PriceIndex8', 'ListDate', 'Material',\n",
       "       'PriceIndex9', 'Agency', 'AreaIncomeType', 'EnvRating', 'PriceIndex7',\n",
       "       'ExpeditedListing', 'PriceIndex4', 'PriceIndex1', 'PriceIndex6',\n",
       "       'PRIMEUNIT', 'Channel', 'Zip', 'InsurancePremiumIndex', 'PlotType',\n",
       "       'Architecture', 'PriceIndex3', 'Region', 'PriceIndex5', 'SubModel',\n",
       "       'Facade', 'State', 'NormalisedPopulation', 'BuildYear', 'RegionType',\n",
       "       'PropertyAge', 'PriceIndex2', 'data', 'InteriorsStyle_K3BB',\n",
       "       'InteriorsStyle_RCQE', 'InteriorsStyle_WEGU', 'InteriorsStyle_2XWO',\n",
       "       'InteriorsStyle_V3Y1', 'InteriorsStyle_YBQJ', 'InteriorsStyle_AZMX',\n",
       "       'InteriorsStyle_DUFA', 'InteriorsStyle_7R8J', 'InteriorsStyle_H1CI',\n",
       "       'InteriorsStyle_ARWN', 'ListDate_converted_2', 'ListDate_converted_3',\n",
       "       'ListDate_converted_4', 'ListDate_converted_5', 'ListDate_converted_6',\n",
       "       'ListDate_converted_7', 'ListDate_converted_8', 'ListDate_converted_9',\n",
       "       'ListDate_converted_10', 'ListDate_converted_11',\n",
       "       'ListDate_converted_12', 'Material_PRN0', 'Material_C8A4',\n",
       "       'Material_ZCI3', 'Material_NYFD', 'Agency_CAT1', 'Agency_CAT2',\n",
       "       'Agency_CAT3'],\n",
       "      dtype='object')"
      ]
     },
     "execution_count": 108,
     "metadata": {},
     "output_type": "execute_result"
    }
   ],
   "source": [
    "bd_all.columns"
   ]
  },
  {
   "cell_type": "markdown",
   "metadata": {},
   "source": [
    "### 8.AreaIncomeType"
   ]
  },
  {
   "cell_type": "code",
   "execution_count": 111,
   "metadata": {},
   "outputs": [
    {
     "data": {
      "text/plain": [
       "A          36050\n",
       "B          33004\n",
       "missing     3174\n",
       "C            755\n",
       "Name: AreaIncomeType, dtype: int64"
      ]
     },
     "execution_count": 111,
     "metadata": {},
     "output_type": "execute_result"
    }
   ],
   "source": [
    "bd_all.AreaIncomeType.value_counts()"
   ]
  },
  {
   "cell_type": "code",
   "execution_count": null,
   "metadata": {},
   "outputs": [],
   "source": [
    "#create dummies with the cut off 3000"
   ]
  },
  {
   "cell_type": "code",
   "execution_count": 112,
   "metadata": {},
   "outputs": [
    {
     "name": "stdout",
     "output_type": "stream",
     "text": [
      "Index(['A', 'B'], dtype='object')\n",
      "A\n",
      "B\n"
     ]
    }
   ],
   "source": [
    "\n",
    "cols = ['AreaIncomeType']\n",
    "for col in cols:\n",
    "    k = bd_all[col].value_counts()\n",
    "    k = k[k>3000]\n",
    "    indexes = k.index[:-1]\n",
    "    print(indexes)\n",
    "    for i in indexes:\n",
    "        print(i)\n",
    "        bd_all[col+'_'+str(i)] = (bd_all[col]==i).astype(int)"
   ]
  },
  {
   "cell_type": "code",
   "execution_count": 113,
   "metadata": {},
   "outputs": [
    {
     "data": {
      "text/plain": [
       "Index(['Junk', 'InteriorsStyle', 'PriceIndex8', 'ListDate', 'Material',\n",
       "       'PriceIndex9', 'Agency', 'AreaIncomeType', 'EnvRating', 'PriceIndex7',\n",
       "       'ExpeditedListing', 'PriceIndex4', 'PriceIndex1', 'PriceIndex6',\n",
       "       'PRIMEUNIT', 'Channel', 'Zip', 'InsurancePremiumIndex', 'PlotType',\n",
       "       'Architecture', 'PriceIndex3', 'Region', 'PriceIndex5', 'SubModel',\n",
       "       'Facade', 'State', 'NormalisedPopulation', 'BuildYear', 'RegionType',\n",
       "       'PropertyAge', 'PriceIndex2', 'data', 'InteriorsStyle_K3BB',\n",
       "       'InteriorsStyle_RCQE', 'InteriorsStyle_WEGU', 'InteriorsStyle_2XWO',\n",
       "       'InteriorsStyle_V3Y1', 'InteriorsStyle_YBQJ', 'InteriorsStyle_AZMX',\n",
       "       'InteriorsStyle_DUFA', 'InteriorsStyle_7R8J', 'InteriorsStyle_H1CI',\n",
       "       'InteriorsStyle_ARWN', 'ListDate_converted_2', 'ListDate_converted_3',\n",
       "       'ListDate_converted_4', 'ListDate_converted_5', 'ListDate_converted_6',\n",
       "       'ListDate_converted_7', 'ListDate_converted_8', 'ListDate_converted_9',\n",
       "       'ListDate_converted_10', 'ListDate_converted_11',\n",
       "       'ListDate_converted_12', 'Material_PRN0', 'Material_C8A4',\n",
       "       'Material_ZCI3', 'Material_NYFD', 'Agency_CAT1', 'Agency_CAT2',\n",
       "       'Agency_CAT3', 'AreaIncomeType_A', 'AreaIncomeType_B'],\n",
       "      dtype='object')"
      ]
     },
     "execution_count": 113,
     "metadata": {},
     "output_type": "execute_result"
    }
   ],
   "source": [
    "bd_all.columns"
   ]
  },
  {
   "cell_type": "markdown",
   "metadata": {},
   "source": [
    "### 9.EnvRating"
   ]
  },
  {
   "cell_type": "code",
   "execution_count": 115,
   "metadata": {},
   "outputs": [
    {
     "data": {
      "text/plain": [
       "missing    69564\n",
       "GREEN       3340\n",
       "RED           79\n",
       "Name: EnvRating, dtype: int64"
      ]
     },
     "execution_count": 115,
     "metadata": {},
     "output_type": "execute_result"
    }
   ],
   "source": [
    "bd_all.EnvRating.value_counts()"
   ]
  },
  {
   "cell_type": "code",
   "execution_count": 116,
   "metadata": {},
   "outputs": [],
   "source": [
    "#create dummies with the cutoff of 3000"
   ]
  },
  {
   "cell_type": "code",
   "execution_count": 117,
   "metadata": {},
   "outputs": [
    {
     "name": "stdout",
     "output_type": "stream",
     "text": [
      "Index(['missing'], dtype='object')\n",
      "missing\n"
     ]
    }
   ],
   "source": [
    "\n",
    "cols = ['EnvRating']\n",
    "for col in cols:\n",
    "    k = bd_all[col].value_counts()\n",
    "    k = k[k>3000]\n",
    "    indexes = k.index[:-1]\n",
    "    print(indexes)\n",
    "    for i in indexes:\n",
    "        print(i)\n",
    "        bd_all[col+'_'+str(i)] = (bd_all[col]==i).astype(int)"
   ]
  },
  {
   "cell_type": "code",
   "execution_count": 119,
   "metadata": {},
   "outputs": [
    {
     "data": {
      "text/plain": [
       "Index(['Junk', 'InteriorsStyle', 'PriceIndex8', 'ListDate', 'Material',\n",
       "       'PriceIndex9', 'Agency', 'AreaIncomeType', 'EnvRating', 'PriceIndex7',\n",
       "       'ExpeditedListing', 'PriceIndex4', 'PriceIndex1', 'PriceIndex6',\n",
       "       'PRIMEUNIT', 'Channel', 'Zip', 'InsurancePremiumIndex', 'PlotType',\n",
       "       'Architecture', 'PriceIndex3', 'Region', 'PriceIndex5', 'SubModel',\n",
       "       'Facade', 'State', 'NormalisedPopulation', 'BuildYear', 'RegionType',\n",
       "       'PropertyAge', 'PriceIndex2', 'data', 'InteriorsStyle_K3BB',\n",
       "       'InteriorsStyle_RCQE', 'InteriorsStyle_WEGU', 'InteriorsStyle_2XWO',\n",
       "       'InteriorsStyle_V3Y1', 'InteriorsStyle_YBQJ', 'InteriorsStyle_AZMX',\n",
       "       'InteriorsStyle_DUFA', 'InteriorsStyle_7R8J', 'InteriorsStyle_H1CI',\n",
       "       'InteriorsStyle_ARWN', 'ListDate_converted_2', 'ListDate_converted_3',\n",
       "       'ListDate_converted_4', 'ListDate_converted_5', 'ListDate_converted_6',\n",
       "       'ListDate_converted_7', 'ListDate_converted_8', 'ListDate_converted_9',\n",
       "       'ListDate_converted_10', 'ListDate_converted_11',\n",
       "       'ListDate_converted_12', 'Material_PRN0', 'Material_C8A4',\n",
       "       'Material_ZCI3', 'Material_NYFD', 'Agency_CAT1', 'Agency_CAT2',\n",
       "       'Agency_CAT3', 'AreaIncomeType_A', 'AreaIncomeType_B',\n",
       "       'EnvRating_missing'],\n",
       "      dtype='object')"
      ]
     },
     "execution_count": 119,
     "metadata": {},
     "output_type": "execute_result"
    }
   ],
   "source": [
    "bd_all.columns"
   ]
  },
  {
   "cell_type": "markdown",
   "metadata": {},
   "source": [
    "### 10.PriceIndex7"
   ]
  },
  {
   "cell_type": "code",
   "execution_count": 120,
   "metadata": {},
   "outputs": [
    {
     "data": {
      "text/plain": [
       "0        13143.0\n",
       "1         3461.0\n",
       "2         6922.0\n",
       "3         6300.0\n",
       "4         8330.0\n",
       "          ...   \n",
       "10943    12860.0\n",
       "10944     6845.0\n",
       "10945    14663.0\n",
       "10946    10292.0\n",
       "10947     3524.0\n",
       "Name: PriceIndex7, Length: 72983, dtype: object"
      ]
     },
     "execution_count": 120,
     "metadata": {},
     "output_type": "execute_result"
    }
   ],
   "source": [
    "bd_all.PriceIndex7"
   ]
  },
  {
   "cell_type": "code",
   "execution_count": 121,
   "metadata": {},
   "outputs": [],
   "source": [
    "#convert to numeric"
   ]
  },
  {
   "cell_type": "code",
   "execution_count": 122,
   "metadata": {},
   "outputs": [],
   "source": [
    "bd_all.PriceIndex7=pd.to_numeric(bd_all.PriceIndex7,errors='coerce')"
   ]
  },
  {
   "cell_type": "code",
   "execution_count": 124,
   "metadata": {},
   "outputs": [
    {
     "data": {
      "text/plain": [
       "dtype('float64')"
      ]
     },
     "execution_count": 124,
     "metadata": {},
     "output_type": "execute_result"
    }
   ],
   "source": [
    "bd_all.PriceIndex7.dtype"
   ]
  },
  {
   "cell_type": "markdown",
   "metadata": {},
   "source": [
    "### 11.ExpeditedListing"
   ]
  },
  {
   "cell_type": "code",
   "execution_count": 125,
   "metadata": {},
   "outputs": [
    {
     "data": {
      "text/plain": [
       "0        0\n",
       "1        0\n",
       "2        0\n",
       "3        0\n",
       "4        0\n",
       "        ..\n",
       "10943    0\n",
       "10944    0\n",
       "10945    0\n",
       "10946    0\n",
       "10947    0\n",
       "Name: ExpeditedListing, Length: 72983, dtype: int64"
      ]
     },
     "execution_count": 125,
     "metadata": {},
     "output_type": "execute_result"
    }
   ],
   "source": [
    "bd_all.ExpeditedListing"
   ]
  },
  {
   "cell_type": "code",
   "execution_count": 126,
   "metadata": {},
   "outputs": [
    {
     "data": {
      "text/plain": [
       "0    71138\n",
       "1     1845\n",
       "Name: ExpeditedListing, dtype: int64"
      ]
     },
     "execution_count": 126,
     "metadata": {},
     "output_type": "execute_result"
    }
   ],
   "source": [
    "bd_all.ExpeditedListing.value_counts()"
   ]
  },
  {
   "cell_type": "code",
   "execution_count": 127,
   "metadata": {},
   "outputs": [],
   "source": [
    "#no changes required"
   ]
  },
  {
   "cell_type": "markdown",
   "metadata": {},
   "source": [
    "### 12.PriceIndex4"
   ]
  },
  {
   "cell_type": "code",
   "execution_count": 128,
   "metadata": {},
   "outputs": [
    {
     "data": {
      "text/plain": [
       "0        14224.0\n",
       "1         4404.0\n",
       "2         8952.0\n",
       "3         7460.0\n",
       "4         9846.0\n",
       "          ...   \n",
       "10943    10415.0\n",
       "10944     8521.0\n",
       "10945    13555.0\n",
       "10946    11733.0\n",
       "10947     4223.0\n",
       "Name: PriceIndex4, Length: 72983, dtype: object"
      ]
     },
     "execution_count": 128,
     "metadata": {},
     "output_type": "execute_result"
    }
   ],
   "source": [
    "bd_all.PriceIndex4"
   ]
  },
  {
   "cell_type": "code",
   "execution_count": 129,
   "metadata": {},
   "outputs": [],
   "source": [
    "#convert to numeric"
   ]
  },
  {
   "cell_type": "code",
   "execution_count": 130,
   "metadata": {},
   "outputs": [],
   "source": [
    "bd_all.PriceIndex4=pd.to_numeric(bd_all.PriceIndex4,errors='coerce')"
   ]
  },
  {
   "cell_type": "code",
   "execution_count": 131,
   "metadata": {},
   "outputs": [
    {
     "data": {
      "text/plain": [
       "dtype('float64')"
      ]
     },
     "execution_count": 131,
     "metadata": {},
     "output_type": "execute_result"
    }
   ],
   "source": [
    "bd_all.PriceIndex4.dtype"
   ]
  },
  {
   "cell_type": "code",
   "execution_count": 133,
   "metadata": {},
   "outputs": [
    {
     "data": {
      "text/plain": [
       "Index(['Junk', 'InteriorsStyle', 'PriceIndex8', 'ListDate', 'Material',\n",
       "       'PriceIndex9', 'Agency', 'AreaIncomeType', 'EnvRating', 'PriceIndex7',\n",
       "       'ExpeditedListing', 'PriceIndex4', 'PriceIndex1', 'PriceIndex6',\n",
       "       'PRIMEUNIT', 'Channel', 'Zip', 'InsurancePremiumIndex', 'PlotType',\n",
       "       'Architecture', 'PriceIndex3', 'Region', 'PriceIndex5', 'SubModel',\n",
       "       'Facade', 'State', 'NormalisedPopulation', 'BuildYear', 'RegionType',\n",
       "       'PropertyAge', 'PriceIndex2', 'data', 'InteriorsStyle_K3BB',\n",
       "       'InteriorsStyle_RCQE', 'InteriorsStyle_WEGU', 'InteriorsStyle_2XWO',\n",
       "       'InteriorsStyle_V3Y1', 'InteriorsStyle_YBQJ', 'InteriorsStyle_AZMX',\n",
       "       'InteriorsStyle_DUFA', 'InteriorsStyle_7R8J', 'InteriorsStyle_H1CI',\n",
       "       'InteriorsStyle_ARWN', 'ListDate_converted_2', 'ListDate_converted_3',\n",
       "       'ListDate_converted_4', 'ListDate_converted_5', 'ListDate_converted_6',\n",
       "       'ListDate_converted_7', 'ListDate_converted_8', 'ListDate_converted_9',\n",
       "       'ListDate_converted_10', 'ListDate_converted_11',\n",
       "       'ListDate_converted_12', 'Material_PRN0', 'Material_C8A4',\n",
       "       'Material_ZCI3', 'Material_NYFD', 'Agency_CAT1', 'Agency_CAT2',\n",
       "       'Agency_CAT3', 'AreaIncomeType_A', 'AreaIncomeType_B',\n",
       "       'EnvRating_missing'],\n",
       "      dtype='object')"
      ]
     },
     "execution_count": 133,
     "metadata": {},
     "output_type": "execute_result"
    }
   ],
   "source": [
    "bd_all.columns"
   ]
  },
  {
   "cell_type": "markdown",
   "metadata": {},
   "source": [
    "### 13.PriceIndex1"
   ]
  },
  {
   "cell_type": "code",
   "execution_count": 134,
   "metadata": {},
   "outputs": [
    {
     "data": {
      "text/plain": [
       "0         9217.0\n",
       "1         2958.0\n",
       "2         4568.0\n",
       "3         5361.0\n",
       "4         5428.0\n",
       "          ...   \n",
       "10943     8497.0\n",
       "10944     3739.0\n",
       "10945    10199.0\n",
       "10946     6735.0\n",
       "10947     2547.0\n",
       "Name: PriceIndex1, Length: 72983, dtype: object"
      ]
     },
     "execution_count": 134,
     "metadata": {},
     "output_type": "execute_result"
    }
   ],
   "source": [
    "bd_all.PriceIndex1"
   ]
  },
  {
   "cell_type": "code",
   "execution_count": 135,
   "metadata": {},
   "outputs": [],
   "source": [
    "#convert to numeric"
   ]
  },
  {
   "cell_type": "code",
   "execution_count": 136,
   "metadata": {},
   "outputs": [],
   "source": [
    "bd_all.PriceIndex1=pd.to_numeric(bd_all.PriceIndex1,errors='coerce')"
   ]
  },
  {
   "cell_type": "code",
   "execution_count": 137,
   "metadata": {},
   "outputs": [
    {
     "data": {
      "text/plain": [
       "dtype('float64')"
      ]
     },
     "execution_count": 137,
     "metadata": {},
     "output_type": "execute_result"
    }
   ],
   "source": [
    "bd_all.PriceIndex1.dtype"
   ]
  },
  {
   "cell_type": "markdown",
   "metadata": {},
   "source": [
    "### 14.PriceIndex6"
   ]
  },
  {
   "cell_type": "code",
   "execution_count": 138,
   "metadata": {},
   "outputs": [
    {
     "data": {
      "text/plain": [
       "0        10387.0\n",
       "1         3400.0\n",
       "2         4862.0\n",
       "3         6305.0\n",
       "4         5718.0\n",
       "          ...   \n",
       "10943     9703.0\n",
       "10944     4716.0\n",
       "10945    11939.0\n",
       "10946     8075.0\n",
       "10947     3849.0\n",
       "Name: PriceIndex6, Length: 72983, dtype: object"
      ]
     },
     "execution_count": 138,
     "metadata": {},
     "output_type": "execute_result"
    }
   ],
   "source": [
    "bd_all.PriceIndex6"
   ]
  },
  {
   "cell_type": "code",
   "execution_count": 139,
   "metadata": {},
   "outputs": [],
   "source": [
    "#conert to numeric"
   ]
  },
  {
   "cell_type": "code",
   "execution_count": 140,
   "metadata": {},
   "outputs": [],
   "source": [
    "bd_all.PriceIndex6=pd.to_numeric(bd_all.PriceIndex6,errors='coerce')"
   ]
  },
  {
   "cell_type": "code",
   "execution_count": 141,
   "metadata": {},
   "outputs": [
    {
     "data": {
      "text/plain": [
       "dtype('float64')"
      ]
     },
     "execution_count": 141,
     "metadata": {},
     "output_type": "execute_result"
    }
   ],
   "source": [
    "bd_all.PriceIndex6.dtype"
   ]
  },
  {
   "cell_type": "markdown",
   "metadata": {},
   "source": [
    "### 15.PRIMEUNIT"
   ]
  },
  {
   "cell_type": "code",
   "execution_count": 143,
   "metadata": {},
   "outputs": [
    {
     "data": {
      "text/plain": [
       "missing    69564\n",
       "NO          3357\n",
       "YES           62\n",
       "Name: PRIMEUNIT, dtype: int64"
      ]
     },
     "execution_count": 143,
     "metadata": {},
     "output_type": "execute_result"
    }
   ],
   "source": [
    "bd_all.PRIMEUNIT.value_counts()"
   ]
  },
  {
   "cell_type": "code",
   "execution_count": null,
   "metadata": {},
   "outputs": [],
   "source": [
    "#create dummies with the cut off of 3000"
   ]
  },
  {
   "cell_type": "code",
   "execution_count": 144,
   "metadata": {},
   "outputs": [
    {
     "name": "stdout",
     "output_type": "stream",
     "text": [
      "Index(['missing'], dtype='object')\n",
      "missing\n"
     ]
    }
   ],
   "source": [
    "\n",
    "cols = ['PRIMEUNIT']\n",
    "for col in cols:\n",
    "    k = bd_all[col].value_counts()\n",
    "    k = k[k>3000]\n",
    "    indexes = k.index[:-1]\n",
    "    print(indexes)\n",
    "    for i in indexes:\n",
    "        print(i)\n",
    "        bd_all[col+'_'+str(i)] = (bd_all[col]==i).astype(int)"
   ]
  },
  {
   "cell_type": "code",
   "execution_count": 145,
   "metadata": {},
   "outputs": [
    {
     "data": {
      "text/plain": [
       "Index(['Junk', 'InteriorsStyle', 'PriceIndex8', 'ListDate', 'Material',\n",
       "       'PriceIndex9', 'Agency', 'AreaIncomeType', 'EnvRating', 'PriceIndex7',\n",
       "       'ExpeditedListing', 'PriceIndex4', 'PriceIndex1', 'PriceIndex6',\n",
       "       'PRIMEUNIT', 'Channel', 'Zip', 'InsurancePremiumIndex', 'PlotType',\n",
       "       'Architecture', 'PriceIndex3', 'Region', 'PriceIndex5', 'SubModel',\n",
       "       'Facade', 'State', 'NormalisedPopulation', 'BuildYear', 'RegionType',\n",
       "       'PropertyAge', 'PriceIndex2', 'data', 'InteriorsStyle_K3BB',\n",
       "       'InteriorsStyle_RCQE', 'InteriorsStyle_WEGU', 'InteriorsStyle_2XWO',\n",
       "       'InteriorsStyle_V3Y1', 'InteriorsStyle_YBQJ', 'InteriorsStyle_AZMX',\n",
       "       'InteriorsStyle_DUFA', 'InteriorsStyle_7R8J', 'InteriorsStyle_H1CI',\n",
       "       'InteriorsStyle_ARWN', 'ListDate_converted_2', 'ListDate_converted_3',\n",
       "       'ListDate_converted_4', 'ListDate_converted_5', 'ListDate_converted_6',\n",
       "       'ListDate_converted_7', 'ListDate_converted_8', 'ListDate_converted_9',\n",
       "       'ListDate_converted_10', 'ListDate_converted_11',\n",
       "       'ListDate_converted_12', 'Material_PRN0', 'Material_C8A4',\n",
       "       'Material_ZCI3', 'Material_NYFD', 'Agency_CAT1', 'Agency_CAT2',\n",
       "       'Agency_CAT3', 'AreaIncomeType_A', 'AreaIncomeType_B',\n",
       "       'EnvRating_missing', 'PRIMEUNIT_missing'],\n",
       "      dtype='object')"
      ]
     },
     "execution_count": 145,
     "metadata": {},
     "output_type": "execute_result"
    }
   ],
   "source": [
    "bd_all.columns"
   ]
  },
  {
   "cell_type": "markdown",
   "metadata": {},
   "source": [
    "### 16.Channel"
   ]
  },
  {
   "cell_type": "code",
   "execution_count": 147,
   "metadata": {},
   "outputs": [
    {
     "data": {
      "text/plain": [
       "Direct    41043\n",
       "Other     17501\n",
       "Agent     14439\n",
       "Name: Channel, dtype: int64"
      ]
     },
     "execution_count": 147,
     "metadata": {},
     "output_type": "execute_result"
    }
   ],
   "source": [
    "bd_all.Channel.value_counts()"
   ]
  },
  {
   "cell_type": "code",
   "execution_count": 148,
   "metadata": {},
   "outputs": [],
   "source": [
    "#create dummies"
   ]
  },
  {
   "cell_type": "code",
   "execution_count": 149,
   "metadata": {},
   "outputs": [
    {
     "name": "stdout",
     "output_type": "stream",
     "text": [
      "Index(['Direct', 'Other'], dtype='object')\n",
      "Direct\n",
      "Other\n"
     ]
    }
   ],
   "source": [
    "cols = ['Channel']\n",
    "for col in cols:\n",
    "    k = bd_all[col].value_counts()\n",
    "    k = k[k>1000]\n",
    "    indexes = k.index[:-1]\n",
    "    print(indexes)\n",
    "    for i in indexes:\n",
    "        print(i)\n",
    "        bd_all[col+'_'+str(i)] = (bd_all[col]==i).astype(int)"
   ]
  },
  {
   "cell_type": "code",
   "execution_count": 150,
   "metadata": {},
   "outputs": [
    {
     "data": {
      "text/plain": [
       "Index(['Junk', 'InteriorsStyle', 'PriceIndex8', 'ListDate', 'Material',\n",
       "       'PriceIndex9', 'Agency', 'AreaIncomeType', 'EnvRating', 'PriceIndex7',\n",
       "       'ExpeditedListing', 'PriceIndex4', 'PriceIndex1', 'PriceIndex6',\n",
       "       'PRIMEUNIT', 'Channel', 'Zip', 'InsurancePremiumIndex', 'PlotType',\n",
       "       'Architecture', 'PriceIndex3', 'Region', 'PriceIndex5', 'SubModel',\n",
       "       'Facade', 'State', 'NormalisedPopulation', 'BuildYear', 'RegionType',\n",
       "       'PropertyAge', 'PriceIndex2', 'data', 'InteriorsStyle_K3BB',\n",
       "       'InteriorsStyle_RCQE', 'InteriorsStyle_WEGU', 'InteriorsStyle_2XWO',\n",
       "       'InteriorsStyle_V3Y1', 'InteriorsStyle_YBQJ', 'InteriorsStyle_AZMX',\n",
       "       'InteriorsStyle_DUFA', 'InteriorsStyle_7R8J', 'InteriorsStyle_H1CI',\n",
       "       'InteriorsStyle_ARWN', 'ListDate_converted_2', 'ListDate_converted_3',\n",
       "       'ListDate_converted_4', 'ListDate_converted_5', 'ListDate_converted_6',\n",
       "       'ListDate_converted_7', 'ListDate_converted_8', 'ListDate_converted_9',\n",
       "       'ListDate_converted_10', 'ListDate_converted_11',\n",
       "       'ListDate_converted_12', 'Material_PRN0', 'Material_C8A4',\n",
       "       'Material_ZCI3', 'Material_NYFD', 'Agency_CAT1', 'Agency_CAT2',\n",
       "       'Agency_CAT3', 'AreaIncomeType_A', 'AreaIncomeType_B',\n",
       "       'EnvRating_missing', 'PRIMEUNIT_missing', 'Channel_Direct',\n",
       "       'Channel_Other'],\n",
       "      dtype='object')"
      ]
     },
     "execution_count": 150,
     "metadata": {},
     "output_type": "execute_result"
    }
   ],
   "source": [
    "bd_all.columns"
   ]
  },
  {
   "cell_type": "markdown",
   "metadata": {},
   "source": [
    "### 16.Zip"
   ]
  },
  {
   "cell_type": "code",
   "execution_count": 152,
   "metadata": {},
   "outputs": [
    {
     "data": {
      "text/plain": [
       "32824    3699\n",
       "27542    3402\n",
       "75236    2431\n",
       "74135    2321\n",
       "80022    2118\n",
       "         ... \n",
       "85248       1\n",
       "25071       1\n",
       "85260       1\n",
       "80112       1\n",
       "76101       1\n",
       "Name: Zip, Length: 153, dtype: int64"
      ]
     },
     "execution_count": 152,
     "metadata": {},
     "output_type": "execute_result"
    }
   ],
   "source": [
    "bd_all.Zip.value_counts()"
   ]
  },
  {
   "cell_type": "code",
   "execution_count": 161,
   "metadata": {},
   "outputs": [
    {
     "data": {
      "text/plain": [
       "2"
      ]
     },
     "execution_count": 161,
     "metadata": {},
     "output_type": "execute_result"
    }
   ],
   "source": [
    "(bd_all.Zip.value_counts()>3000).sum()"
   ]
  },
  {
   "cell_type": "code",
   "execution_count": 157,
   "metadata": {},
   "outputs": [],
   "source": [
    "#create dummies it is zip code  with cutoff 3000 since the counts should be atleast 5% of the population"
   ]
  },
  {
   "cell_type": "code",
   "execution_count": 159,
   "metadata": {},
   "outputs": [
    {
     "name": "stdout",
     "output_type": "stream",
     "text": [
      "Int64Index([32824], dtype='int64')\n",
      "32824\n"
     ]
    }
   ],
   "source": [
    "cols = ['Zip']\n",
    "for col in cols:\n",
    "    k = bd_all[col].value_counts()\n",
    "    k = k[k>3000]\n",
    "    indexes = k.index[:-1]\n",
    "    print(indexes)\n",
    "    for i in indexes:\n",
    "        print(i)\n",
    "        bd_all[col+'_'+str(i)] = (bd_all[col]==i).astype(int)"
   ]
  },
  {
   "cell_type": "code",
   "execution_count": 160,
   "metadata": {},
   "outputs": [
    {
     "data": {
      "text/plain": [
       "Index(['Junk', 'InteriorsStyle', 'PriceIndex8', 'ListDate', 'Material',\n",
       "       'PriceIndex9', 'Agency', 'AreaIncomeType', 'EnvRating', 'PriceIndex7',\n",
       "       'ExpeditedListing', 'PriceIndex4', 'PriceIndex1', 'PriceIndex6',\n",
       "       'PRIMEUNIT', 'Channel', 'Zip', 'InsurancePremiumIndex', 'PlotType',\n",
       "       'Architecture', 'PriceIndex3', 'Region', 'PriceIndex5', 'SubModel',\n",
       "       'Facade', 'State', 'NormalisedPopulation', 'BuildYear', 'RegionType',\n",
       "       'PropertyAge', 'PriceIndex2', 'data', 'InteriorsStyle_K3BB',\n",
       "       'InteriorsStyle_RCQE', 'InteriorsStyle_WEGU', 'InteriorsStyle_2XWO',\n",
       "       'InteriorsStyle_V3Y1', 'InteriorsStyle_YBQJ', 'InteriorsStyle_AZMX',\n",
       "       'InteriorsStyle_DUFA', 'InteriorsStyle_7R8J', 'InteriorsStyle_H1CI',\n",
       "       'InteriorsStyle_ARWN', 'ListDate_converted_2', 'ListDate_converted_3',\n",
       "       'ListDate_converted_4', 'ListDate_converted_5', 'ListDate_converted_6',\n",
       "       'ListDate_converted_7', 'ListDate_converted_8', 'ListDate_converted_9',\n",
       "       'ListDate_converted_10', 'ListDate_converted_11',\n",
       "       'ListDate_converted_12', 'Material_PRN0', 'Material_C8A4',\n",
       "       'Material_ZCI3', 'Material_NYFD', 'Agency_CAT1', 'Agency_CAT2',\n",
       "       'Agency_CAT3', 'AreaIncomeType_A', 'AreaIncomeType_B',\n",
       "       'EnvRating_missing', 'PRIMEUNIT_missing', 'Channel_Direct',\n",
       "       'Channel_Other', 'Zip_32824'],\n",
       "      dtype='object')"
      ]
     },
     "execution_count": 160,
     "metadata": {},
     "output_type": "execute_result"
    }
   ],
   "source": [
    "bd_all.columns"
   ]
  },
  {
   "cell_type": "markdown",
   "metadata": {},
   "source": [
    "### 17.InsurancePremiumIndex"
   ]
  },
  {
   "cell_type": "code",
   "execution_count": 163,
   "metadata": {},
   "outputs": [
    {
     "data": {
      "text/plain": [
       "920     2870\n",
       "1974    2407\n",
       "2152    2082\n",
       "1389    2078\n",
       "1215    2006\n",
       "        ... \n",
       "1872       1\n",
       "6519       1\n",
       "1361       1\n",
       "4241       1\n",
       "1931       1\n",
       "Name: InsurancePremiumIndex, Length: 281, dtype: int64"
      ]
     },
     "execution_count": 163,
     "metadata": {},
     "output_type": "execute_result"
    }
   ],
   "source": [
    "bd_all.InsurancePremiumIndex.value_counts()"
   ]
  },
  {
   "cell_type": "code",
   "execution_count": 164,
   "metadata": {},
   "outputs": [],
   "source": [
    "# no changes required"
   ]
  },
  {
   "cell_type": "markdown",
   "metadata": {},
   "source": [
    "### 18.PlotType"
   ]
  },
  {
   "cell_type": "code",
   "execution_count": 166,
   "metadata": {},
   "outputs": [
    {
     "data": {
      "text/plain": [
       "WHBI    30785\n",
       "W62B     8850\n",
       "32T2     8090\n",
       "DIJX     7205\n",
       "WLQ6     5854\n",
       "DSSM     3170\n",
       "DJOP     2276\n",
       "7RBQ     1915\n",
       "I00H     1759\n",
       "V5R0     1433\n",
       "8FRL      864\n",
       "LIGY      777\n",
       "T559        5\n",
       "Name: PlotType, dtype: int64"
      ]
     },
     "execution_count": 166,
     "metadata": {},
     "output_type": "execute_result"
    }
   ],
   "source": [
    "bd_all.PlotType.value_counts()"
   ]
  },
  {
   "cell_type": "code",
   "execution_count": 167,
   "metadata": {},
   "outputs": [],
   "source": [
    "# create dummies with cutoff of 3000 "
   ]
  },
  {
   "cell_type": "code",
   "execution_count": 168,
   "metadata": {},
   "outputs": [
    {
     "name": "stdout",
     "output_type": "stream",
     "text": [
      "Index(['WHBI', 'W62B', '32T2', 'DIJX', 'WLQ6'], dtype='object')\n",
      "WHBI\n",
      "W62B\n",
      "32T2\n",
      "DIJX\n",
      "WLQ6\n"
     ]
    }
   ],
   "source": [
    "cols = ['PlotType']\n",
    "for col in cols:\n",
    "    k = bd_all[col].value_counts()\n",
    "    k = k[k>3000]\n",
    "    indexes = k.index[:-1]\n",
    "    print(indexes)\n",
    "    for i in indexes:\n",
    "        print(i)\n",
    "        bd_all[col+'_'+str(i)] = (bd_all[col]==i).astype(int)"
   ]
  },
  {
   "cell_type": "code",
   "execution_count": 169,
   "metadata": {},
   "outputs": [
    {
     "data": {
      "text/plain": [
       "Index(['Junk', 'InteriorsStyle', 'PriceIndex8', 'ListDate', 'Material',\n",
       "       'PriceIndex9', 'Agency', 'AreaIncomeType', 'EnvRating', 'PriceIndex7',\n",
       "       'ExpeditedListing', 'PriceIndex4', 'PriceIndex1', 'PriceIndex6',\n",
       "       'PRIMEUNIT', 'Channel', 'Zip', 'InsurancePremiumIndex', 'PlotType',\n",
       "       'Architecture', 'PriceIndex3', 'Region', 'PriceIndex5', 'SubModel',\n",
       "       'Facade', 'State', 'NormalisedPopulation', 'BuildYear', 'RegionType',\n",
       "       'PropertyAge', 'PriceIndex2', 'data', 'InteriorsStyle_K3BB',\n",
       "       'InteriorsStyle_RCQE', 'InteriorsStyle_WEGU', 'InteriorsStyle_2XWO',\n",
       "       'InteriorsStyle_V3Y1', 'InteriorsStyle_YBQJ', 'InteriorsStyle_AZMX',\n",
       "       'InteriorsStyle_DUFA', 'InteriorsStyle_7R8J', 'InteriorsStyle_H1CI',\n",
       "       'InteriorsStyle_ARWN', 'ListDate_converted_2', 'ListDate_converted_3',\n",
       "       'ListDate_converted_4', 'ListDate_converted_5', 'ListDate_converted_6',\n",
       "       'ListDate_converted_7', 'ListDate_converted_8', 'ListDate_converted_9',\n",
       "       'ListDate_converted_10', 'ListDate_converted_11',\n",
       "       'ListDate_converted_12', 'Material_PRN0', 'Material_C8A4',\n",
       "       'Material_ZCI3', 'Material_NYFD', 'Agency_CAT1', 'Agency_CAT2',\n",
       "       'Agency_CAT3', 'AreaIncomeType_A', 'AreaIncomeType_B',\n",
       "       'EnvRating_missing', 'PRIMEUNIT_missing', 'Channel_Direct',\n",
       "       'Channel_Other', 'Zip_32824', 'PlotType_WHBI', 'PlotType_W62B',\n",
       "       'PlotType_32T2', 'PlotType_DIJX', 'PlotType_WLQ6'],\n",
       "      dtype='object')"
      ]
     },
     "execution_count": 169,
     "metadata": {},
     "output_type": "execute_result"
    }
   ],
   "source": [
    "bd_all.columns"
   ]
  },
  {
   "cell_type": "markdown",
   "metadata": {},
   "source": [
    "### 19.Architecture"
   ]
  },
  {
   "cell_type": "code",
   "execution_count": 171,
   "metadata": {},
   "outputs": [
    {
     "data": {
      "text/plain": [
       "YIK5    17248\n",
       "TP7R    12912\n",
       "I3Z9    11305\n",
       "AVYP     8844\n",
       "1M5X     4258\n",
       "4GZ4     2484\n",
       "7IYX     2163\n",
       "RZOR     2085\n",
       "8SPA     1811\n",
       "K92H     1644\n",
       "KML6     1328\n",
       "M3C0     1144\n",
       "5NBT     1030\n",
       "RIAX      979\n",
       "STJH      913\n",
       "X120      720\n",
       "5A9R      649\n",
       "DKOO      497\n",
       "AZHP      243\n",
       "FCXM      134\n",
       "1IKD      134\n",
       "WWBR      129\n",
       "W86R       97\n",
       "XDZM       42\n",
       "R0QP       37\n",
       "CR4E       33\n",
       "BOLF       33\n",
       "O8PU       31\n",
       "GHDG       28\n",
       "PQP2       24\n",
       "OYQM        2\n",
       "2MTV        1\n",
       "OJBM        1\n",
       "Name: Architecture, dtype: int64"
      ]
     },
     "execution_count": 171,
     "metadata": {},
     "output_type": "execute_result"
    }
   ],
   "source": [
    "bd_all.Architecture.value_counts()"
   ]
  },
  {
   "cell_type": "code",
   "execution_count": 172,
   "metadata": {},
   "outputs": [],
   "source": [
    "# create dummies with cutoff of 3000"
   ]
  },
  {
   "cell_type": "code",
   "execution_count": 173,
   "metadata": {},
   "outputs": [
    {
     "name": "stdout",
     "output_type": "stream",
     "text": [
      "Index(['YIK5', 'TP7R', 'I3Z9', 'AVYP'], dtype='object')\n",
      "YIK5\n",
      "TP7R\n",
      "I3Z9\n",
      "AVYP\n"
     ]
    }
   ],
   "source": [
    "cols = ['Architecture']\n",
    "for col in cols:\n",
    "    k = bd_all[col].value_counts()\n",
    "    k = k[k>3000]\n",
    "    indexes = k.index[:-1]\n",
    "    print(indexes)\n",
    "    for i in indexes:\n",
    "        print(i)\n",
    "        bd_all[col+'_'+str(i)] = (bd_all[col]==i).astype(int)"
   ]
  },
  {
   "cell_type": "code",
   "execution_count": 174,
   "metadata": {},
   "outputs": [
    {
     "data": {
      "text/plain": [
       "Index(['Junk', 'InteriorsStyle', 'PriceIndex8', 'ListDate', 'Material',\n",
       "       'PriceIndex9', 'Agency', 'AreaIncomeType', 'EnvRating', 'PriceIndex7',\n",
       "       'ExpeditedListing', 'PriceIndex4', 'PriceIndex1', 'PriceIndex6',\n",
       "       'PRIMEUNIT', 'Channel', 'Zip', 'InsurancePremiumIndex', 'PlotType',\n",
       "       'Architecture', 'PriceIndex3', 'Region', 'PriceIndex5', 'SubModel',\n",
       "       'Facade', 'State', 'NormalisedPopulation', 'BuildYear', 'RegionType',\n",
       "       'PropertyAge', 'PriceIndex2', 'data', 'InteriorsStyle_K3BB',\n",
       "       'InteriorsStyle_RCQE', 'InteriorsStyle_WEGU', 'InteriorsStyle_2XWO',\n",
       "       'InteriorsStyle_V3Y1', 'InteriorsStyle_YBQJ', 'InteriorsStyle_AZMX',\n",
       "       'InteriorsStyle_DUFA', 'InteriorsStyle_7R8J', 'InteriorsStyle_H1CI',\n",
       "       'InteriorsStyle_ARWN', 'ListDate_converted_2', 'ListDate_converted_3',\n",
       "       'ListDate_converted_4', 'ListDate_converted_5', 'ListDate_converted_6',\n",
       "       'ListDate_converted_7', 'ListDate_converted_8', 'ListDate_converted_9',\n",
       "       'ListDate_converted_10', 'ListDate_converted_11',\n",
       "       'ListDate_converted_12', 'Material_PRN0', 'Material_C8A4',\n",
       "       'Material_ZCI3', 'Material_NYFD', 'Agency_CAT1', 'Agency_CAT2',\n",
       "       'Agency_CAT3', 'AreaIncomeType_A', 'AreaIncomeType_B',\n",
       "       'EnvRating_missing', 'PRIMEUNIT_missing', 'Channel_Direct',\n",
       "       'Channel_Other', 'Zip_32824', 'PlotType_WHBI', 'PlotType_W62B',\n",
       "       'PlotType_32T2', 'PlotType_DIJX', 'PlotType_WLQ6', 'Architecture_YIK5',\n",
       "       'Architecture_TP7R', 'Architecture_I3Z9', 'Architecture_AVYP'],\n",
       "      dtype='object')"
      ]
     },
     "execution_count": 174,
     "metadata": {},
     "output_type": "execute_result"
    }
   ],
   "source": [
    "bd_all.columns"
   ]
  },
  {
   "cell_type": "markdown",
   "metadata": {},
   "source": [
    "### 20.PriceIndex3"
   ]
  },
  {
   "cell_type": "code",
   "execution_count": 175,
   "metadata": {},
   "outputs": [
    {
     "data": {
      "text/plain": [
       "0        13108.0\n",
       "1         3695.0\n",
       "2         7730.0\n",
       "3         6290.0\n",
       "4         8583.0\n",
       "          ...   \n",
       "10943     9677.0\n",
       "10944     6860.0\n",
       "10945    11515.0\n",
       "10946    10475.0\n",
       "10947     3251.0\n",
       "Name: PriceIndex3, Length: 72983, dtype: object"
      ]
     },
     "execution_count": 175,
     "metadata": {},
     "output_type": "execute_result"
    }
   ],
   "source": [
    "bd_all.PriceIndex3"
   ]
  },
  {
   "cell_type": "code",
   "execution_count": 176,
   "metadata": {},
   "outputs": [],
   "source": [
    "#convert to numeric"
   ]
  },
  {
   "cell_type": "code",
   "execution_count": 177,
   "metadata": {},
   "outputs": [],
   "source": [
    "bd_all.PriceIndex3=pd.to_numeric(bd_all.PriceIndex3,errors='coerce')"
   ]
  },
  {
   "cell_type": "code",
   "execution_count": 178,
   "metadata": {},
   "outputs": [
    {
     "data": {
      "text/plain": [
       "dtype('float64')"
      ]
     },
     "execution_count": 178,
     "metadata": {},
     "output_type": "execute_result"
    }
   ],
   "source": [
    "bd_all.PriceIndex3.dtype"
   ]
  },
  {
   "cell_type": "markdown",
   "metadata": {},
   "source": [
    "### 21.Region"
   ]
  },
  {
   "cell_type": "code",
   "execution_count": 180,
   "metadata": {},
   "outputs": [
    {
     "data": {
      "text/plain": [
       "A          70398\n",
       "B           2576\n",
       "missing        9\n",
       "Name: Region, dtype: int64"
      ]
     },
     "execution_count": 180,
     "metadata": {},
     "output_type": "execute_result"
    }
   ],
   "source": [
    "bd_all.Region.value_counts()"
   ]
  },
  {
   "cell_type": "code",
   "execution_count": 181,
   "metadata": {},
   "outputs": [],
   "source": [
    "#create dummies with cutoff 2000 to elmininate B"
   ]
  },
  {
   "cell_type": "code",
   "execution_count": 182,
   "metadata": {},
   "outputs": [
    {
     "name": "stdout",
     "output_type": "stream",
     "text": [
      "Index(['A'], dtype='object')\n",
      "A\n"
     ]
    }
   ],
   "source": [
    "cols = ['Region']\n",
    "for col in cols:\n",
    "    k = bd_all[col].value_counts()\n",
    "    k = k[k>2000]\n",
    "    indexes = k.index[:-1]\n",
    "    print(indexes)\n",
    "    for i in indexes:\n",
    "        print(i)\n",
    "        bd_all[col+'_'+str(i)] = (bd_all[col]==i).astype(int)"
   ]
  },
  {
   "cell_type": "code",
   "execution_count": 183,
   "metadata": {},
   "outputs": [
    {
     "data": {
      "text/plain": [
       "Index(['Junk', 'InteriorsStyle', 'PriceIndex8', 'ListDate', 'Material',\n",
       "       'PriceIndex9', 'Agency', 'AreaIncomeType', 'EnvRating', 'PriceIndex7',\n",
       "       'ExpeditedListing', 'PriceIndex4', 'PriceIndex1', 'PriceIndex6',\n",
       "       'PRIMEUNIT', 'Channel', 'Zip', 'InsurancePremiumIndex', 'PlotType',\n",
       "       'Architecture', 'PriceIndex3', 'Region', 'PriceIndex5', 'SubModel',\n",
       "       'Facade', 'State', 'NormalisedPopulation', 'BuildYear', 'RegionType',\n",
       "       'PropertyAge', 'PriceIndex2', 'data', 'InteriorsStyle_K3BB',\n",
       "       'InteriorsStyle_RCQE', 'InteriorsStyle_WEGU', 'InteriorsStyle_2XWO',\n",
       "       'InteriorsStyle_V3Y1', 'InteriorsStyle_YBQJ', 'InteriorsStyle_AZMX',\n",
       "       'InteriorsStyle_DUFA', 'InteriorsStyle_7R8J', 'InteriorsStyle_H1CI',\n",
       "       'InteriorsStyle_ARWN', 'ListDate_converted_2', 'ListDate_converted_3',\n",
       "       'ListDate_converted_4', 'ListDate_converted_5', 'ListDate_converted_6',\n",
       "       'ListDate_converted_7', 'ListDate_converted_8', 'ListDate_converted_9',\n",
       "       'ListDate_converted_10', 'ListDate_converted_11',\n",
       "       'ListDate_converted_12', 'Material_PRN0', 'Material_C8A4',\n",
       "       'Material_ZCI3', 'Material_NYFD', 'Agency_CAT1', 'Agency_CAT2',\n",
       "       'Agency_CAT3', 'AreaIncomeType_A', 'AreaIncomeType_B',\n",
       "       'EnvRating_missing', 'PRIMEUNIT_missing', 'Channel_Direct',\n",
       "       'Channel_Other', 'Zip_32824', 'PlotType_WHBI', 'PlotType_W62B',\n",
       "       'PlotType_32T2', 'PlotType_DIJX', 'PlotType_WLQ6', 'Architecture_YIK5',\n",
       "       'Architecture_TP7R', 'Architecture_I3Z9', 'Architecture_AVYP',\n",
       "       'Region_A'],\n",
       "      dtype='object')"
      ]
     },
     "execution_count": 183,
     "metadata": {},
     "output_type": "execute_result"
    }
   ],
   "source": [
    "bd_all.columns"
   ]
  },
  {
   "cell_type": "markdown",
   "metadata": {},
   "source": [
    "### 22.PriceIndex5"
   ]
  },
  {
   "cell_type": "code",
   "execution_count": 184,
   "metadata": {},
   "outputs": [
    {
     "data": {
      "text/plain": [
       "0         9022.0\n",
       "1         2742.0\n",
       "2         3768.0\n",
       "3         5370.0\n",
       "4         4803.0\n",
       "          ...   \n",
       "10943     8879.0\n",
       "10944     3594.0\n",
       "10945    10424.0\n",
       "10946     6755.0\n",
       "10947     2800.0\n",
       "Name: PriceIndex5, Length: 72983, dtype: object"
      ]
     },
     "execution_count": 184,
     "metadata": {},
     "output_type": "execute_result"
    }
   ],
   "source": [
    "bd_all.PriceIndex5"
   ]
  },
  {
   "cell_type": "code",
   "execution_count": 185,
   "metadata": {},
   "outputs": [],
   "source": [
    "#convert to numeric"
   ]
  },
  {
   "cell_type": "code",
   "execution_count": 186,
   "metadata": {},
   "outputs": [],
   "source": [
    "bd_all.PriceIndex5=pd.to_numeric(bd_all.PriceIndex5,errors='coerce')"
   ]
  },
  {
   "cell_type": "code",
   "execution_count": 187,
   "metadata": {},
   "outputs": [
    {
     "data": {
      "text/plain": [
       "dtype('float64')"
      ]
     },
     "execution_count": 187,
     "metadata": {},
     "output_type": "execute_result"
    }
   ],
   "source": [
    "bd_all.PriceIndex5.dtype"
   ]
  },
  {
   "cell_type": "markdown",
   "metadata": {},
   "source": [
    "### 23.SubModel"
   ]
  },
  {
   "cell_type": "code",
   "execution_count": 189,
   "metadata": {},
   "outputs": [
    {
     "data": {
      "text/plain": [
       "FIVQ    15236\n",
       "KT8F     4718\n",
       "UA42     3859\n",
       "8YTZ     2230\n",
       "GR5P     1258\n",
       "        ...  \n",
       "QHCZ        1\n",
       "SI6Y        1\n",
       "AXKW        1\n",
       "MQ43        1\n",
       "ZKQ8        1\n",
       "Name: SubModel, Length: 864, dtype: int64"
      ]
     },
     "execution_count": 189,
     "metadata": {},
     "output_type": "execute_result"
    }
   ],
   "source": [
    "bd_all.SubModel.value_counts()"
   ]
  },
  {
   "cell_type": "code",
   "execution_count": 190,
   "metadata": {},
   "outputs": [],
   "source": [
    "#create dummies with cutoff of 3000"
   ]
  },
  {
   "cell_type": "code",
   "execution_count": 191,
   "metadata": {},
   "outputs": [
    {
     "name": "stdout",
     "output_type": "stream",
     "text": [
      "Index(['FIVQ', 'KT8F'], dtype='object')\n",
      "FIVQ\n",
      "KT8F\n"
     ]
    }
   ],
   "source": [
    "cols = ['SubModel']\n",
    "for col in cols:\n",
    "    k = bd_all[col].value_counts()\n",
    "    k = k[k>3000]\n",
    "    indexes = k.index[:-1]\n",
    "    print(indexes)\n",
    "    for i in indexes:\n",
    "        print(i)\n",
    "        bd_all[col+'_'+str(i)] = (bd_all[col]==i).astype(int)"
   ]
  },
  {
   "cell_type": "code",
   "execution_count": 193,
   "metadata": {},
   "outputs": [
    {
     "data": {
      "text/plain": [
       "Index(['Junk', 'InteriorsStyle', 'PriceIndex8', 'ListDate', 'Material',\n",
       "       'PriceIndex9', 'Agency', 'AreaIncomeType', 'EnvRating', 'PriceIndex7',\n",
       "       'ExpeditedListing', 'PriceIndex4', 'PriceIndex1', 'PriceIndex6',\n",
       "       'PRIMEUNIT', 'Channel', 'Zip', 'InsurancePremiumIndex', 'PlotType',\n",
       "       'Architecture', 'PriceIndex3', 'Region', 'PriceIndex5', 'SubModel',\n",
       "       'Facade', 'State', 'NormalisedPopulation', 'BuildYear', 'RegionType',\n",
       "       'PropertyAge', 'PriceIndex2', 'data', 'InteriorsStyle_K3BB',\n",
       "       'InteriorsStyle_RCQE', 'InteriorsStyle_WEGU', 'InteriorsStyle_2XWO',\n",
       "       'InteriorsStyle_V3Y1', 'InteriorsStyle_YBQJ', 'InteriorsStyle_AZMX',\n",
       "       'InteriorsStyle_DUFA', 'InteriorsStyle_7R8J', 'InteriorsStyle_H1CI',\n",
       "       'InteriorsStyle_ARWN', 'ListDate_converted_2', 'ListDate_converted_3',\n",
       "       'ListDate_converted_4', 'ListDate_converted_5', 'ListDate_converted_6',\n",
       "       'ListDate_converted_7', 'ListDate_converted_8', 'ListDate_converted_9',\n",
       "       'ListDate_converted_10', 'ListDate_converted_11',\n",
       "       'ListDate_converted_12', 'Material_PRN0', 'Material_C8A4',\n",
       "       'Material_ZCI3', 'Material_NYFD', 'Agency_CAT1', 'Agency_CAT2',\n",
       "       'Agency_CAT3', 'AreaIncomeType_A', 'AreaIncomeType_B',\n",
       "       'EnvRating_missing', 'PRIMEUNIT_missing', 'Channel_Direct',\n",
       "       'Channel_Other', 'Zip_32824', 'PlotType_WHBI', 'PlotType_W62B',\n",
       "       'PlotType_32T2', 'PlotType_DIJX', 'PlotType_WLQ6', 'Architecture_YIK5',\n",
       "       'Architecture_TP7R', 'Architecture_I3Z9', 'Architecture_AVYP',\n",
       "       'Region_A', 'SubModel_FIVQ', 'SubModel_KT8F'],\n",
       "      dtype='object')"
      ]
     },
     "execution_count": 193,
     "metadata": {},
     "output_type": "execute_result"
    }
   ],
   "source": [
    "bd_all.columns"
   ]
  },
  {
   "cell_type": "markdown",
   "metadata": {},
   "source": [
    "### 24.Facade"
   ]
  },
  {
   "cell_type": "code",
   "execution_count": 195,
   "metadata": {},
   "outputs": [
    {
     "data": {
      "text/plain": [
       "SILVER       14875\n",
       "WHITE        12123\n",
       "BLUE         10347\n",
       "GREY          7887\n",
       "BLACK         7627\n",
       "RED           6257\n",
       "GOLD          5231\n",
       "GREEN         3194\n",
       "MAROON        2046\n",
       "BEIGE         1584\n",
       "BROWN          436\n",
       "ORANGE         415\n",
       "PURPLE         373\n",
       "YELLOW         244\n",
       "OTHER          242\n",
       "NOT AVAIL       94\n",
       "missing          8\n",
       "Name: Facade, dtype: int64"
      ]
     },
     "execution_count": 195,
     "metadata": {},
     "output_type": "execute_result"
    }
   ],
   "source": [
    "bd_all.Facade.value_counts()"
   ]
  },
  {
   "cell_type": "code",
   "execution_count": 196,
   "metadata": {},
   "outputs": [],
   "source": [
    "#create dummies with frequency cutoff of 3000"
   ]
  },
  {
   "cell_type": "code",
   "execution_count": 197,
   "metadata": {},
   "outputs": [
    {
     "name": "stdout",
     "output_type": "stream",
     "text": [
      "Index(['SILVER', 'WHITE', 'BLUE', 'GREY', 'BLACK', 'RED', 'GOLD'], dtype='object')\n",
      "SILVER\n",
      "WHITE\n",
      "BLUE\n",
      "GREY\n",
      "BLACK\n",
      "RED\n",
      "GOLD\n"
     ]
    }
   ],
   "source": [
    "cols = ['Facade']\n",
    "for col in cols:\n",
    "    k = bd_all[col].value_counts()\n",
    "    k = k[k>3000]\n",
    "    indexes = k.index[:-1]\n",
    "    print(indexes)\n",
    "    for i in indexes:\n",
    "        print(i)\n",
    "        bd_all[col+'_'+str(i)] = (bd_all[col]==i).astype(int)"
   ]
  },
  {
   "cell_type": "code",
   "execution_count": 198,
   "metadata": {},
   "outputs": [
    {
     "data": {
      "text/plain": [
       "Index(['Junk', 'InteriorsStyle', 'PriceIndex8', 'ListDate', 'Material',\n",
       "       'PriceIndex9', 'Agency', 'AreaIncomeType', 'EnvRating', 'PriceIndex7',\n",
       "       'ExpeditedListing', 'PriceIndex4', 'PriceIndex1', 'PriceIndex6',\n",
       "       'PRIMEUNIT', 'Channel', 'Zip', 'InsurancePremiumIndex', 'PlotType',\n",
       "       'Architecture', 'PriceIndex3', 'Region', 'PriceIndex5', 'SubModel',\n",
       "       'Facade', 'State', 'NormalisedPopulation', 'BuildYear', 'RegionType',\n",
       "       'PropertyAge', 'PriceIndex2', 'data', 'InteriorsStyle_K3BB',\n",
       "       'InteriorsStyle_RCQE', 'InteriorsStyle_WEGU', 'InteriorsStyle_2XWO',\n",
       "       'InteriorsStyle_V3Y1', 'InteriorsStyle_YBQJ', 'InteriorsStyle_AZMX',\n",
       "       'InteriorsStyle_DUFA', 'InteriorsStyle_7R8J', 'InteriorsStyle_H1CI',\n",
       "       'InteriorsStyle_ARWN', 'ListDate_converted_2', 'ListDate_converted_3',\n",
       "       'ListDate_converted_4', 'ListDate_converted_5', 'ListDate_converted_6',\n",
       "       'ListDate_converted_7', 'ListDate_converted_8', 'ListDate_converted_9',\n",
       "       'ListDate_converted_10', 'ListDate_converted_11',\n",
       "       'ListDate_converted_12', 'Material_PRN0', 'Material_C8A4',\n",
       "       'Material_ZCI3', 'Material_NYFD', 'Agency_CAT1', 'Agency_CAT2',\n",
       "       'Agency_CAT3', 'AreaIncomeType_A', 'AreaIncomeType_B',\n",
       "       'EnvRating_missing', 'PRIMEUNIT_missing', 'Channel_Direct',\n",
       "       'Channel_Other', 'Zip_32824', 'PlotType_WHBI', 'PlotType_W62B',\n",
       "       'PlotType_32T2', 'PlotType_DIJX', 'PlotType_WLQ6', 'Architecture_YIK5',\n",
       "       'Architecture_TP7R', 'Architecture_I3Z9', 'Architecture_AVYP',\n",
       "       'Region_A', 'SubModel_FIVQ', 'SubModel_KT8F', 'Facade_SILVER',\n",
       "       'Facade_WHITE', 'Facade_BLUE', 'Facade_GREY', 'Facade_BLACK',\n",
       "       'Facade_RED', 'Facade_GOLD'],\n",
       "      dtype='object')"
      ]
     },
     "execution_count": 198,
     "metadata": {},
     "output_type": "execute_result"
    }
   ],
   "source": [
    "bd_all.columns"
   ]
  },
  {
   "cell_type": "markdown",
   "metadata": {},
   "source": [
    "### 25.State"
   ]
  },
  {
   "cell_type": "code",
   "execution_count": 200,
   "metadata": {},
   "outputs": [
    {
     "data": {
      "text/plain": [
       "TX    13596\n",
       "FL    10447\n",
       "CA     7095\n",
       "NC     7042\n",
       "AZ     6174\n",
       "CO     4998\n",
       "SC     4280\n",
       "OK     3594\n",
       "GA     2450\n",
       "TN     1764\n",
       "VA     1662\n",
       "MD     1158\n",
       "UT      875\n",
       "PA      847\n",
       "OH      795\n",
       "MO      758\n",
       "AL      690\n",
       "NV      562\n",
       "IA      499\n",
       "MS      493\n",
       "IN      486\n",
       "IL      458\n",
       "LA      349\n",
       "NJ      317\n",
       "WV      292\n",
       "NM      239\n",
       "KY      230\n",
       "OR      211\n",
       "ID      196\n",
       "WA      136\n",
       "NH       97\n",
       "AR       70\n",
       "MN       62\n",
       "NE       26\n",
       "MA       15\n",
       "MI       14\n",
       "NY        6\n",
       "Name: State, dtype: int64"
      ]
     },
     "execution_count": 200,
     "metadata": {},
     "output_type": "execute_result"
    }
   ],
   "source": [
    "bd_all.State.value_counts()"
   ]
  },
  {
   "cell_type": "code",
   "execution_count": 201,
   "metadata": {},
   "outputs": [],
   "source": [
    "#create dummies with freq cutoff as 3000"
   ]
  },
  {
   "cell_type": "code",
   "execution_count": 202,
   "metadata": {},
   "outputs": [
    {
     "name": "stdout",
     "output_type": "stream",
     "text": [
      "Index(['TX', 'FL', 'CA', 'NC', 'AZ', 'CO', 'SC'], dtype='object')\n",
      "TX\n",
      "FL\n",
      "CA\n",
      "NC\n",
      "AZ\n",
      "CO\n",
      "SC\n"
     ]
    }
   ],
   "source": [
    "cols = ['State']\n",
    "for col in cols:\n",
    "    k = bd_all[col].value_counts()\n",
    "    k = k[k>3000]\n",
    "    indexes = k.index[:-1]\n",
    "    print(indexes)\n",
    "    for i in indexes:\n",
    "        print(i)\n",
    "        bd_all[col+'_'+str(i)] = (bd_all[col]==i).astype(int)"
   ]
  },
  {
   "cell_type": "code",
   "execution_count": 203,
   "metadata": {},
   "outputs": [
    {
     "data": {
      "text/plain": [
       "Index(['Junk', 'InteriorsStyle', 'PriceIndex8', 'ListDate', 'Material',\n",
       "       'PriceIndex9', 'Agency', 'AreaIncomeType', 'EnvRating', 'PriceIndex7',\n",
       "       'ExpeditedListing', 'PriceIndex4', 'PriceIndex1', 'PriceIndex6',\n",
       "       'PRIMEUNIT', 'Channel', 'Zip', 'InsurancePremiumIndex', 'PlotType',\n",
       "       'Architecture', 'PriceIndex3', 'Region', 'PriceIndex5', 'SubModel',\n",
       "       'Facade', 'State', 'NormalisedPopulation', 'BuildYear', 'RegionType',\n",
       "       'PropertyAge', 'PriceIndex2', 'data', 'InteriorsStyle_K3BB',\n",
       "       'InteriorsStyle_RCQE', 'InteriorsStyle_WEGU', 'InteriorsStyle_2XWO',\n",
       "       'InteriorsStyle_V3Y1', 'InteriorsStyle_YBQJ', 'InteriorsStyle_AZMX',\n",
       "       'InteriorsStyle_DUFA', 'InteriorsStyle_7R8J', 'InteriorsStyle_H1CI',\n",
       "       'InteriorsStyle_ARWN', 'ListDate_converted_2', 'ListDate_converted_3',\n",
       "       'ListDate_converted_4', 'ListDate_converted_5', 'ListDate_converted_6',\n",
       "       'ListDate_converted_7', 'ListDate_converted_8', 'ListDate_converted_9',\n",
       "       'ListDate_converted_10', 'ListDate_converted_11',\n",
       "       'ListDate_converted_12', 'Material_PRN0', 'Material_C8A4',\n",
       "       'Material_ZCI3', 'Material_NYFD', 'Agency_CAT1', 'Agency_CAT2',\n",
       "       'Agency_CAT3', 'AreaIncomeType_A', 'AreaIncomeType_B',\n",
       "       'EnvRating_missing', 'PRIMEUNIT_missing', 'Channel_Direct',\n",
       "       'Channel_Other', 'Zip_32824', 'PlotType_WHBI', 'PlotType_W62B',\n",
       "       'PlotType_32T2', 'PlotType_DIJX', 'PlotType_WLQ6', 'Architecture_YIK5',\n",
       "       'Architecture_TP7R', 'Architecture_I3Z9', 'Architecture_AVYP',\n",
       "       'Region_A', 'SubModel_FIVQ', 'SubModel_KT8F', 'Facade_SILVER',\n",
       "       'Facade_WHITE', 'Facade_BLUE', 'Facade_GREY', 'Facade_BLACK',\n",
       "       'Facade_RED', 'Facade_GOLD', 'State_TX', 'State_FL', 'State_CA',\n",
       "       'State_NC', 'State_AZ', 'State_CO', 'State_SC'],\n",
       "      dtype='object')"
      ]
     },
     "execution_count": 203,
     "metadata": {},
     "output_type": "execute_result"
    }
   ],
   "source": [
    "bd_all.columns"
   ]
  },
  {
   "cell_type": "markdown",
   "metadata": {},
   "source": [
    "### 26.NormalisedPopulation"
   ]
  },
  {
   "cell_type": "code",
   "execution_count": 204,
   "metadata": {},
   "outputs": [
    {
     "data": {
      "text/plain": [
       "0        42077\n",
       "1        77258\n",
       "2        94514\n",
       "3        82302\n",
       "4        49176\n",
       "         ...  \n",
       "10943    51629\n",
       "10944    69990\n",
       "10945    73737\n",
       "10946    85960\n",
       "10947    69307\n",
       "Name: NormalisedPopulation, Length: 72983, dtype: int64"
      ]
     },
     "execution_count": 204,
     "metadata": {},
     "output_type": "execute_result"
    }
   ],
   "source": [
    "bd_all.NormalisedPopulation"
   ]
  },
  {
   "cell_type": "code",
   "execution_count": 205,
   "metadata": {},
   "outputs": [],
   "source": [
    "#no changes required"
   ]
  },
  {
   "cell_type": "markdown",
   "metadata": {},
   "source": [
    "### 27.BuildYear"
   ]
  },
  {
   "cell_type": "code",
   "execution_count": 207,
   "metadata": {},
   "outputs": [
    {
     "data": {
      "text/plain": [
       "2006    17043\n",
       "2005    15489\n",
       "2007    11423\n",
       "2004    10207\n",
       "2008     6885\n",
       "2003     6227\n",
       "2002     3405\n",
       "2001     1481\n",
       "2009      822\n",
       "2010        1\n",
       "Name: BuildYear, dtype: int64"
      ]
     },
     "execution_count": 207,
     "metadata": {},
     "output_type": "execute_result"
    }
   ],
   "source": [
    "bd_all.BuildYear.value_counts()"
   ]
  },
  {
   "cell_type": "code",
   "execution_count": 208,
   "metadata": {},
   "outputs": [],
   "source": [
    "#create dummies with freq cutoff has 3000"
   ]
  },
  {
   "cell_type": "code",
   "execution_count": 209,
   "metadata": {},
   "outputs": [
    {
     "name": "stdout",
     "output_type": "stream",
     "text": [
      "Int64Index([2006, 2005, 2007, 2004, 2008, 2003], dtype='int64')\n",
      "2006\n",
      "2005\n",
      "2007\n",
      "2004\n",
      "2008\n",
      "2003\n"
     ]
    }
   ],
   "source": [
    "cols = ['BuildYear']\n",
    "for col in cols:\n",
    "    k = bd_all[col].value_counts()\n",
    "    k = k[k>3000]\n",
    "    indexes = k.index[:-1]\n",
    "    print(indexes)\n",
    "    for i in indexes:\n",
    "        print(i)\n",
    "        bd_all[col+'_'+str(i)] = (bd_all[col]==i).astype(int)"
   ]
  },
  {
   "cell_type": "code",
   "execution_count": 210,
   "metadata": {},
   "outputs": [
    {
     "data": {
      "text/plain": [
       "Index(['Junk', 'InteriorsStyle', 'PriceIndex8', 'ListDate', 'Material',\n",
       "       'PriceIndex9', 'Agency', 'AreaIncomeType', 'EnvRating', 'PriceIndex7',\n",
       "       'ExpeditedListing', 'PriceIndex4', 'PriceIndex1', 'PriceIndex6',\n",
       "       'PRIMEUNIT', 'Channel', 'Zip', 'InsurancePremiumIndex', 'PlotType',\n",
       "       'Architecture', 'PriceIndex3', 'Region', 'PriceIndex5', 'SubModel',\n",
       "       'Facade', 'State', 'NormalisedPopulation', 'BuildYear', 'RegionType',\n",
       "       'PropertyAge', 'PriceIndex2', 'data', 'InteriorsStyle_K3BB',\n",
       "       'InteriorsStyle_RCQE', 'InteriorsStyle_WEGU', 'InteriorsStyle_2XWO',\n",
       "       'InteriorsStyle_V3Y1', 'InteriorsStyle_YBQJ', 'InteriorsStyle_AZMX',\n",
       "       'InteriorsStyle_DUFA', 'InteriorsStyle_7R8J', 'InteriorsStyle_H1CI',\n",
       "       'InteriorsStyle_ARWN', 'ListDate_converted_2', 'ListDate_converted_3',\n",
       "       'ListDate_converted_4', 'ListDate_converted_5', 'ListDate_converted_6',\n",
       "       'ListDate_converted_7', 'ListDate_converted_8', 'ListDate_converted_9',\n",
       "       'ListDate_converted_10', 'ListDate_converted_11',\n",
       "       'ListDate_converted_12', 'Material_PRN0', 'Material_C8A4',\n",
       "       'Material_ZCI3', 'Material_NYFD', 'Agency_CAT1', 'Agency_CAT2',\n",
       "       'Agency_CAT3', 'AreaIncomeType_A', 'AreaIncomeType_B',\n",
       "       'EnvRating_missing', 'PRIMEUNIT_missing', 'Channel_Direct',\n",
       "       'Channel_Other', 'Zip_32824', 'PlotType_WHBI', 'PlotType_W62B',\n",
       "       'PlotType_32T2', 'PlotType_DIJX', 'PlotType_WLQ6', 'Architecture_YIK5',\n",
       "       'Architecture_TP7R', 'Architecture_I3Z9', 'Architecture_AVYP',\n",
       "       'Region_A', 'SubModel_FIVQ', 'SubModel_KT8F', 'Facade_SILVER',\n",
       "       'Facade_WHITE', 'Facade_BLUE', 'Facade_GREY', 'Facade_BLACK',\n",
       "       'Facade_RED', 'Facade_GOLD', 'State_TX', 'State_FL', 'State_CA',\n",
       "       'State_NC', 'State_AZ', 'State_CO', 'State_SC', 'BuildYear_2006',\n",
       "       'BuildYear_2005', 'BuildYear_2007', 'BuildYear_2004', 'BuildYear_2008',\n",
       "       'BuildYear_2003'],\n",
       "      dtype='object')"
      ]
     },
     "execution_count": 210,
     "metadata": {},
     "output_type": "execute_result"
    }
   ],
   "source": [
    "bd_all.columns"
   ]
  },
  {
   "cell_type": "markdown",
   "metadata": {},
   "source": [
    "### 28.RegionType"
   ]
  },
  {
   "cell_type": "code",
   "execution_count": 212,
   "metadata": {},
   "outputs": [
    {
     "data": {
      "text/plain": [
       "A          61028\n",
       "B           8033\n",
       "C           3722\n",
       "OTHER        195\n",
       "missing        5\n",
       "Name: RegionType, dtype: int64"
      ]
     },
     "execution_count": 212,
     "metadata": {},
     "output_type": "execute_result"
    }
   ],
   "source": [
    "bd_all.RegionType.value_counts()"
   ]
  },
  {
   "cell_type": "code",
   "execution_count": 213,
   "metadata": {},
   "outputs": [],
   "source": [
    "#create dummies with cutoff of 3000"
   ]
  },
  {
   "cell_type": "code",
   "execution_count": 214,
   "metadata": {},
   "outputs": [
    {
     "name": "stdout",
     "output_type": "stream",
     "text": [
      "Index(['A', 'B'], dtype='object')\n",
      "A\n",
      "B\n"
     ]
    }
   ],
   "source": [
    "cols = ['RegionType']\n",
    "for col in cols:\n",
    "    k = bd_all[col].value_counts()\n",
    "    k = k[k>3000]\n",
    "    indexes = k.index[:-1]\n",
    "    print(indexes)\n",
    "    for i in indexes:\n",
    "        print(i)\n",
    "        bd_all[col+'_'+str(i)] = (bd_all[col]==i).astype(int)"
   ]
  },
  {
   "cell_type": "code",
   "execution_count": 215,
   "metadata": {},
   "outputs": [
    {
     "data": {
      "text/plain": [
       "Index(['Junk', 'InteriorsStyle', 'PriceIndex8', 'ListDate', 'Material',\n",
       "       'PriceIndex9', 'Agency', 'AreaIncomeType', 'EnvRating', 'PriceIndex7',\n",
       "       ...\n",
       "       'State_CO', 'State_SC', 'BuildYear_2006', 'BuildYear_2005',\n",
       "       'BuildYear_2007', 'BuildYear_2004', 'BuildYear_2008', 'BuildYear_2003',\n",
       "       'RegionType_A', 'RegionType_B'],\n",
       "      dtype='object', length=102)"
      ]
     },
     "execution_count": 215,
     "metadata": {},
     "output_type": "execute_result"
    }
   ],
   "source": [
    "bd_all.columns"
   ]
  },
  {
   "cell_type": "markdown",
   "metadata": {},
   "source": [
    "### 29.PropertyAge"
   ]
  },
  {
   "cell_type": "code",
   "execution_count": 216,
   "metadata": {},
   "outputs": [
    {
     "data": {
      "text/plain": [
       "0        2\n",
       "1        7\n",
       "2        6\n",
       "3        7\n",
       "4        3\n",
       "        ..\n",
       "10943    1\n",
       "10944    4\n",
       "10945    2\n",
       "10946    3\n",
       "10947    5\n",
       "Name: PropertyAge, Length: 72983, dtype: int64"
      ]
     },
     "execution_count": 216,
     "metadata": {},
     "output_type": "execute_result"
    }
   ],
   "source": [
    "bd_all.PropertyAge"
   ]
  },
  {
   "cell_type": "code",
   "execution_count": 217,
   "metadata": {},
   "outputs": [],
   "source": [
    "#no changes required"
   ]
  },
  {
   "cell_type": "markdown",
   "metadata": {},
   "source": [
    "### 30.PriceIndex2"
   ]
  },
  {
   "cell_type": "code",
   "execution_count": 218,
   "metadata": {},
   "outputs": [
    {
     "data": {
      "text/plain": [
       "0        10692.0\n",
       "1         3615.0\n",
       "2         5805.0\n",
       "3         6444.0\n",
       "4         6286.0\n",
       "          ...   \n",
       "10943     9181.0\n",
       "10944     5185.0\n",
       "10945    12088.0\n",
       "10946     7978.0\n",
       "10947     3447.0\n",
       "Name: PriceIndex2, Length: 72983, dtype: object"
      ]
     },
     "execution_count": 218,
     "metadata": {},
     "output_type": "execute_result"
    }
   ],
   "source": [
    "bd_all.PriceIndex2"
   ]
  },
  {
   "cell_type": "code",
   "execution_count": 219,
   "metadata": {},
   "outputs": [],
   "source": [
    "#convert to numeric"
   ]
  },
  {
   "cell_type": "code",
   "execution_count": 220,
   "metadata": {},
   "outputs": [],
   "source": [
    "bd_all.PriceIndex2=pd.to_numeric(bd_all.PriceIndex2,errors='coerce')"
   ]
  },
  {
   "cell_type": "code",
   "execution_count": 221,
   "metadata": {},
   "outputs": [
    {
     "data": {
      "text/plain": [
       "dtype('float64')"
      ]
     },
     "execution_count": 221,
     "metadata": {},
     "output_type": "execute_result"
    }
   ],
   "source": [
    "bd_all.PriceIndex2.dtype"
   ]
  },
  {
   "cell_type": "code",
   "execution_count": null,
   "metadata": {},
   "outputs": [],
   "source": []
  },
  {
   "cell_type": "code",
   "execution_count": null,
   "metadata": {},
   "outputs": [],
   "source": []
  },
  {
   "cell_type": "code",
   "execution_count": null,
   "metadata": {},
   "outputs": [],
   "source": []
  },
  {
   "cell_type": "code",
   "execution_count": 222,
   "metadata": {},
   "outputs": [
    {
     "data": {
      "text/plain": [
       "(72983, 102)"
      ]
     },
     "execution_count": 222,
     "metadata": {},
     "output_type": "execute_result"
    }
   ],
   "source": [
    "bd_all.shape"
   ]
  },
  {
   "cell_type": "markdown",
   "metadata": {},
   "source": [
    "# Copy the data"
   ]
  },
  {
   "cell_type": "code",
   "execution_count": 237,
   "metadata": {},
   "outputs": [
    {
     "data": {
      "text/plain": [
       "Index(['Junk', 'InteriorsStyle', 'PriceIndex8', 'ListDate', 'Material',\n",
       "       'PriceIndex9', 'Agency', 'AreaIncomeType', 'EnvRating', 'PriceIndex7',\n",
       "       ...\n",
       "       'State_CO', 'State_SC', 'BuildYear_2006', 'BuildYear_2005',\n",
       "       'BuildYear_2007', 'BuildYear_2004', 'BuildYear_2008', 'BuildYear_2003',\n",
       "       'RegionType_A', 'RegionType_B'],\n",
       "      dtype='object', length=102)"
      ]
     },
     "execution_count": 237,
     "metadata": {},
     "output_type": "execute_result"
    }
   ],
   "source": [
    "bd_all.columns\n"
   ]
  },
  {
   "cell_type": "code",
   "execution_count": 240,
   "metadata": {},
   "outputs": [
    {
     "data": {
      "text/plain": [
       "['Junk',\n",
       " 'PriceIndex8',\n",
       " 'PriceIndex9',\n",
       " 'PriceIndex7',\n",
       " 'ExpeditedListing',\n",
       " 'PriceIndex4',\n",
       " 'PriceIndex1',\n",
       " 'PriceIndex6',\n",
       " 'InsurancePremiumIndex',\n",
       " 'PriceIndex3',\n",
       " 'PriceIndex5',\n",
       " 'NormalisedPopulation',\n",
       " 'PropertyAge',\n",
       " 'PriceIndex2',\n",
       " 'data',\n",
       " 'InteriorsStyle_K3BB',\n",
       " 'InteriorsStyle_RCQE',\n",
       " 'InteriorsStyle_WEGU',\n",
       " 'InteriorsStyle_2XWO',\n",
       " 'InteriorsStyle_V3Y1',\n",
       " 'InteriorsStyle_YBQJ',\n",
       " 'InteriorsStyle_AZMX',\n",
       " 'InteriorsStyle_DUFA',\n",
       " 'InteriorsStyle_7R8J',\n",
       " 'InteriorsStyle_H1CI',\n",
       " 'InteriorsStyle_ARWN',\n",
       " 'ListDate_converted_2',\n",
       " 'ListDate_converted_3',\n",
       " 'ListDate_converted_4',\n",
       " 'ListDate_converted_5',\n",
       " 'ListDate_converted_6',\n",
       " 'ListDate_converted_7',\n",
       " 'ListDate_converted_8',\n",
       " 'ListDate_converted_9',\n",
       " 'ListDate_converted_10',\n",
       " 'ListDate_converted_11',\n",
       " 'ListDate_converted_12',\n",
       " 'Material_PRN0',\n",
       " 'Material_C8A4',\n",
       " 'Material_ZCI3',\n",
       " 'Material_NYFD',\n",
       " 'Agency_CAT1',\n",
       " 'Agency_CAT2',\n",
       " 'Agency_CAT3',\n",
       " 'AreaIncomeType_A',\n",
       " 'AreaIncomeType_B',\n",
       " 'EnvRating_missing',\n",
       " 'PRIMEUNIT_missing',\n",
       " 'Channel_Direct',\n",
       " 'Channel_Other',\n",
       " 'Zip_32824',\n",
       " 'PlotType_WHBI',\n",
       " 'PlotType_W62B',\n",
       " 'PlotType_32T2',\n",
       " 'PlotType_DIJX',\n",
       " 'PlotType_WLQ6',\n",
       " 'Architecture_YIK5',\n",
       " 'Architecture_TP7R',\n",
       " 'Architecture_I3Z9',\n",
       " 'Architecture_AVYP',\n",
       " 'Region_A',\n",
       " 'SubModel_FIVQ',\n",
       " 'SubModel_KT8F',\n",
       " 'Facade_SILVER',\n",
       " 'Facade_WHITE',\n",
       " 'Facade_BLUE',\n",
       " 'Facade_GREY',\n",
       " 'Facade_BLACK',\n",
       " 'Facade_RED',\n",
       " 'Facade_GOLD',\n",
       " 'State_TX',\n",
       " 'State_FL',\n",
       " 'State_CA',\n",
       " 'State_NC',\n",
       " 'State_AZ',\n",
       " 'State_CO',\n",
       " 'State_SC',\n",
       " 'BuildYear_2006',\n",
       " 'BuildYear_2005',\n",
       " 'BuildYear_2007',\n",
       " 'BuildYear_2004',\n",
       " 'BuildYear_2008',\n",
       " 'BuildYear_2003',\n",
       " 'RegionType_A',\n",
       " 'RegionType_B']"
      ]
     },
     "execution_count": 240,
     "metadata": {},
     "output_type": "execute_result"
    }
   ],
   "source": [
    "bd_selected_cols=['Junk','PriceIndex8','PriceIndex9','PriceIndex7',\n",
    "       'ExpeditedListing', 'PriceIndex4', 'PriceIndex1', 'PriceIndex6',\n",
    "       'InsurancePremiumIndex','PriceIndex3','PriceIndex5',\n",
    "       'NormalisedPopulation',\n",
    "       'PropertyAge', 'PriceIndex2', 'data', 'InteriorsStyle_K3BB',\n",
    "       'InteriorsStyle_RCQE', 'InteriorsStyle_WEGU', 'InteriorsStyle_2XWO',\n",
    "       'InteriorsStyle_V3Y1', 'InteriorsStyle_YBQJ', 'InteriorsStyle_AZMX',\n",
    "       'InteriorsStyle_DUFA', 'InteriorsStyle_7R8J', 'InteriorsStyle_H1CI',\n",
    "       'InteriorsStyle_ARWN', 'ListDate_converted_2', 'ListDate_converted_3',\n",
    "       'ListDate_converted_4', 'ListDate_converted_5', 'ListDate_converted_6',\n",
    "       'ListDate_converted_7', 'ListDate_converted_8', 'ListDate_converted_9',\n",
    "       'ListDate_converted_10', 'ListDate_converted_11',\n",
    "       'ListDate_converted_12', 'Material_PRN0', 'Material_C8A4',\n",
    "       'Material_ZCI3', 'Material_NYFD', 'Agency_CAT1', 'Agency_CAT2',\n",
    "       'Agency_CAT3', 'AreaIncomeType_A', 'AreaIncomeType_B',\n",
    "       'EnvRating_missing', 'PRIMEUNIT_missing', 'Channel_Direct',\n",
    "       'Channel_Other', 'Zip_32824', 'PlotType_WHBI', 'PlotType_W62B',\n",
    "       'PlotType_32T2', 'PlotType_DIJX', 'PlotType_WLQ6', 'Architecture_YIK5',\n",
    "       'Architecture_TP7R', 'Architecture_I3Z9', 'Architecture_AVYP',\n",
    "       'Region_A', 'SubModel_FIVQ', 'SubModel_KT8F', 'Facade_SILVER',\n",
    "       'Facade_WHITE', 'Facade_BLUE', 'Facade_GREY', 'Facade_BLACK',\n",
    "       'Facade_RED', 'Facade_GOLD', 'State_TX', 'State_FL', 'State_CA',\n",
    "       'State_NC', 'State_AZ', 'State_CO', 'State_SC', 'BuildYear_2006',\n",
    "       'BuildYear_2005', 'BuildYear_2007', 'BuildYear_2004', 'BuildYear_2008',\n",
    "       'BuildYear_2003','RegionType_A', 'RegionType_B']\n",
    "\n",
    "bd_selected_cols"
   ]
  },
  {
   "cell_type": "code",
   "execution_count": 239,
   "metadata": {},
   "outputs": [],
   "source": [
    "bd_all_copy=bd_all.copy()"
   ]
  },
  {
   "cell_type": "code",
   "execution_count": 241,
   "metadata": {},
   "outputs": [],
   "source": [
    "bd_all_copy=bd_all_copy[bd_selected_cols]"
   ]
  },
  {
   "cell_type": "code",
   "execution_count": 242,
   "metadata": {},
   "outputs": [
    {
     "data": {
      "text/html": [
       "<div>\n",
       "<style scoped>\n",
       "    .dataframe tbody tr th:only-of-type {\n",
       "        vertical-align: middle;\n",
       "    }\n",
       "\n",
       "    .dataframe tbody tr th {\n",
       "        vertical-align: top;\n",
       "    }\n",
       "\n",
       "    .dataframe thead th {\n",
       "        text-align: right;\n",
       "    }\n",
       "</style>\n",
       "<table border=\"1\" class=\"dataframe\">\n",
       "  <thead>\n",
       "    <tr style=\"text-align: right;\">\n",
       "      <th></th>\n",
       "      <th>Junk</th>\n",
       "      <th>PriceIndex8</th>\n",
       "      <th>PriceIndex9</th>\n",
       "      <th>PriceIndex7</th>\n",
       "      <th>ExpeditedListing</th>\n",
       "      <th>PriceIndex4</th>\n",
       "      <th>PriceIndex1</th>\n",
       "      <th>PriceIndex6</th>\n",
       "      <th>InsurancePremiumIndex</th>\n",
       "      <th>PriceIndex3</th>\n",
       "      <th>...</th>\n",
       "      <th>State_CO</th>\n",
       "      <th>State_SC</th>\n",
       "      <th>BuildYear_2006</th>\n",
       "      <th>BuildYear_2005</th>\n",
       "      <th>BuildYear_2007</th>\n",
       "      <th>BuildYear_2004</th>\n",
       "      <th>BuildYear_2008</th>\n",
       "      <th>BuildYear_2003</th>\n",
       "      <th>RegionType_A</th>\n",
       "      <th>RegionType_B</th>\n",
       "    </tr>\n",
       "  </thead>\n",
       "  <tbody>\n",
       "    <tr>\n",
       "      <th>0</th>\n",
       "      <td>0.0</td>\n",
       "      <td>14674.0</td>\n",
       "      <td>8270</td>\n",
       "      <td>13143.0</td>\n",
       "      <td>0</td>\n",
       "      <td>14224.0</td>\n",
       "      <td>9217.0</td>\n",
       "      <td>10387.0</td>\n",
       "      <td>623</td>\n",
       "      <td>13108.0</td>\n",
       "      <td>...</td>\n",
       "      <td>0</td>\n",
       "      <td>0</td>\n",
       "      <td>0</td>\n",
       "      <td>0</td>\n",
       "      <td>0</td>\n",
       "      <td>0</td>\n",
       "      <td>1</td>\n",
       "      <td>0</td>\n",
       "      <td>1</td>\n",
       "      <td>0</td>\n",
       "    </tr>\n",
       "    <tr>\n",
       "      <th>1</th>\n",
       "      <td>1.0</td>\n",
       "      <td>4172.0</td>\n",
       "      <td>3890</td>\n",
       "      <td>3461.0</td>\n",
       "      <td>0</td>\n",
       "      <td>4404.0</td>\n",
       "      <td>2958.0</td>\n",
       "      <td>3400.0</td>\n",
       "      <td>1689</td>\n",
       "      <td>3695.0</td>\n",
       "      <td>...</td>\n",
       "      <td>0</td>\n",
       "      <td>0</td>\n",
       "      <td>0</td>\n",
       "      <td>0</td>\n",
       "      <td>0</td>\n",
       "      <td>0</td>\n",
       "      <td>0</td>\n",
       "      <td>0</td>\n",
       "      <td>1</td>\n",
       "      <td>0</td>\n",
       "    </tr>\n",
       "    <tr>\n",
       "      <th>2</th>\n",
       "      <td>0.0</td>\n",
       "      <td>8210.0</td>\n",
       "      <td>5900</td>\n",
       "      <td>6922.0</td>\n",
       "      <td>0</td>\n",
       "      <td>8952.0</td>\n",
       "      <td>4568.0</td>\n",
       "      <td>4862.0</td>\n",
       "      <td>2351</td>\n",
       "      <td>7730.0</td>\n",
       "      <td>...</td>\n",
       "      <td>0</td>\n",
       "      <td>1</td>\n",
       "      <td>0</td>\n",
       "      <td>0</td>\n",
       "      <td>0</td>\n",
       "      <td>1</td>\n",
       "      <td>0</td>\n",
       "      <td>0</td>\n",
       "      <td>1</td>\n",
       "      <td>0</td>\n",
       "    </tr>\n",
       "    <tr>\n",
       "      <th>3</th>\n",
       "      <td>0.0</td>\n",
       "      <td>7309.0</td>\n",
       "      <td>7460</td>\n",
       "      <td>6300.0</td>\n",
       "      <td>0</td>\n",
       "      <td>7460.0</td>\n",
       "      <td>5361.0</td>\n",
       "      <td>6305.0</td>\n",
       "      <td>1933</td>\n",
       "      <td>6290.0</td>\n",
       "      <td>...</td>\n",
       "      <td>0</td>\n",
       "      <td>0</td>\n",
       "      <td>0</td>\n",
       "      <td>0</td>\n",
       "      <td>0</td>\n",
       "      <td>0</td>\n",
       "      <td>0</td>\n",
       "      <td>0</td>\n",
       "      <td>0</td>\n",
       "      <td>0</td>\n",
       "    </tr>\n",
       "    <tr>\n",
       "      <th>4</th>\n",
       "      <td>0.0</td>\n",
       "      <td>9182.0</td>\n",
       "      <td>6400</td>\n",
       "      <td>8330.0</td>\n",
       "      <td>0</td>\n",
       "      <td>9846.0</td>\n",
       "      <td>5428.0</td>\n",
       "      <td>5718.0</td>\n",
       "      <td>482</td>\n",
       "      <td>8583.0</td>\n",
       "      <td>...</td>\n",
       "      <td>0</td>\n",
       "      <td>1</td>\n",
       "      <td>0</td>\n",
       "      <td>0</td>\n",
       "      <td>1</td>\n",
       "      <td>0</td>\n",
       "      <td>0</td>\n",
       "      <td>0</td>\n",
       "      <td>0</td>\n",
       "      <td>1</td>\n",
       "    </tr>\n",
       "  </tbody>\n",
       "</table>\n",
       "<p>5 rows × 85 columns</p>\n",
       "</div>"
      ],
      "text/plain": [
       "   Junk  PriceIndex8  PriceIndex9  PriceIndex7  ExpeditedListing  PriceIndex4  \\\n",
       "0   0.0      14674.0         8270      13143.0                 0      14224.0   \n",
       "1   1.0       4172.0         3890       3461.0                 0       4404.0   \n",
       "2   0.0       8210.0         5900       6922.0                 0       8952.0   \n",
       "3   0.0       7309.0         7460       6300.0                 0       7460.0   \n",
       "4   0.0       9182.0         6400       8330.0                 0       9846.0   \n",
       "\n",
       "   PriceIndex1  PriceIndex6  InsurancePremiumIndex  PriceIndex3  ...  \\\n",
       "0       9217.0      10387.0                    623      13108.0  ...   \n",
       "1       2958.0       3400.0                   1689       3695.0  ...   \n",
       "2       4568.0       4862.0                   2351       7730.0  ...   \n",
       "3       5361.0       6305.0                   1933       6290.0  ...   \n",
       "4       5428.0       5718.0                    482       8583.0  ...   \n",
       "\n",
       "   State_CO  State_SC  BuildYear_2006  BuildYear_2005 BuildYear_2007  \\\n",
       "0         0         0               0               0              0   \n",
       "1         0         0               0               0              0   \n",
       "2         0         1               0               0              0   \n",
       "3         0         0               0               0              0   \n",
       "4         0         1               0               0              1   \n",
       "\n",
       "   BuildYear_2004  BuildYear_2008  BuildYear_2003  RegionType_A  RegionType_B  \n",
       "0               0               1               0             1             0  \n",
       "1               0               0               0             1             0  \n",
       "2               1               0               0             1             0  \n",
       "3               0               0               0             0             0  \n",
       "4               0               0               0             0             1  \n",
       "\n",
       "[5 rows x 85 columns]"
      ]
     },
     "execution_count": 242,
     "metadata": {},
     "output_type": "execute_result"
    }
   ],
   "source": [
    "bd_all_copy.head()"
   ]
  },
  {
   "cell_type": "code",
   "execution_count": 245,
   "metadata": {},
   "outputs": [
    {
     "name": "stdout",
     "output_type": "stream",
     "text": [
      "<class 'pandas.core.frame.DataFrame'>\n",
      "Int64Index: 72983 entries, 0 to 10947\n",
      "Data columns (total 85 columns):\n",
      " #   Column                 Non-Null Count  Dtype  \n",
      "---  ------                 --------------  -----  \n",
      " 0   Junk                   62035 non-null  float64\n",
      " 1   PriceIndex8            72668 non-null  float64\n",
      " 2   PriceIndex9            72983 non-null  int64  \n",
      " 3   PriceIndex7            72668 non-null  float64\n",
      " 4   ExpeditedListing       72983 non-null  int64  \n",
      " 5   PriceIndex4            72965 non-null  float64\n",
      " 6   PriceIndex1            72965 non-null  float64\n",
      " 7   PriceIndex6            72668 non-null  float64\n",
      " 8   InsurancePremiumIndex  72983 non-null  int64  \n",
      " 9   PriceIndex3            72965 non-null  float64\n",
      " 10  PriceIndex5            72668 non-null  float64\n",
      " 11  NormalisedPopulation   72983 non-null  int64  \n",
      " 12  PropertyAge            72983 non-null  int64  \n",
      " 13  PriceIndex2            72965 non-null  float64\n",
      " 14  data                   72983 non-null  object \n",
      " 15  InteriorsStyle_K3BB    72983 non-null  int32  \n",
      " 16  InteriorsStyle_RCQE    72983 non-null  int32  \n",
      " 17  InteriorsStyle_WEGU    72983 non-null  int32  \n",
      " 18  InteriorsStyle_2XWO    72983 non-null  int32  \n",
      " 19  InteriorsStyle_V3Y1    72983 non-null  int32  \n",
      " 20  InteriorsStyle_YBQJ    72983 non-null  int32  \n",
      " 21  InteriorsStyle_AZMX    72983 non-null  int32  \n",
      " 22  InteriorsStyle_DUFA    72983 non-null  int32  \n",
      " 23  InteriorsStyle_7R8J    72983 non-null  int32  \n",
      " 24  InteriorsStyle_H1CI    72983 non-null  int32  \n",
      " 25  InteriorsStyle_ARWN    72983 non-null  int32  \n",
      " 26  ListDate_converted_2   72983 non-null  uint8  \n",
      " 27  ListDate_converted_3   72983 non-null  uint8  \n",
      " 28  ListDate_converted_4   72983 non-null  uint8  \n",
      " 29  ListDate_converted_5   72983 non-null  uint8  \n",
      " 30  ListDate_converted_6   72983 non-null  uint8  \n",
      " 31  ListDate_converted_7   72983 non-null  uint8  \n",
      " 32  ListDate_converted_8   72983 non-null  uint8  \n",
      " 33  ListDate_converted_9   72983 non-null  uint8  \n",
      " 34  ListDate_converted_10  72983 non-null  uint8  \n",
      " 35  ListDate_converted_11  72983 non-null  uint8  \n",
      " 36  ListDate_converted_12  72983 non-null  uint8  \n",
      " 37  Material_PRN0          72983 non-null  int32  \n",
      " 38  Material_C8A4          72983 non-null  int32  \n",
      " 39  Material_ZCI3          72983 non-null  int32  \n",
      " 40  Material_NYFD          72983 non-null  int32  \n",
      " 41  Agency_CAT1            72983 non-null  int32  \n",
      " 42  Agency_CAT2            72983 non-null  int32  \n",
      " 43  Agency_CAT3            72983 non-null  int32  \n",
      " 44  AreaIncomeType_A       72983 non-null  int32  \n",
      " 45  AreaIncomeType_B       72983 non-null  int32  \n",
      " 46  EnvRating_missing      72983 non-null  int32  \n",
      " 47  PRIMEUNIT_missing      72983 non-null  int32  \n",
      " 48  Channel_Direct         72983 non-null  int32  \n",
      " 49  Channel_Other          72983 non-null  int32  \n",
      " 50  Zip_32824              72983 non-null  int32  \n",
      " 51  PlotType_WHBI          72983 non-null  int32  \n",
      " 52  PlotType_W62B          72983 non-null  int32  \n",
      " 53  PlotType_32T2          72983 non-null  int32  \n",
      " 54  PlotType_DIJX          72983 non-null  int32  \n",
      " 55  PlotType_WLQ6          72983 non-null  int32  \n",
      " 56  Architecture_YIK5      72983 non-null  int32  \n",
      " 57  Architecture_TP7R      72983 non-null  int32  \n",
      " 58  Architecture_I3Z9      72983 non-null  int32  \n",
      " 59  Architecture_AVYP      72983 non-null  int32  \n",
      " 60  Region_A               72983 non-null  int32  \n",
      " 61  SubModel_FIVQ          72983 non-null  int32  \n",
      " 62  SubModel_KT8F          72983 non-null  int32  \n",
      " 63  Facade_SILVER          72983 non-null  int32  \n",
      " 64  Facade_WHITE           72983 non-null  int32  \n",
      " 65  Facade_BLUE            72983 non-null  int32  \n",
      " 66  Facade_GREY            72983 non-null  int32  \n",
      " 67  Facade_BLACK           72983 non-null  int32  \n",
      " 68  Facade_RED             72983 non-null  int32  \n",
      " 69  Facade_GOLD            72983 non-null  int32  \n",
      " 70  State_TX               72983 non-null  int32  \n",
      " 71  State_FL               72983 non-null  int32  \n",
      " 72  State_CA               72983 non-null  int32  \n",
      " 73  State_NC               72983 non-null  int32  \n",
      " 74  State_AZ               72983 non-null  int32  \n",
      " 75  State_CO               72983 non-null  int32  \n",
      " 76  State_SC               72983 non-null  int32  \n",
      " 77  BuildYear_2006         72983 non-null  int32  \n",
      " 78  BuildYear_2005         72983 non-null  int32  \n",
      " 79  BuildYear_2007         72983 non-null  int32  \n",
      " 80  BuildYear_2004         72983 non-null  int32  \n",
      " 81  BuildYear_2008         72983 non-null  int32  \n",
      " 82  BuildYear_2003         72983 non-null  int32  \n",
      " 83  RegionType_A           72983 non-null  int32  \n",
      " 84  RegionType_B           72983 non-null  int32  \n",
      "dtypes: float64(9), int32(59), int64(5), object(1), uint8(11)\n",
      "memory usage: 26.1+ MB\n"
     ]
    }
   ],
   "source": [
    "bd_all_copy.info()"
   ]
  },
  {
   "cell_type": "markdown",
   "metadata": {},
   "source": [
    "## Working on null values"
   ]
  },
  {
   "cell_type": "code",
   "execution_count": 246,
   "metadata": {},
   "outputs": [
    {
     "data": {
      "text/plain": [
       "[('Junk', dtype('float64'), 10948),\n",
       " ('PriceIndex8', dtype('float64'), 315),\n",
       " ('PriceIndex9', dtype('int64'), 0),\n",
       " ('PriceIndex7', dtype('float64'), 315),\n",
       " ('ExpeditedListing', dtype('int64'), 0),\n",
       " ('PriceIndex4', dtype('float64'), 18),\n",
       " ('PriceIndex1', dtype('float64'), 18),\n",
       " ('PriceIndex6', dtype('float64'), 315),\n",
       " ('InsurancePremiumIndex', dtype('int64'), 0),\n",
       " ('PriceIndex3', dtype('float64'), 18),\n",
       " ('PriceIndex5', dtype('float64'), 315),\n",
       " ('NormalisedPopulation', dtype('int64'), 0),\n",
       " ('PropertyAge', dtype('int64'), 0),\n",
       " ('PriceIndex2', dtype('float64'), 18),\n",
       " ('data', dtype('O'), 0),\n",
       " ('InteriorsStyle_K3BB', dtype('int32'), 0),\n",
       " ('InteriorsStyle_RCQE', dtype('int32'), 0),\n",
       " ('InteriorsStyle_WEGU', dtype('int32'), 0),\n",
       " ('InteriorsStyle_2XWO', dtype('int32'), 0),\n",
       " ('InteriorsStyle_V3Y1', dtype('int32'), 0),\n",
       " ('InteriorsStyle_YBQJ', dtype('int32'), 0),\n",
       " ('InteriorsStyle_AZMX', dtype('int32'), 0),\n",
       " ('InteriorsStyle_DUFA', dtype('int32'), 0),\n",
       " ('InteriorsStyle_7R8J', dtype('int32'), 0),\n",
       " ('InteriorsStyle_H1CI', dtype('int32'), 0),\n",
       " ('InteriorsStyle_ARWN', dtype('int32'), 0),\n",
       " ('ListDate_converted_2', dtype('uint8'), 0),\n",
       " ('ListDate_converted_3', dtype('uint8'), 0),\n",
       " ('ListDate_converted_4', dtype('uint8'), 0),\n",
       " ('ListDate_converted_5', dtype('uint8'), 0),\n",
       " ('ListDate_converted_6', dtype('uint8'), 0),\n",
       " ('ListDate_converted_7', dtype('uint8'), 0),\n",
       " ('ListDate_converted_8', dtype('uint8'), 0),\n",
       " ('ListDate_converted_9', dtype('uint8'), 0),\n",
       " ('ListDate_converted_10', dtype('uint8'), 0),\n",
       " ('ListDate_converted_11', dtype('uint8'), 0),\n",
       " ('ListDate_converted_12', dtype('uint8'), 0),\n",
       " ('Material_PRN0', dtype('int32'), 0),\n",
       " ('Material_C8A4', dtype('int32'), 0),\n",
       " ('Material_ZCI3', dtype('int32'), 0),\n",
       " ('Material_NYFD', dtype('int32'), 0),\n",
       " ('Agency_CAT1', dtype('int32'), 0),\n",
       " ('Agency_CAT2', dtype('int32'), 0),\n",
       " ('Agency_CAT3', dtype('int32'), 0),\n",
       " ('AreaIncomeType_A', dtype('int32'), 0),\n",
       " ('AreaIncomeType_B', dtype('int32'), 0),\n",
       " ('EnvRating_missing', dtype('int32'), 0),\n",
       " ('PRIMEUNIT_missing', dtype('int32'), 0),\n",
       " ('Channel_Direct', dtype('int32'), 0),\n",
       " ('Channel_Other', dtype('int32'), 0),\n",
       " ('Zip_32824', dtype('int32'), 0),\n",
       " ('PlotType_WHBI', dtype('int32'), 0),\n",
       " ('PlotType_W62B', dtype('int32'), 0),\n",
       " ('PlotType_32T2', dtype('int32'), 0),\n",
       " ('PlotType_DIJX', dtype('int32'), 0),\n",
       " ('PlotType_WLQ6', dtype('int32'), 0),\n",
       " ('Architecture_YIK5', dtype('int32'), 0),\n",
       " ('Architecture_TP7R', dtype('int32'), 0),\n",
       " ('Architecture_I3Z9', dtype('int32'), 0),\n",
       " ('Architecture_AVYP', dtype('int32'), 0),\n",
       " ('Region_A', dtype('int32'), 0),\n",
       " ('SubModel_FIVQ', dtype('int32'), 0),\n",
       " ('SubModel_KT8F', dtype('int32'), 0),\n",
       " ('Facade_SILVER', dtype('int32'), 0),\n",
       " ('Facade_WHITE', dtype('int32'), 0),\n",
       " ('Facade_BLUE', dtype('int32'), 0),\n",
       " ('Facade_GREY', dtype('int32'), 0),\n",
       " ('Facade_BLACK', dtype('int32'), 0),\n",
       " ('Facade_RED', dtype('int32'), 0),\n",
       " ('Facade_GOLD', dtype('int32'), 0),\n",
       " ('State_TX', dtype('int32'), 0),\n",
       " ('State_FL', dtype('int32'), 0),\n",
       " ('State_CA', dtype('int32'), 0),\n",
       " ('State_NC', dtype('int32'), 0),\n",
       " ('State_AZ', dtype('int32'), 0),\n",
       " ('State_CO', dtype('int32'), 0),\n",
       " ('State_SC', dtype('int32'), 0),\n",
       " ('BuildYear_2006', dtype('int32'), 0),\n",
       " ('BuildYear_2005', dtype('int32'), 0),\n",
       " ('BuildYear_2007', dtype('int32'), 0),\n",
       " ('BuildYear_2004', dtype('int32'), 0),\n",
       " ('BuildYear_2008', dtype('int32'), 0),\n",
       " ('BuildYear_2003', dtype('int32'), 0),\n",
       " ('RegionType_A', dtype('int32'), 0),\n",
       " ('RegionType_B', dtype('int32'), 0)]"
      ]
     },
     "execution_count": 246,
     "metadata": {},
     "output_type": "execute_result"
    }
   ],
   "source": [
    "list(zip(bd_all_copy.columns,bd_all_copy.dtypes,bd_all_copy.isnull().sum()))"
   ]
  },
  {
   "cell_type": "code",
   "execution_count": 247,
   "metadata": {},
   "outputs": [],
   "source": [
    "# priceInde series only has null values so replace it with median"
   ]
  },
  {
   "cell_type": "code",
   "execution_count": 248,
   "metadata": {},
   "outputs": [
    {
     "data": {
      "text/plain": [
       "['PriceIndex1',\n",
       " 'PriceIndex2',\n",
       " 'PriceIndex3',\n",
       " 'PriceIndex4',\n",
       " 'PriceIndex5',\n",
       " 'PriceIndex6',\n",
       " 'PriceIndex7',\n",
       " 'PriceIndex8',\n",
       " 'PriceIndex9']"
      ]
     },
     "execution_count": 248,
     "metadata": {},
     "output_type": "execute_result"
    }
   ],
   "source": [
    "cat=['PriceIndex'+str(i) for i in range(1,10)]\n",
    "cat"
   ]
  },
  {
   "cell_type": "code",
   "execution_count": 250,
   "metadata": {},
   "outputs": [],
   "source": [
    "for col in cat:\n",
    "        bd_all_copy[col]=bd_all_copy[col].fillna(bd_all_copy.loc[bd_all_copy['data']=='train',col].median())"
   ]
  },
  {
   "cell_type": "code",
   "execution_count": 251,
   "metadata": {},
   "outputs": [
    {
     "data": {
      "text/plain": [
       "[('Junk', dtype('float64'), 10948),\n",
       " ('PriceIndex8', dtype('float64'), 0),\n",
       " ('PriceIndex9', dtype('int64'), 0),\n",
       " ('PriceIndex7', dtype('float64'), 0),\n",
       " ('ExpeditedListing', dtype('int64'), 0),\n",
       " ('PriceIndex4', dtype('float64'), 0),\n",
       " ('PriceIndex1', dtype('float64'), 0),\n",
       " ('PriceIndex6', dtype('float64'), 0),\n",
       " ('InsurancePremiumIndex', dtype('int64'), 0),\n",
       " ('PriceIndex3', dtype('float64'), 0),\n",
       " ('PriceIndex5', dtype('float64'), 0),\n",
       " ('NormalisedPopulation', dtype('int64'), 0),\n",
       " ('PropertyAge', dtype('int64'), 0),\n",
       " ('PriceIndex2', dtype('float64'), 0),\n",
       " ('data', dtype('O'), 0),\n",
       " ('InteriorsStyle_K3BB', dtype('int32'), 0),\n",
       " ('InteriorsStyle_RCQE', dtype('int32'), 0),\n",
       " ('InteriorsStyle_WEGU', dtype('int32'), 0),\n",
       " ('InteriorsStyle_2XWO', dtype('int32'), 0),\n",
       " ('InteriorsStyle_V3Y1', dtype('int32'), 0),\n",
       " ('InteriorsStyle_YBQJ', dtype('int32'), 0),\n",
       " ('InteriorsStyle_AZMX', dtype('int32'), 0),\n",
       " ('InteriorsStyle_DUFA', dtype('int32'), 0),\n",
       " ('InteriorsStyle_7R8J', dtype('int32'), 0),\n",
       " ('InteriorsStyle_H1CI', dtype('int32'), 0),\n",
       " ('InteriorsStyle_ARWN', dtype('int32'), 0),\n",
       " ('ListDate_converted_2', dtype('uint8'), 0),\n",
       " ('ListDate_converted_3', dtype('uint8'), 0),\n",
       " ('ListDate_converted_4', dtype('uint8'), 0),\n",
       " ('ListDate_converted_5', dtype('uint8'), 0),\n",
       " ('ListDate_converted_6', dtype('uint8'), 0),\n",
       " ('ListDate_converted_7', dtype('uint8'), 0),\n",
       " ('ListDate_converted_8', dtype('uint8'), 0),\n",
       " ('ListDate_converted_9', dtype('uint8'), 0),\n",
       " ('ListDate_converted_10', dtype('uint8'), 0),\n",
       " ('ListDate_converted_11', dtype('uint8'), 0),\n",
       " ('ListDate_converted_12', dtype('uint8'), 0),\n",
       " ('Material_PRN0', dtype('int32'), 0),\n",
       " ('Material_C8A4', dtype('int32'), 0),\n",
       " ('Material_ZCI3', dtype('int32'), 0),\n",
       " ('Material_NYFD', dtype('int32'), 0),\n",
       " ('Agency_CAT1', dtype('int32'), 0),\n",
       " ('Agency_CAT2', dtype('int32'), 0),\n",
       " ('Agency_CAT3', dtype('int32'), 0),\n",
       " ('AreaIncomeType_A', dtype('int32'), 0),\n",
       " ('AreaIncomeType_B', dtype('int32'), 0),\n",
       " ('EnvRating_missing', dtype('int32'), 0),\n",
       " ('PRIMEUNIT_missing', dtype('int32'), 0),\n",
       " ('Channel_Direct', dtype('int32'), 0),\n",
       " ('Channel_Other', dtype('int32'), 0),\n",
       " ('Zip_32824', dtype('int32'), 0),\n",
       " ('PlotType_WHBI', dtype('int32'), 0),\n",
       " ('PlotType_W62B', dtype('int32'), 0),\n",
       " ('PlotType_32T2', dtype('int32'), 0),\n",
       " ('PlotType_DIJX', dtype('int32'), 0),\n",
       " ('PlotType_WLQ6', dtype('int32'), 0),\n",
       " ('Architecture_YIK5', dtype('int32'), 0),\n",
       " ('Architecture_TP7R', dtype('int32'), 0),\n",
       " ('Architecture_I3Z9', dtype('int32'), 0),\n",
       " ('Architecture_AVYP', dtype('int32'), 0),\n",
       " ('Region_A', dtype('int32'), 0),\n",
       " ('SubModel_FIVQ', dtype('int32'), 0),\n",
       " ('SubModel_KT8F', dtype('int32'), 0),\n",
       " ('Facade_SILVER', dtype('int32'), 0),\n",
       " ('Facade_WHITE', dtype('int32'), 0),\n",
       " ('Facade_BLUE', dtype('int32'), 0),\n",
       " ('Facade_GREY', dtype('int32'), 0),\n",
       " ('Facade_BLACK', dtype('int32'), 0),\n",
       " ('Facade_RED', dtype('int32'), 0),\n",
       " ('Facade_GOLD', dtype('int32'), 0),\n",
       " ('State_TX', dtype('int32'), 0),\n",
       " ('State_FL', dtype('int32'), 0),\n",
       " ('State_CA', dtype('int32'), 0),\n",
       " ('State_NC', dtype('int32'), 0),\n",
       " ('State_AZ', dtype('int32'), 0),\n",
       " ('State_CO', dtype('int32'), 0),\n",
       " ('State_SC', dtype('int32'), 0),\n",
       " ('BuildYear_2006', dtype('int32'), 0),\n",
       " ('BuildYear_2005', dtype('int32'), 0),\n",
       " ('BuildYear_2007', dtype('int32'), 0),\n",
       " ('BuildYear_2004', dtype('int32'), 0),\n",
       " ('BuildYear_2008', dtype('int32'), 0),\n",
       " ('BuildYear_2003', dtype('int32'), 0),\n",
       " ('RegionType_A', dtype('int32'), 0),\n",
       " ('RegionType_B', dtype('int32'), 0)]"
      ]
     },
     "execution_count": 251,
     "metadata": {},
     "output_type": "execute_result"
    }
   ],
   "source": [
    "list(zip(bd_all_copy.columns,bd_all_copy.dtypes,bd_all_copy.isnull().sum()))"
   ]
  },
  {
   "cell_type": "markdown",
   "metadata": {},
   "source": [
    "#### data preparation is over"
   ]
  },
  {
   "cell_type": "markdown",
   "metadata": {},
   "source": [
    "# ML part"
   ]
  },
  {
   "cell_type": "code",
   "execution_count": 252,
   "metadata": {},
   "outputs": [],
   "source": [
    "target='Junk'"
   ]
  },
  {
   "cell_type": "code",
   "execution_count": 253,
   "metadata": {},
   "outputs": [],
   "source": [
    "x_train=bd_all_copy.drop([target,'data'],1)[bd_all_copy['data']=='train']\n",
    "y_train=bd_all_copy[target][bd_all_copy['data']=='train']\n",
    "x_test=bd_all_copy.drop([target,'data'],1)[bd_all_copy['data']=='test']"
   ]
  },
  {
   "cell_type": "code",
   "execution_count": 254,
   "metadata": {},
   "outputs": [
    {
     "data": {
      "text/html": [
       "<div>\n",
       "<style scoped>\n",
       "    .dataframe tbody tr th:only-of-type {\n",
       "        vertical-align: middle;\n",
       "    }\n",
       "\n",
       "    .dataframe tbody tr th {\n",
       "        vertical-align: top;\n",
       "    }\n",
       "\n",
       "    .dataframe thead th {\n",
       "        text-align: right;\n",
       "    }\n",
       "</style>\n",
       "<table border=\"1\" class=\"dataframe\">\n",
       "  <thead>\n",
       "    <tr style=\"text-align: right;\">\n",
       "      <th></th>\n",
       "      <th>PriceIndex8</th>\n",
       "      <th>PriceIndex9</th>\n",
       "      <th>PriceIndex7</th>\n",
       "      <th>ExpeditedListing</th>\n",
       "      <th>PriceIndex4</th>\n",
       "      <th>PriceIndex1</th>\n",
       "      <th>PriceIndex6</th>\n",
       "      <th>InsurancePremiumIndex</th>\n",
       "      <th>PriceIndex3</th>\n",
       "      <th>PriceIndex5</th>\n",
       "      <th>...</th>\n",
       "      <th>State_CO</th>\n",
       "      <th>State_SC</th>\n",
       "      <th>BuildYear_2006</th>\n",
       "      <th>BuildYear_2005</th>\n",
       "      <th>BuildYear_2007</th>\n",
       "      <th>BuildYear_2004</th>\n",
       "      <th>BuildYear_2008</th>\n",
       "      <th>BuildYear_2003</th>\n",
       "      <th>RegionType_A</th>\n",
       "      <th>RegionType_B</th>\n",
       "    </tr>\n",
       "  </thead>\n",
       "  <tbody>\n",
       "    <tr>\n",
       "      <th>0</th>\n",
       "      <td>14674.0</td>\n",
       "      <td>8270</td>\n",
       "      <td>13143.0</td>\n",
       "      <td>0</td>\n",
       "      <td>14224.0</td>\n",
       "      <td>9217.0</td>\n",
       "      <td>10387.0</td>\n",
       "      <td>623</td>\n",
       "      <td>13108.0</td>\n",
       "      <td>9022.0</td>\n",
       "      <td>...</td>\n",
       "      <td>0</td>\n",
       "      <td>0</td>\n",
       "      <td>0</td>\n",
       "      <td>0</td>\n",
       "      <td>0</td>\n",
       "      <td>0</td>\n",
       "      <td>1</td>\n",
       "      <td>0</td>\n",
       "      <td>1</td>\n",
       "      <td>0</td>\n",
       "    </tr>\n",
       "    <tr>\n",
       "      <th>1</th>\n",
       "      <td>4172.0</td>\n",
       "      <td>3890</td>\n",
       "      <td>3461.0</td>\n",
       "      <td>0</td>\n",
       "      <td>4404.0</td>\n",
       "      <td>2958.0</td>\n",
       "      <td>3400.0</td>\n",
       "      <td>1689</td>\n",
       "      <td>3695.0</td>\n",
       "      <td>2742.0</td>\n",
       "      <td>...</td>\n",
       "      <td>0</td>\n",
       "      <td>0</td>\n",
       "      <td>0</td>\n",
       "      <td>0</td>\n",
       "      <td>0</td>\n",
       "      <td>0</td>\n",
       "      <td>0</td>\n",
       "      <td>0</td>\n",
       "      <td>1</td>\n",
       "      <td>0</td>\n",
       "    </tr>\n",
       "    <tr>\n",
       "      <th>2</th>\n",
       "      <td>8210.0</td>\n",
       "      <td>5900</td>\n",
       "      <td>6922.0</td>\n",
       "      <td>0</td>\n",
       "      <td>8952.0</td>\n",
       "      <td>4568.0</td>\n",
       "      <td>4862.0</td>\n",
       "      <td>2351</td>\n",
       "      <td>7730.0</td>\n",
       "      <td>3768.0</td>\n",
       "      <td>...</td>\n",
       "      <td>0</td>\n",
       "      <td>1</td>\n",
       "      <td>0</td>\n",
       "      <td>0</td>\n",
       "      <td>0</td>\n",
       "      <td>1</td>\n",
       "      <td>0</td>\n",
       "      <td>0</td>\n",
       "      <td>1</td>\n",
       "      <td>0</td>\n",
       "    </tr>\n",
       "    <tr>\n",
       "      <th>3</th>\n",
       "      <td>7309.0</td>\n",
       "      <td>7460</td>\n",
       "      <td>6300.0</td>\n",
       "      <td>0</td>\n",
       "      <td>7460.0</td>\n",
       "      <td>5361.0</td>\n",
       "      <td>6305.0</td>\n",
       "      <td>1933</td>\n",
       "      <td>6290.0</td>\n",
       "      <td>5370.0</td>\n",
       "      <td>...</td>\n",
       "      <td>0</td>\n",
       "      <td>0</td>\n",
       "      <td>0</td>\n",
       "      <td>0</td>\n",
       "      <td>0</td>\n",
       "      <td>0</td>\n",
       "      <td>0</td>\n",
       "      <td>0</td>\n",
       "      <td>0</td>\n",
       "      <td>0</td>\n",
       "    </tr>\n",
       "    <tr>\n",
       "      <th>4</th>\n",
       "      <td>9182.0</td>\n",
       "      <td>6400</td>\n",
       "      <td>8330.0</td>\n",
       "      <td>0</td>\n",
       "      <td>9846.0</td>\n",
       "      <td>5428.0</td>\n",
       "      <td>5718.0</td>\n",
       "      <td>482</td>\n",
       "      <td>8583.0</td>\n",
       "      <td>4803.0</td>\n",
       "      <td>...</td>\n",
       "      <td>0</td>\n",
       "      <td>1</td>\n",
       "      <td>0</td>\n",
       "      <td>0</td>\n",
       "      <td>1</td>\n",
       "      <td>0</td>\n",
       "      <td>0</td>\n",
       "      <td>0</td>\n",
       "      <td>0</td>\n",
       "      <td>1</td>\n",
       "    </tr>\n",
       "  </tbody>\n",
       "</table>\n",
       "<p>5 rows × 83 columns</p>\n",
       "</div>"
      ],
      "text/plain": [
       "   PriceIndex8  PriceIndex9  PriceIndex7  ExpeditedListing  PriceIndex4  \\\n",
       "0      14674.0         8270      13143.0                 0      14224.0   \n",
       "1       4172.0         3890       3461.0                 0       4404.0   \n",
       "2       8210.0         5900       6922.0                 0       8952.0   \n",
       "3       7309.0         7460       6300.0                 0       7460.0   \n",
       "4       9182.0         6400       8330.0                 0       9846.0   \n",
       "\n",
       "   PriceIndex1  PriceIndex6  InsurancePremiumIndex  PriceIndex3  PriceIndex5  \\\n",
       "0       9217.0      10387.0                    623      13108.0       9022.0   \n",
       "1       2958.0       3400.0                   1689       3695.0       2742.0   \n",
       "2       4568.0       4862.0                   2351       7730.0       3768.0   \n",
       "3       5361.0       6305.0                   1933       6290.0       5370.0   \n",
       "4       5428.0       5718.0                    482       8583.0       4803.0   \n",
       "\n",
       "   ...  State_CO  State_SC  BuildYear_2006  BuildYear_2005  BuildYear_2007  \\\n",
       "0  ...         0         0               0               0               0   \n",
       "1  ...         0         0               0               0               0   \n",
       "2  ...         0         1               0               0               0   \n",
       "3  ...         0         0               0               0               0   \n",
       "4  ...         0         1               0               0               1   \n",
       "\n",
       "   BuildYear_2004  BuildYear_2008  BuildYear_2003  RegionType_A  RegionType_B  \n",
       "0               0               1               0             1             0  \n",
       "1               0               0               0             1             0  \n",
       "2               1               0               0             1             0  \n",
       "3               0               0               0             0             0  \n",
       "4               0               0               0             0             1  \n",
       "\n",
       "[5 rows x 83 columns]"
      ]
     },
     "execution_count": 254,
     "metadata": {},
     "output_type": "execute_result"
    }
   ],
   "source": [
    "x_train.head()"
   ]
  },
  {
   "cell_type": "code",
   "execution_count": 256,
   "metadata": {},
   "outputs": [
    {
     "data": {
      "text/plain": [
       "0    0.0\n",
       "1    1.0\n",
       "2    0.0\n",
       "3    0.0\n",
       "4    0.0\n",
       "Name: Junk, dtype: float64"
      ]
     },
     "execution_count": 256,
     "metadata": {},
     "output_type": "execute_result"
    }
   ],
   "source": [
    "y_train.head()"
   ]
  },
  {
   "cell_type": "code",
   "execution_count": 257,
   "metadata": {},
   "outputs": [
    {
     "data": {
      "text/html": [
       "<div>\n",
       "<style scoped>\n",
       "    .dataframe tbody tr th:only-of-type {\n",
       "        vertical-align: middle;\n",
       "    }\n",
       "\n",
       "    .dataframe tbody tr th {\n",
       "        vertical-align: top;\n",
       "    }\n",
       "\n",
       "    .dataframe thead th {\n",
       "        text-align: right;\n",
       "    }\n",
       "</style>\n",
       "<table border=\"1\" class=\"dataframe\">\n",
       "  <thead>\n",
       "    <tr style=\"text-align: right;\">\n",
       "      <th></th>\n",
       "      <th>PriceIndex8</th>\n",
       "      <th>PriceIndex9</th>\n",
       "      <th>PriceIndex7</th>\n",
       "      <th>ExpeditedListing</th>\n",
       "      <th>PriceIndex4</th>\n",
       "      <th>PriceIndex1</th>\n",
       "      <th>PriceIndex6</th>\n",
       "      <th>InsurancePremiumIndex</th>\n",
       "      <th>PriceIndex3</th>\n",
       "      <th>PriceIndex5</th>\n",
       "      <th>...</th>\n",
       "      <th>State_CO</th>\n",
       "      <th>State_SC</th>\n",
       "      <th>BuildYear_2006</th>\n",
       "      <th>BuildYear_2005</th>\n",
       "      <th>BuildYear_2007</th>\n",
       "      <th>BuildYear_2004</th>\n",
       "      <th>BuildYear_2008</th>\n",
       "      <th>BuildYear_2003</th>\n",
       "      <th>RegionType_A</th>\n",
       "      <th>RegionType_B</th>\n",
       "    </tr>\n",
       "  </thead>\n",
       "  <tbody>\n",
       "    <tr>\n",
       "      <th>0</th>\n",
       "      <td>10645.0</td>\n",
       "      <td>6015</td>\n",
       "      <td>9568.0</td>\n",
       "      <td>0</td>\n",
       "      <td>12432.0</td>\n",
       "      <td>6986.0</td>\n",
       "      <td>7133.0</td>\n",
       "      <td>728</td>\n",
       "      <td>10860.0</td>\n",
       "      <td>5911.0</td>\n",
       "      <td>...</td>\n",
       "      <td>0</td>\n",
       "      <td>0</td>\n",
       "      <td>1</td>\n",
       "      <td>0</td>\n",
       "      <td>0</td>\n",
       "      <td>0</td>\n",
       "      <td>0</td>\n",
       "      <td>0</td>\n",
       "      <td>1</td>\n",
       "      <td>0</td>\n",
       "    </tr>\n",
       "    <tr>\n",
       "      <th>1</th>\n",
       "      <td>9891.0</td>\n",
       "      <td>7625</td>\n",
       "      <td>8888.0</td>\n",
       "      <td>0</td>\n",
       "      <td>12173.0</td>\n",
       "      <td>5954.0</td>\n",
       "      <td>6544.0</td>\n",
       "      <td>1334</td>\n",
       "      <td>10166.0</td>\n",
       "      <td>5370.0</td>\n",
       "      <td>...</td>\n",
       "      <td>0</td>\n",
       "      <td>0</td>\n",
       "      <td>0</td>\n",
       "      <td>0</td>\n",
       "      <td>0</td>\n",
       "      <td>1</td>\n",
       "      <td>0</td>\n",
       "      <td>0</td>\n",
       "      <td>0</td>\n",
       "      <td>1</td>\n",
       "    </tr>\n",
       "    <tr>\n",
       "      <th>2</th>\n",
       "      <td>8426.0</td>\n",
       "      <td>6900</td>\n",
       "      <td>7911.0</td>\n",
       "      <td>0</td>\n",
       "      <td>9134.0</td>\n",
       "      <td>7407.0</td>\n",
       "      <td>7339.0</td>\n",
       "      <td>754</td>\n",
       "      <td>8500.0</td>\n",
       "      <td>6862.0</td>\n",
       "      <td>...</td>\n",
       "      <td>0</td>\n",
       "      <td>0</td>\n",
       "      <td>0</td>\n",
       "      <td>0</td>\n",
       "      <td>0</td>\n",
       "      <td>0</td>\n",
       "      <td>1</td>\n",
       "      <td>0</td>\n",
       "      <td>1</td>\n",
       "      <td>0</td>\n",
       "    </tr>\n",
       "    <tr>\n",
       "      <th>3</th>\n",
       "      <td>9269.0</td>\n",
       "      <td>6475</td>\n",
       "      <td>7773.0</td>\n",
       "      <td>0</td>\n",
       "      <td>8500.0</td>\n",
       "      <td>4241.0</td>\n",
       "      <td>6143.0</td>\n",
       "      <td>1373</td>\n",
       "      <td>7294.0</td>\n",
       "      <td>4872.0</td>\n",
       "      <td>...</td>\n",
       "      <td>1</td>\n",
       "      <td>0</td>\n",
       "      <td>0</td>\n",
       "      <td>1</td>\n",
       "      <td>0</td>\n",
       "      <td>0</td>\n",
       "      <td>0</td>\n",
       "      <td>0</td>\n",
       "      <td>1</td>\n",
       "      <td>0</td>\n",
       "    </tr>\n",
       "    <tr>\n",
       "      <th>4</th>\n",
       "      <td>5366.0</td>\n",
       "      <td>3960</td>\n",
       "      <td>4134.0</td>\n",
       "      <td>0</td>\n",
       "      <td>5211.0</td>\n",
       "      <td>3352.0</td>\n",
       "      <td>4506.0</td>\n",
       "      <td>2939</td>\n",
       "      <td>4120.0</td>\n",
       "      <td>3365.0</td>\n",
       "      <td>...</td>\n",
       "      <td>0</td>\n",
       "      <td>0</td>\n",
       "      <td>0</td>\n",
       "      <td>0</td>\n",
       "      <td>0</td>\n",
       "      <td>0</td>\n",
       "      <td>0</td>\n",
       "      <td>1</td>\n",
       "      <td>1</td>\n",
       "      <td>0</td>\n",
       "    </tr>\n",
       "  </tbody>\n",
       "</table>\n",
       "<p>5 rows × 83 columns</p>\n",
       "</div>"
      ],
      "text/plain": [
       "   PriceIndex8  PriceIndex9  PriceIndex7  ExpeditedListing  PriceIndex4  \\\n",
       "0      10645.0         6015       9568.0                 0      12432.0   \n",
       "1       9891.0         7625       8888.0                 0      12173.0   \n",
       "2       8426.0         6900       7911.0                 0       9134.0   \n",
       "3       9269.0         6475       7773.0                 0       8500.0   \n",
       "4       5366.0         3960       4134.0                 0       5211.0   \n",
       "\n",
       "   PriceIndex1  PriceIndex6  InsurancePremiumIndex  PriceIndex3  PriceIndex5  \\\n",
       "0       6986.0       7133.0                    728      10860.0       5911.0   \n",
       "1       5954.0       6544.0                   1334      10166.0       5370.0   \n",
       "2       7407.0       7339.0                    754       8500.0       6862.0   \n",
       "3       4241.0       6143.0                   1373       7294.0       4872.0   \n",
       "4       3352.0       4506.0                   2939       4120.0       3365.0   \n",
       "\n",
       "   ...  State_CO  State_SC  BuildYear_2006  BuildYear_2005  BuildYear_2007  \\\n",
       "0  ...         0         0               1               0               0   \n",
       "1  ...         0         0               0               0               0   \n",
       "2  ...         0         0               0               0               0   \n",
       "3  ...         1         0               0               1               0   \n",
       "4  ...         0         0               0               0               0   \n",
       "\n",
       "   BuildYear_2004  BuildYear_2008  BuildYear_2003  RegionType_A  RegionType_B  \n",
       "0               0               0               0             1             0  \n",
       "1               1               0               0             0             1  \n",
       "2               0               1               0             1             0  \n",
       "3               0               0               0             1             0  \n",
       "4               0               0               1             1             0  \n",
       "\n",
       "[5 rows x 83 columns]"
      ]
     },
     "execution_count": 257,
     "metadata": {},
     "output_type": "execute_result"
    }
   ],
   "source": [
    "x_test.head()"
   ]
  },
  {
   "cell_type": "markdown",
   "metadata": {},
   "source": [
    "### XGB"
   ]
  },
  {
   "cell_type": "code",
   "execution_count": 260,
   "metadata": {},
   "outputs": [],
   "source": [
    "param_dist = {\n",
    "              \"max_depth\": [2,3,4,5,6],\n",
    "              \"learning_rate\":[0.01,0.05,0.1,0.3,0.5],\n",
    "                \"min_child_weight\":[4,5,6],\n",
    "              \"subsample\":[i/10.0 for i in range(6,10)],\n",
    "                \"colsample_bytree\":[i/10.0 for i in range(6,10)],\n",
    "               \"reg_alpha\":[1e-5, 1e-2, 0.1, 1, 100],\n",
    "              \"gamma\":[i/10.0 for i in range(0,5)],\n",
    "            \"n_estimators\":[100,500,700,1000],\n",
    "            'scale_pos_weight':[2,3,4,5,6,7,8,9]\n",
    "              }"
   ]
  },
  {
   "cell_type": "code",
   "execution_count": 261,
   "metadata": {},
   "outputs": [],
   "source": [
    "clf=XGBClassifier(objective='binary:logistic')"
   ]
  },
  {
   "cell_type": "code",
   "execution_count": 263,
   "metadata": {},
   "outputs": [],
   "source": [
    "n_iter=25\n",
    "\n",
    "random_search=RandomizedSearchCV(clf,n_jobs=-1,verbose=3,cv=10,n_iter=n_iter,scoring='roc_auc',\n",
    "                                 param_distributions=param_dist)"
   ]
  },
  {
   "cell_type": "code",
   "execution_count": 264,
   "metadata": {},
   "outputs": [
    {
     "name": "stdout",
     "output_type": "stream",
     "text": [
      "Fitting 10 folds for each of 25 candidates, totalling 250 fits\n"
     ]
    },
    {
     "name": "stderr",
     "output_type": "stream",
     "text": [
      "[Parallel(n_jobs=-1)]: Using backend LokyBackend with 4 concurrent workers.\n",
      "[Parallel(n_jobs=-1)]: Done  24 tasks      | elapsed: 24.7min\n",
      "[Parallel(n_jobs=-1)]: Done 120 tasks      | elapsed: 132.9min\n",
      "[Parallel(n_jobs=-1)]: Done 250 out of 250 | elapsed: 237.1min finished\n"
     ]
    },
    {
     "data": {
      "text/plain": [
       "RandomizedSearchCV(cv=10, error_score=nan,\n",
       "                   estimator=XGBClassifier(base_score=None, booster=None,\n",
       "                                           colsample_bylevel=None,\n",
       "                                           colsample_bynode=None,\n",
       "                                           colsample_bytree=None, gamma=None,\n",
       "                                           gpu_id=None, importance_type='gain',\n",
       "                                           interaction_constraints=None,\n",
       "                                           learning_rate=None,\n",
       "                                           max_delta_step=None, max_depth=None,\n",
       "                                           min_child_weight=None, missing=nan,\n",
       "                                           monotone_constraints=None,...\n",
       "                                        'gamma': [0.0, 0.1, 0.2, 0.3, 0.4],\n",
       "                                        'learning_rate': [0.01, 0.05, 0.1, 0.3,\n",
       "                                                          0.5],\n",
       "                                        'max_depth': [2, 3, 4, 5, 6],\n",
       "                                        'min_child_weight': [4, 5, 6],\n",
       "                                        'n_estimators': [100, 500, 700, 1000],\n",
       "                                        'reg_alpha': [1e-05, 0.01, 0.1, 1, 100],\n",
       "                                        'scale_pos_weight': [2, 3, 4, 5, 6, 7,\n",
       "                                                             8, 9],\n",
       "                                        'subsample': [0.6, 0.7, 0.8, 0.9]},\n",
       "                   pre_dispatch='2*n_jobs', random_state=None, refit=True,\n",
       "                   return_train_score=False, scoring='roc_auc', verbose=3)"
      ]
     },
     "execution_count": 264,
     "metadata": {},
     "output_type": "execute_result"
    }
   ],
   "source": [
    "random_search.fit(x_train,y_train)"
   ]
  },
  {
   "cell_type": "code",
   "execution_count": 265,
   "metadata": {},
   "outputs": [],
   "source": [
    "def report(results,n_top=3):\n",
    "    for i in range(1,n_top+1):\n",
    "        candidates = np.flatnonzero(results['rank_test_score']==i)\n",
    "        for candidate in candidates:\n",
    "            print(\"Model with rank: {0}\".format(i))\n",
    "            print(\"Mean Validation Score: {0:.8f} (std:{1:.3f})\".format(\n",
    "                results['mean_test_score'][candidate],\n",
    "                results['std_test_score'][candidate]))\n",
    "            print(\"Parameters: {0}\".format(results['params'][candidate]))\n",
    "            print(\"\")"
   ]
  },
  {
   "cell_type": "code",
   "execution_count": 266,
   "metadata": {},
   "outputs": [
    {
     "name": "stdout",
     "output_type": "stream",
     "text": [
      "Model with rank: 1\n",
      "Mean Validation Score: 0.76959115 (std:0.007)\n",
      "Parameters: {'subsample': 0.7, 'scale_pos_weight': 6, 'reg_alpha': 0.01, 'n_estimators': 700, 'min_child_weight': 6, 'max_depth': 3, 'learning_rate': 0.05, 'gamma': 0.2, 'colsample_bytree': 0.8}\n",
      "\n",
      "Model with rank: 2\n",
      "Mean Validation Score: 0.76886093 (std:0.007)\n",
      "Parameters: {'subsample': 0.6, 'scale_pos_weight': 8, 'reg_alpha': 0.1, 'n_estimators': 700, 'min_child_weight': 6, 'max_depth': 3, 'learning_rate': 0.05, 'gamma': 0.2, 'colsample_bytree': 0.6}\n",
      "\n",
      "Model with rank: 3\n",
      "Mean Validation Score: 0.76841805 (std:0.007)\n",
      "Parameters: {'subsample': 0.8, 'scale_pos_weight': 6, 'reg_alpha': 0.01, 'n_estimators': 1000, 'min_child_weight': 6, 'max_depth': 4, 'learning_rate': 0.01, 'gamma': 0.3, 'colsample_bytree': 0.7}\n",
      "\n",
      "Model with rank: 4\n",
      "Mean Validation Score: 0.76785410 (std:0.008)\n",
      "Parameters: {'subsample': 0.8, 'scale_pos_weight': 3, 'reg_alpha': 100, 'n_estimators': 700, 'min_child_weight': 6, 'max_depth': 5, 'learning_rate': 0.05, 'gamma': 0.4, 'colsample_bytree': 0.6}\n",
      "\n",
      "Model with rank: 5\n",
      "Mean Validation Score: 0.76724573 (std:0.008)\n",
      "Parameters: {'subsample': 0.6, 'scale_pos_weight': 8, 'reg_alpha': 100, 'n_estimators': 700, 'min_child_weight': 4, 'max_depth': 6, 'learning_rate': 0.1, 'gamma': 0.3, 'colsample_bytree': 0.8}\n",
      "\n"
     ]
    }
   ],
   "source": [
    "report(random_search.cv_results_,5)"
   ]
  },
  {
   "cell_type": "code",
   "execution_count": null,
   "metadata": {},
   "outputs": [],
   "source": [
    "#here we choose 1 st rank"
   ]
  },
  {
   "cell_type": "markdown",
   "metadata": {},
   "source": [
    "Model with rank: 1\n",
    "Mean Validation Score: 0.76959115 (std:0.007)\n",
    "Parameters: {'subsample': 0.7, 'scale_pos_weight': 6, 'reg_alpha': 0.01,\n",
    "             'n_estimators': 700, 'min_child_weight': 6, 'max_depth': 3, 'learning_rate': 0.05,\n",
    "             'gamma': 0.2, 'colsample_bytree': 0.8}"
   ]
  },
  {
   "cell_type": "code",
   "execution_count": 267,
   "metadata": {},
   "outputs": [],
   "source": [
    "xgb_best=XGBClassifier(subsample=0.7,scale_pos_weight=6,reg_alpha=0.01,n_estimators=700,min_child_weight=6,\n",
    "                       max_depth=3,learning_rate=0.05,gamma=0.2,colsample_bytree=0.8,n_jobs=-1)"
   ]
  },
  {
   "cell_type": "code",
   "execution_count": 268,
   "metadata": {},
   "outputs": [
    {
     "data": {
      "text/plain": [
       "XGBClassifier(base_score=0.5, booster='gbtree', colsample_bylevel=1,\n",
       "              colsample_bynode=1, colsample_bytree=0.8, gamma=0.2, gpu_id=-1,\n",
       "              importance_type='gain', interaction_constraints='',\n",
       "              learning_rate=0.05, max_delta_step=0, max_depth=3,\n",
       "              min_child_weight=6, missing=nan, monotone_constraints='()',\n",
       "              n_estimators=700, n_jobs=-1, num_parallel_tree=1,\n",
       "              objective='binary:logistic', random_state=0, reg_alpha=0.01,\n",
       "              reg_lambda=1, scale_pos_weight=6, subsample=0.7,\n",
       "              tree_method='exact', validate_parameters=1, verbosity=None)"
      ]
     },
     "execution_count": 268,
     "metadata": {},
     "output_type": "execute_result"
    }
   ],
   "source": [
    "xgb_best.fit(x_train,y_train)"
   ]
  },
  {
   "cell_type": "code",
   "execution_count": 269,
   "metadata": {},
   "outputs": [],
   "source": [
    "submissions=pd.DataFrame({'Junk':xgb_best.predict_proba(x_test)[:,1]})"
   ]
  },
  {
   "cell_type": "code",
   "execution_count": 270,
   "metadata": {},
   "outputs": [],
   "source": [
    "submissions.to_csv('Surendran_R_attempt_1_project_5.csv',index=False)"
   ]
  },
  {
   "cell_type": "code",
   "execution_count": null,
   "metadata": {},
   "outputs": [],
   "source": []
  },
  {
   "cell_type": "code",
   "execution_count": null,
   "metadata": {},
   "outputs": [],
   "source": []
  },
  {
   "cell_type": "code",
   "execution_count": 271,
   "metadata": {},
   "outputs": [],
   "source": [
    "r=pd.read_csv('Surendran_R_attempt_1_project_5.csv')"
   ]
  },
  {
   "cell_type": "code",
   "execution_count": 272,
   "metadata": {},
   "outputs": [
    {
     "data": {
      "text/plain": [
       "(10948, 1)"
      ]
     },
     "execution_count": 272,
     "metadata": {},
     "output_type": "execute_result"
    }
   ],
   "source": [
    "r.shape"
   ]
  },
  {
   "cell_type": "code",
   "execution_count": 273,
   "metadata": {},
   "outputs": [
    {
     "data": {
      "text/plain": [
       "(10948, 83)"
      ]
     },
     "execution_count": 273,
     "metadata": {},
     "output_type": "execute_result"
    }
   ],
   "source": [
    "x_test.shape"
   ]
  },
  {
   "cell_type": "code",
   "execution_count": 274,
   "metadata": {},
   "outputs": [
    {
     "data": {
      "text/html": [
       "<div>\n",
       "<style scoped>\n",
       "    .dataframe tbody tr th:only-of-type {\n",
       "        vertical-align: middle;\n",
       "    }\n",
       "\n",
       "    .dataframe tbody tr th {\n",
       "        vertical-align: top;\n",
       "    }\n",
       "\n",
       "    .dataframe thead th {\n",
       "        text-align: right;\n",
       "    }\n",
       "</style>\n",
       "<table border=\"1\" class=\"dataframe\">\n",
       "  <thead>\n",
       "    <tr style=\"text-align: right;\">\n",
       "      <th></th>\n",
       "      <th>Junk</th>\n",
       "    </tr>\n",
       "  </thead>\n",
       "  <tbody>\n",
       "    <tr>\n",
       "      <th>0</th>\n",
       "      <td>0.274136</td>\n",
       "    </tr>\n",
       "    <tr>\n",
       "      <th>1</th>\n",
       "      <td>0.462690</td>\n",
       "    </tr>\n",
       "    <tr>\n",
       "      <th>2</th>\n",
       "      <td>0.113499</td>\n",
       "    </tr>\n",
       "    <tr>\n",
       "      <th>3</th>\n",
       "      <td>0.286375</td>\n",
       "    </tr>\n",
       "    <tr>\n",
       "      <th>4</th>\n",
       "      <td>0.666402</td>\n",
       "    </tr>\n",
       "  </tbody>\n",
       "</table>\n",
       "</div>"
      ],
      "text/plain": [
       "       Junk\n",
       "0  0.274136\n",
       "1  0.462690\n",
       "2  0.113499\n",
       "3  0.286375\n",
       "4  0.666402"
      ]
     },
     "execution_count": 274,
     "metadata": {},
     "output_type": "execute_result"
    }
   ],
   "source": [
    "r.head()"
   ]
  },
  {
   "cell_type": "code",
   "execution_count": null,
   "metadata": {},
   "outputs": [],
   "source": []
  }
 ],
 "metadata": {
  "kernelspec": {
   "display_name": "Python 3",
   "language": "python",
   "name": "python3"
  },
  "language_info": {
   "codemirror_mode": {
    "name": "ipython",
    "version": 3
   },
   "file_extension": ".py",
   "mimetype": "text/x-python",
   "name": "python",
   "nbconvert_exporter": "python",
   "pygments_lexer": "ipython3",
   "version": "3.7.6"
  }
 },
 "nbformat": 4,
 "nbformat_minor": 4
}
